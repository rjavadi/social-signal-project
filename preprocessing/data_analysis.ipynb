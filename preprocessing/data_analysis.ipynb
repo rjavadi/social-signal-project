{
 "cells": [
  {
   "cell_type": "markdown",
   "metadata": {
    "collapsed": true,
    "pycharm": {
     "name": "#%% md\n"
    }
   },
   "source": [
    "## Remove duplicate lines"
   ]
  },
  {
   "cell_type": "code",
   "source": [
    "import pandas as pd\n",
    "import numpy as np\n",
    "import seaborn as sn\n",
    "import matplotlib.pyplot as plt"
   ],
   "metadata": {
    "collapsed": false,
    "pycharm": {
     "name": "#%%\n"
    }
   },
   "execution_count": 83,
   "outputs": []
  },
  {
   "cell_type": "code",
   "execution_count": 3,
   "outputs": [],
   "source": [
    "data = pd.read_csv(\"../new_data/annotation.csv\")\n",
    "\n",
    "# sorting by first name\n",
    "# data.sort_values(\"id\", inplace = True)\n",
    "\n",
    "# dropping ALL duplicte values\n",
    "data.drop_duplicates(subset =[\"filename\",\"emotions\",\"gender\",\"confidence\",\"comment\",\"emoji\",\"annotator_individuality\",\"intensity\"],\n",
    "                     keep = 'first', inplace = True)\n",
    "data.to_csv(\"../new_data/annotations_wo_dupes.csv\", index=False)"
   ],
   "metadata": {
    "collapsed": false,
    "pycharm": {
     "name": "#%%\n"
    }
   }
  },
  {
   "cell_type": "markdown",
   "source": [
    "## Separate NA and Persian annotations\n",
    "Also removes video culture column"
   ],
   "metadata": {
    "collapsed": false,
    "pycharm": {
     "name": "#%% md\n"
    }
   }
  },
  {
   "cell_type": "code",
   "execution_count": 4,
   "outputs": [],
   "source": [
    "data.drop(columns=['video_culture'], inplace=True)\n",
    "p_mask = data['annotator_culture'] == 'persian'\n",
    "na_mask = data['annotator_culture'] == 'north american'\n",
    "\n",
    "persian_data = data[p_mask]\n",
    "na_data = data[na_mask]\n",
    "persian_data.to_csv(\"../new_data/persian_annotations.csv\", index=False)\n",
    "na_data.to_csv(\"../new_data/na_annotations.csv\", index=False)"
   ],
   "metadata": {
    "collapsed": false,
    "pycharm": {
     "name": "#%%\n"
    }
   }
  },
  {
   "cell_type": "markdown",
   "source": [
    "## Duplicate lines with multiple labels"
   ],
   "metadata": {
    "collapsed": false,
    "pycharm": {
     "name": "#%% md\n"
    }
   }
  },
  {
   "cell_type": "code",
   "execution_count": 49,
   "outputs": [
    {
     "data": {
      "text/plain": "      id            filename  emotions     emoji  gender  confidence comment  \\\n0      1  persian/vid_58.mp4  contempt      none  female           3     NaN   \n1      1  persian/vid_58.mp4   disgust      none  female           3     NaN   \n2      2  persian/vid_27.mp4      none  unamused    male           5     NaN   \n3      3  persian/vid_89.mp4     anger    hatred  female           5     NaN   \n4      4  persian/vid_61.mp4   annoyed     angry  female           5     NaN   \n..   ...                 ...       ...       ...     ...         ...     ...   \n665  884  persian/vid_24.mp4  contempt     smirk  female           4     NaN   \n666  884  persian/vid_24.mp4   disgust     smirk  female           4     NaN   \n667  885  persian/vid_62.mp4   annoyed     angry  female           5     NaN   \n668  885  persian/vid_62.mp4   furious     angry  female           5     NaN   \n669  886  persian/vid_14.mp4      none      none  female           4     NaN   \n\n     intensity  \n0            2  \n1            2  \n2            5  \n3            2  \n4            4  \n..         ...  \n665          4  \n666          4  \n667          4  \n668          4  \n669          4  \n\n[670 rows x 8 columns]",
      "text/html": "<div>\n<style scoped>\n    .dataframe tbody tr th:only-of-type {\n        vertical-align: middle;\n    }\n\n    .dataframe tbody tr th {\n        vertical-align: top;\n    }\n\n    .dataframe thead th {\n        text-align: right;\n    }\n</style>\n<table border=\"1\" class=\"dataframe\">\n  <thead>\n    <tr style=\"text-align: right;\">\n      <th></th>\n      <th>id</th>\n      <th>filename</th>\n      <th>emotions</th>\n      <th>emoji</th>\n      <th>gender</th>\n      <th>confidence</th>\n      <th>comment</th>\n      <th>intensity</th>\n    </tr>\n  </thead>\n  <tbody>\n    <tr>\n      <th>0</th>\n      <td>1</td>\n      <td>persian/vid_58.mp4</td>\n      <td>contempt</td>\n      <td>none</td>\n      <td>female</td>\n      <td>3</td>\n      <td>NaN</td>\n      <td>2</td>\n    </tr>\n    <tr>\n      <th>1</th>\n      <td>1</td>\n      <td>persian/vid_58.mp4</td>\n      <td>disgust</td>\n      <td>none</td>\n      <td>female</td>\n      <td>3</td>\n      <td>NaN</td>\n      <td>2</td>\n    </tr>\n    <tr>\n      <th>2</th>\n      <td>2</td>\n      <td>persian/vid_27.mp4</td>\n      <td>none</td>\n      <td>unamused</td>\n      <td>male</td>\n      <td>5</td>\n      <td>NaN</td>\n      <td>5</td>\n    </tr>\n    <tr>\n      <th>3</th>\n      <td>3</td>\n      <td>persian/vid_89.mp4</td>\n      <td>anger</td>\n      <td>hatred</td>\n      <td>female</td>\n      <td>5</td>\n      <td>NaN</td>\n      <td>2</td>\n    </tr>\n    <tr>\n      <th>4</th>\n      <td>4</td>\n      <td>persian/vid_61.mp4</td>\n      <td>annoyed</td>\n      <td>angry</td>\n      <td>female</td>\n      <td>5</td>\n      <td>NaN</td>\n      <td>4</td>\n    </tr>\n    <tr>\n      <th>...</th>\n      <td>...</td>\n      <td>...</td>\n      <td>...</td>\n      <td>...</td>\n      <td>...</td>\n      <td>...</td>\n      <td>...</td>\n      <td>...</td>\n    </tr>\n    <tr>\n      <th>665</th>\n      <td>884</td>\n      <td>persian/vid_24.mp4</td>\n      <td>contempt</td>\n      <td>smirk</td>\n      <td>female</td>\n      <td>4</td>\n      <td>NaN</td>\n      <td>4</td>\n    </tr>\n    <tr>\n      <th>666</th>\n      <td>884</td>\n      <td>persian/vid_24.mp4</td>\n      <td>disgust</td>\n      <td>smirk</td>\n      <td>female</td>\n      <td>4</td>\n      <td>NaN</td>\n      <td>4</td>\n    </tr>\n    <tr>\n      <th>667</th>\n      <td>885</td>\n      <td>persian/vid_62.mp4</td>\n      <td>annoyed</td>\n      <td>angry</td>\n      <td>female</td>\n      <td>5</td>\n      <td>NaN</td>\n      <td>4</td>\n    </tr>\n    <tr>\n      <th>668</th>\n      <td>885</td>\n      <td>persian/vid_62.mp4</td>\n      <td>furious</td>\n      <td>angry</td>\n      <td>female</td>\n      <td>5</td>\n      <td>NaN</td>\n      <td>4</td>\n    </tr>\n    <tr>\n      <th>669</th>\n      <td>886</td>\n      <td>persian/vid_14.mp4</td>\n      <td>none</td>\n      <td>none</td>\n      <td>female</td>\n      <td>4</td>\n      <td>NaN</td>\n      <td>4</td>\n    </tr>\n  </tbody>\n</table>\n<p>670 rows × 8 columns</p>\n</div>"
     },
     "execution_count": 49,
     "metadata": {},
     "output_type": "execute_result"
    }
   ],
   "source": [
    "persian_data = pd.read_csv(\"../new_data/persian_annotations.csv\")\n",
    "cols = [\"id\", \"filename\",\"emotions\",\"emoji\",\"gender\",\"confidence\",\"comment\",\"intensity\"]\n",
    "contents = []\n",
    "for i in range(0, persian_data.shape[0]):\n",
    "    row = persian_data.iloc[i]\n",
    "    for emotion in row['emotions'].split(','):\n",
    "        # for emoji in row['emoji'].split(','):\n",
    "        contents.append([row[\"id\"], row[\"filename\"], emotion, row[\"emoji\"], row[\"gender\"], row[\"confidence\"],\n",
    "                         row[\"comment\"], row[\"intensity\"]])\n",
    "flattened_df = pd.DataFrame(columns=cols, data=contents)\n",
    "\n",
    "flattened_df"
   ],
   "metadata": {
    "collapsed": false,
    "pycharm": {
     "name": "#%%\n"
    }
   }
  },
  {
   "cell_type": "markdown",
   "source": [
    "### Flattening emojis into new columns"
   ],
   "metadata": {
    "collapsed": false,
    "pycharm": {
     "name": "#%% md\n"
    }
   }
  },
  {
   "cell_type": "code",
   "execution_count": 50,
   "outputs": [],
   "source": [
    "emoji_expanded = flattened_df['emoji'].str.split(',', expand=True)\n",
    "emoji_expanded.columns = ['emoji'+str(i) for i in emoji_expanded.columns]\n",
    "emoji_expanded\n",
    "flattened_df_concat = pd.concat([flattened_df,emoji_expanded], axis=1)"
   ],
   "metadata": {
    "collapsed": false,
    "pycharm": {
     "name": "#%%\n"
    }
   }
  },
  {
   "cell_type": "markdown",
   "source": [
    "## Voting"
   ],
   "metadata": {
    "collapsed": false,
    "pycharm": {
     "name": "#%% md\n"
    }
   }
  },
  {
   "cell_type": "code",
   "execution_count": 52,
   "outputs": [
    {
     "name": "stdout",
     "output_type": "stream",
     "text": [
      "                                     emotions\n",
      "filename           gender                    \n",
      "persian/vid_1.mp4  male               annoyed\n",
      "persian/vid_10.mp4 male      [contempt, none]\n",
      "persian/vid_11.mp4 male              contempt\n",
      "persian/vid_12.mp4 male      [contempt, none]\n",
      "persian/vid_13.mp4 male                 anger\n",
      "persian/vid_14.mp4 female                none\n",
      "persian/vid_15.mp4 male                hatred\n",
      "persian/vid_16.mp4 male              contempt\n",
      "persian/vid_17.mp4 male              contempt\n",
      "persian/vid_18.mp4 female             disgust\n",
      "persian/vid_19.mp4 male                  none\n",
      "persian/vid_2.mp4  male               annoyed\n",
      "persian/vid_20.mp4 male              contempt\n",
      "persian/vid_21.mp4 male                  none\n",
      "persian/vid_22.mp4 female             annoyed\n",
      "persian/vid_23.mp4 female            contempt\n",
      "persian/vid_24.mp4 female  [contempt, hatred]\n",
      "persian/vid_25.mp4 female                none\n",
      "persian/vid_26.mp4 female                none\n",
      "                   male               annoyed\n"
     ]
    },
    {
     "data": {
      "text/plain": "annoyed     134\nanger       131\ncontempt     97\nnone         91\nfurious      89\nhatred       74\ndisgust      54\nName: emotions, dtype: int64"
     },
     "execution_count": 52,
     "metadata": {},
     "output_type": "execute_result"
    }
   ],
   "source": [
    "labels_df = flattened_df.groupby(['filename', 'gender'])['emotions'].agg(pd.Series.mode).to_frame()\n",
    "\n",
    "print(labels_df.head(20))\n",
    "labels_df.to_csv(\"../new_data/labels.csv\")\n",
    "#\n",
    "flattened_df['emotions'].value_counts()"
   ],
   "metadata": {
    "collapsed": false,
    "pycharm": {
     "name": "#%%\n"
    }
   }
  },
  {
   "cell_type": "markdown",
   "source": [
    "### Average of reported intensity"
   ],
   "metadata": {
    "collapsed": false,
    "pycharm": {
     "name": "#%% md\n"
    }
   }
  },
  {
   "cell_type": "code",
   "execution_count": 56,
   "outputs": [
    {
     "data": {
      "text/plain": "                                           emotions  intensity\nfilename           gender                                     \npersian/vid_1.mp4  male                     annoyed   2.500000\npersian/vid_10.mp4 male            [contempt, none]   2.500000\npersian/vid_11.mp4 male                    contempt   2.625000\npersian/vid_12.mp4 male            [contempt, none]   2.400000\npersian/vid_13.mp4 male                       anger   1.750000\n...                                             ...        ...\npersian/vid_93.mp4 female                    hatred   3.666667\npersian/vid_94.mp4 male                        none   1.500000\npersian/vid_95.mp4 male    [contempt, hatred, none]   3.250000\npersian/vid_96.mp4 male                    contempt   2.200000\npersian/vid_97.mp4 male                    contempt   2.600000\n\n[98 rows x 2 columns]",
      "text/html": "<div>\n<style scoped>\n    .dataframe tbody tr th:only-of-type {\n        vertical-align: middle;\n    }\n\n    .dataframe tbody tr th {\n        vertical-align: top;\n    }\n\n    .dataframe thead th {\n        text-align: right;\n    }\n</style>\n<table border=\"1\" class=\"dataframe\">\n  <thead>\n    <tr style=\"text-align: right;\">\n      <th></th>\n      <th></th>\n      <th>emotions</th>\n      <th>intensity</th>\n    </tr>\n    <tr>\n      <th>filename</th>\n      <th>gender</th>\n      <th></th>\n      <th></th>\n    </tr>\n  </thead>\n  <tbody>\n    <tr>\n      <th>persian/vid_1.mp4</th>\n      <th>male</th>\n      <td>annoyed</td>\n      <td>2.500000</td>\n    </tr>\n    <tr>\n      <th>persian/vid_10.mp4</th>\n      <th>male</th>\n      <td>[contempt, none]</td>\n      <td>2.500000</td>\n    </tr>\n    <tr>\n      <th>persian/vid_11.mp4</th>\n      <th>male</th>\n      <td>contempt</td>\n      <td>2.625000</td>\n    </tr>\n    <tr>\n      <th>persian/vid_12.mp4</th>\n      <th>male</th>\n      <td>[contempt, none]</td>\n      <td>2.400000</td>\n    </tr>\n    <tr>\n      <th>persian/vid_13.mp4</th>\n      <th>male</th>\n      <td>anger</td>\n      <td>1.750000</td>\n    </tr>\n    <tr>\n      <th>...</th>\n      <th>...</th>\n      <td>...</td>\n      <td>...</td>\n    </tr>\n    <tr>\n      <th>persian/vid_93.mp4</th>\n      <th>female</th>\n      <td>hatred</td>\n      <td>3.666667</td>\n    </tr>\n    <tr>\n      <th>persian/vid_94.mp4</th>\n      <th>male</th>\n      <td>none</td>\n      <td>1.500000</td>\n    </tr>\n    <tr>\n      <th>persian/vid_95.mp4</th>\n      <th>male</th>\n      <td>[contempt, hatred, none]</td>\n      <td>3.250000</td>\n    </tr>\n    <tr>\n      <th>persian/vid_96.mp4</th>\n      <th>male</th>\n      <td>contempt</td>\n      <td>2.200000</td>\n    </tr>\n    <tr>\n      <th>persian/vid_97.mp4</th>\n      <th>male</th>\n      <td>contempt</td>\n      <td>2.600000</td>\n    </tr>\n  </tbody>\n</table>\n<p>98 rows × 2 columns</p>\n</div>"
     },
     "execution_count": 56,
     "metadata": {},
     "output_type": "execute_result"
    }
   ],
   "source": [
    "average_intensity = flattened_df.groupby(['filename', 'gender'])['intensity'].mean()\n",
    "labels_df = pd.concat([labels_df, average_intensity], axis=1)\n",
    "labels_df"
   ],
   "metadata": {
    "collapsed": false,
    "pycharm": {
     "name": "#%%\n"
    }
   }
  },
  {
   "cell_type": "code",
   "execution_count": 71,
   "outputs": [
    {
     "data": {
      "text/plain": "              filename  anger  annoyed  contempt  disgust  furious  hatred  \\\n0    persian/vid_1.mp4      0        3         0        1        0       0   \n1   persian/vid_10.mp4      0        1         2        1        0       0   \n2   persian/vid_11.mp4      0        2         3        1        0       0   \n3   persian/vid_12.mp4      0        1         2        0        0       0   \n4   persian/vid_13.mp4      4        1         0        0        1       1   \n..                 ...    ...      ...       ...      ...      ...     ...   \n91  persian/vid_93.mp4      3        0         1        2        2       4   \n92  persian/vid_94.mp4      1        1         1        0        0       0   \n93  persian/vid_95.mp4      1        1         2        0        0       2   \n94  persian/vid_96.mp4      0        0         3        0        1       0   \n95  persian/vid_97.mp4      0        0         4        0        0       0   \n\n    none  \n0      2  \n1      2  \n2      2  \n3      2  \n4      1  \n..   ...  \n91     0  \n92     3  \n93     2  \n94     1  \n95     1  \n\n[96 rows x 8 columns]",
      "text/html": "<div>\n<style scoped>\n    .dataframe tbody tr th:only-of-type {\n        vertical-align: middle;\n    }\n\n    .dataframe tbody tr th {\n        vertical-align: top;\n    }\n\n    .dataframe thead th {\n        text-align: right;\n    }\n</style>\n<table border=\"1\" class=\"dataframe\">\n  <thead>\n    <tr style=\"text-align: right;\">\n      <th></th>\n      <th>filename</th>\n      <th>anger</th>\n      <th>annoyed</th>\n      <th>contempt</th>\n      <th>disgust</th>\n      <th>furious</th>\n      <th>hatred</th>\n      <th>none</th>\n    </tr>\n  </thead>\n  <tbody>\n    <tr>\n      <th>0</th>\n      <td>persian/vid_1.mp4</td>\n      <td>0</td>\n      <td>3</td>\n      <td>0</td>\n      <td>1</td>\n      <td>0</td>\n      <td>0</td>\n      <td>2</td>\n    </tr>\n    <tr>\n      <th>1</th>\n      <td>persian/vid_10.mp4</td>\n      <td>0</td>\n      <td>1</td>\n      <td>2</td>\n      <td>1</td>\n      <td>0</td>\n      <td>0</td>\n      <td>2</td>\n    </tr>\n    <tr>\n      <th>2</th>\n      <td>persian/vid_11.mp4</td>\n      <td>0</td>\n      <td>2</td>\n      <td>3</td>\n      <td>1</td>\n      <td>0</td>\n      <td>0</td>\n      <td>2</td>\n    </tr>\n    <tr>\n      <th>3</th>\n      <td>persian/vid_12.mp4</td>\n      <td>0</td>\n      <td>1</td>\n      <td>2</td>\n      <td>0</td>\n      <td>0</td>\n      <td>0</td>\n      <td>2</td>\n    </tr>\n    <tr>\n      <th>4</th>\n      <td>persian/vid_13.mp4</td>\n      <td>4</td>\n      <td>1</td>\n      <td>0</td>\n      <td>0</td>\n      <td>1</td>\n      <td>1</td>\n      <td>1</td>\n    </tr>\n    <tr>\n      <th>...</th>\n      <td>...</td>\n      <td>...</td>\n      <td>...</td>\n      <td>...</td>\n      <td>...</td>\n      <td>...</td>\n      <td>...</td>\n      <td>...</td>\n    </tr>\n    <tr>\n      <th>91</th>\n      <td>persian/vid_93.mp4</td>\n      <td>3</td>\n      <td>0</td>\n      <td>1</td>\n      <td>2</td>\n      <td>2</td>\n      <td>4</td>\n      <td>0</td>\n    </tr>\n    <tr>\n      <th>92</th>\n      <td>persian/vid_94.mp4</td>\n      <td>1</td>\n      <td>1</td>\n      <td>1</td>\n      <td>0</td>\n      <td>0</td>\n      <td>0</td>\n      <td>3</td>\n    </tr>\n    <tr>\n      <th>93</th>\n      <td>persian/vid_95.mp4</td>\n      <td>1</td>\n      <td>1</td>\n      <td>2</td>\n      <td>0</td>\n      <td>0</td>\n      <td>2</td>\n      <td>2</td>\n    </tr>\n    <tr>\n      <th>94</th>\n      <td>persian/vid_96.mp4</td>\n      <td>0</td>\n      <td>0</td>\n      <td>3</td>\n      <td>0</td>\n      <td>1</td>\n      <td>0</td>\n      <td>1</td>\n    </tr>\n    <tr>\n      <th>95</th>\n      <td>persian/vid_97.mp4</td>\n      <td>0</td>\n      <td>0</td>\n      <td>4</td>\n      <td>0</td>\n      <td>0</td>\n      <td>0</td>\n      <td>1</td>\n    </tr>\n  </tbody>\n</table>\n<p>96 rows × 8 columns</p>\n</div>"
     },
     "execution_count": 71,
     "metadata": {},
     "output_type": "execute_result"
    }
   ],
   "source": [
    "df = flattened_df.groupby(['filename', 'emotions'])['emotions'].count()\\\n",
    "    .unstack(fill_value=0) \\\n",
    "    .reset_index() \\\n",
    "    .rename_axis(None, axis=1)\n",
    "# flattened_df['emotions'].unique()\n",
    "df"
   ],
   "metadata": {
    "collapsed": false,
    "pycharm": {
     "name": "#%%\n"
    }
   }
  },
  {
   "cell_type": "code",
   "execution_count": 85,
   "outputs": [
    {
     "data": {
      "text/plain": "             anger   annoyed  contempt   disgust   furious    hatred      none\nanger     1.000000 -0.058781 -0.400690 -0.170590  0.371841  0.319699 -0.537176\nannoyed  -0.058781  1.000000 -0.315634  0.115000 -0.153939 -0.198191 -0.122242\ncontempt -0.400690 -0.315634  1.000000  0.152478 -0.417921 -0.131181  0.166083\ndisgust  -0.170590  0.115000  0.152478  1.000000 -0.111244  0.169772 -0.243032\nfurious   0.371841 -0.153939 -0.417921 -0.111244  1.000000  0.267434 -0.465288\nhatred    0.319699 -0.198191 -0.131181  0.169772  0.267434  1.000000 -0.372277\nnone     -0.537176 -0.122242  0.166083 -0.243032 -0.465288 -0.372277  1.000000",
      "text/html": "<div>\n<style scoped>\n    .dataframe tbody tr th:only-of-type {\n        vertical-align: middle;\n    }\n\n    .dataframe tbody tr th {\n        vertical-align: top;\n    }\n\n    .dataframe thead th {\n        text-align: right;\n    }\n</style>\n<table border=\"1\" class=\"dataframe\">\n  <thead>\n    <tr style=\"text-align: right;\">\n      <th></th>\n      <th>anger</th>\n      <th>annoyed</th>\n      <th>contempt</th>\n      <th>disgust</th>\n      <th>furious</th>\n      <th>hatred</th>\n      <th>none</th>\n    </tr>\n  </thead>\n  <tbody>\n    <tr>\n      <th>anger</th>\n      <td>1.000000</td>\n      <td>-0.058781</td>\n      <td>-0.400690</td>\n      <td>-0.170590</td>\n      <td>0.371841</td>\n      <td>0.319699</td>\n      <td>-0.537176</td>\n    </tr>\n    <tr>\n      <th>annoyed</th>\n      <td>-0.058781</td>\n      <td>1.000000</td>\n      <td>-0.315634</td>\n      <td>0.115000</td>\n      <td>-0.153939</td>\n      <td>-0.198191</td>\n      <td>-0.122242</td>\n    </tr>\n    <tr>\n      <th>contempt</th>\n      <td>-0.400690</td>\n      <td>-0.315634</td>\n      <td>1.000000</td>\n      <td>0.152478</td>\n      <td>-0.417921</td>\n      <td>-0.131181</td>\n      <td>0.166083</td>\n    </tr>\n    <tr>\n      <th>disgust</th>\n      <td>-0.170590</td>\n      <td>0.115000</td>\n      <td>0.152478</td>\n      <td>1.000000</td>\n      <td>-0.111244</td>\n      <td>0.169772</td>\n      <td>-0.243032</td>\n    </tr>\n    <tr>\n      <th>furious</th>\n      <td>0.371841</td>\n      <td>-0.153939</td>\n      <td>-0.417921</td>\n      <td>-0.111244</td>\n      <td>1.000000</td>\n      <td>0.267434</td>\n      <td>-0.465288</td>\n    </tr>\n    <tr>\n      <th>hatred</th>\n      <td>0.319699</td>\n      <td>-0.198191</td>\n      <td>-0.131181</td>\n      <td>0.169772</td>\n      <td>0.267434</td>\n      <td>1.000000</td>\n      <td>-0.372277</td>\n    </tr>\n    <tr>\n      <th>none</th>\n      <td>-0.537176</td>\n      <td>-0.122242</td>\n      <td>0.166083</td>\n      <td>-0.243032</td>\n      <td>-0.465288</td>\n      <td>-0.372277</td>\n      <td>1.000000</td>\n    </tr>\n  </tbody>\n</table>\n</div>"
     },
     "execution_count": 85,
     "metadata": {},
     "output_type": "execute_result"
    }
   ],
   "source": [
    "emotions_corr = df.corr(method = \"pearson\")\n",
    "emotions_corr\n",
    "\n",
    "# fig, ax = plt.subplots(figsize = (9,5))\n",
    "# sn.heatmap(emotions_corr, cmap = \"Blues\")\n",
    "# plt.xticks(rotation=50)\n",
    "# plt.savefig(\"heatmap.png\", dpi = 300)"
   ],
   "metadata": {
    "collapsed": false,
    "pycharm": {
     "name": "#%%\n"
    }
   }
  },
  {
   "cell_type": "code",
   "execution_count": 76,
   "outputs": [
    {
     "name": "stdout",
     "output_type": "stream",
     "text": [
      "Krippendorff's alpha for nominal metric:  0.07589428340718574\n"
     ]
    }
   ],
   "source": [
    "import krippendorff\n",
    "print(\"Krippendorff's alpha for nominal metric: \", krippendorff.alpha(value_counts=df.drop('filename', axis=1).values,\n",
    "                                                                          level_of_measurement='nominal'))\n"
   ],
   "metadata": {
    "collapsed": false,
    "pycharm": {
     "name": "#%%\n"
    }
   }
  }
 ],
 "metadata": {
  "kernelspec": {
   "display_name": "Python 3",
   "language": "python",
   "name": "python3"
  },
  "language_info": {
   "codemirror_mode": {
    "name": "ipython",
    "version": 2
   },
   "file_extension": ".py",
   "mimetype": "text/x-python",
   "name": "python",
   "nbconvert_exporter": "python",
   "pygments_lexer": "ipython2",
   "version": "2.7.6"
  }
 },
 "nbformat": 4,
 "nbformat_minor": 0
}