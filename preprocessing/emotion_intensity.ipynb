{
 "metadata": {
  "language_info": {
   "codemirror_mode": {
    "name": "ipython",
    "version": 3
   },
   "file_extension": ".py",
   "mimetype": "text/x-python",
   "name": "python",
   "nbconvert_exporter": "python",
   "pygments_lexer": "ipython3",
   "version": "3.8.5"
  },
  "orig_nbformat": 2,
  "kernelspec": {
   "name": "python3",
   "display_name": "Python 3.8.5 64-bit ('base': conda)",
   "metadata": {
    "interpreter": {
     "hash": "f472ea7aacf6fb81aea7906a2b468b272532d7c365023e449c0c079e8fc6152b"
    }
   }
  }
 },
 "nbformat": 4,
 "nbformat_minor": 2,
 "cells": [
  {
   "cell_type": "code",
   "execution_count": 1,
   "metadata": {},
   "outputs": [],
   "source": [
    "import pandas as pd\n",
    "import numpy as np\n",
    "import seaborn as sn\n",
    "import matplotlib.pyplot as plt"
   ]
  },
  {
   "cell_type": "code",
   "execution_count": 2,
   "metadata": {},
   "outputs": [],
   "source": [
    "data = pd.read_csv(\"../new_data/persian_annotations.csv\")\n",
    "cols = [\"id\", \"filename\",\"emotions\",\"emoji\",\"gender\",\"confidence\",\"comment\",\"intensity\"]\n",
    "\n",
    "## Flattening data\n",
    "contents = []\n",
    "for i in range(0, data.shape[0]):\n",
    "    row = data.iloc[i]\n",
    "    for emotion in row['emotions'].split(','):\n",
    "        # for emoji in row['emoji'].split(','):\n",
    "        contents.append([row[\"id\"], row[\"filename\"], emotion, row['emoji'], row[\"gender\"], row[\"confidence\"],\n",
    "                     row[\"comment\"], row[\"intensity\"]])\n",
    "flattened_df = pd.DataFrame(columns=cols, data=contents)"
   ]
  },
  {
   "cell_type": "code",
   "execution_count": 3,
   "metadata": {},
   "outputs": [],
   "source": [
    "labels_df = pd.read_csv(\"../new_data/labels.csv\", index_col='filename')\n",
    "labels_df['emotions'] = labels_df['emotions'].apply(eval)\n"
   ]
  },
  {
   "cell_type": "code",
   "execution_count": 4,
   "metadata": {},
   "outputs": [],
   "source": [
    "average_intensity = flattened_df.groupby(['filename'])['intensity'].mean()\n",
    "average_confidence = flattened_df.groupby(['filename'])['confidence'].mean()"
   ]
  },
  {
   "cell_type": "code",
   "execution_count": 5,
   "metadata": {},
   "outputs": [],
   "source": [
    "labels_df = pd.concat([labels_df, average_intensity, average_confidence], axis=1)"
   ]
  },
  {
   "cell_type": "code",
   "execution_count": 6,
   "metadata": {},
   "outputs": [
    {
     "output_type": "execute_result",
     "data": {
      "text/plain": [
       "               filename   emotion  intensity  confidence\n",
       "0     persian/vid_1.mp4   annoyed      2.500    4.000000\n",
       "1    persian/vid_10.mp4  contempt      2.500    3.666667\n",
       "2    persian/vid_11.mp4  contempt      2.625    3.625000\n",
       "3    persian/vid_12.mp4  contempt      2.400    4.000000\n",
       "4    persian/vid_13.mp4     anger      1.750    4.250000\n",
       "..                  ...       ...        ...         ...\n",
       "116  persian/vid_94.mp4      none      1.500    3.000000\n",
       "117  persian/vid_95.mp4  contempt      3.250    4.375000\n",
       "118  persian/vid_95.mp4    hatred      3.250    4.375000\n",
       "119  persian/vid_96.mp4  contempt      2.200    3.200000\n",
       "120  persian/vid_97.mp4  contempt      2.600    4.600000\n",
       "\n",
       "[121 rows x 4 columns]"
      ],
      "text/html": "<div>\n<style scoped>\n    .dataframe tbody tr th:only-of-type {\n        vertical-align: middle;\n    }\n\n    .dataframe tbody tr th {\n        vertical-align: top;\n    }\n\n    .dataframe thead th {\n        text-align: right;\n    }\n</style>\n<table border=\"1\" class=\"dataframe\">\n  <thead>\n    <tr style=\"text-align: right;\">\n      <th></th>\n      <th>filename</th>\n      <th>emotion</th>\n      <th>intensity</th>\n      <th>confidence</th>\n    </tr>\n  </thead>\n  <tbody>\n    <tr>\n      <th>0</th>\n      <td>persian/vid_1.mp4</td>\n      <td>annoyed</td>\n      <td>2.500</td>\n      <td>4.000000</td>\n    </tr>\n    <tr>\n      <th>1</th>\n      <td>persian/vid_10.mp4</td>\n      <td>contempt</td>\n      <td>2.500</td>\n      <td>3.666667</td>\n    </tr>\n    <tr>\n      <th>2</th>\n      <td>persian/vid_11.mp4</td>\n      <td>contempt</td>\n      <td>2.625</td>\n      <td>3.625000</td>\n    </tr>\n    <tr>\n      <th>3</th>\n      <td>persian/vid_12.mp4</td>\n      <td>contempt</td>\n      <td>2.400</td>\n      <td>4.000000</td>\n    </tr>\n    <tr>\n      <th>4</th>\n      <td>persian/vid_13.mp4</td>\n      <td>anger</td>\n      <td>1.750</td>\n      <td>4.250000</td>\n    </tr>\n    <tr>\n      <th>...</th>\n      <td>...</td>\n      <td>...</td>\n      <td>...</td>\n      <td>...</td>\n    </tr>\n    <tr>\n      <th>116</th>\n      <td>persian/vid_94.mp4</td>\n      <td>none</td>\n      <td>1.500</td>\n      <td>3.000000</td>\n    </tr>\n    <tr>\n      <th>117</th>\n      <td>persian/vid_95.mp4</td>\n      <td>contempt</td>\n      <td>3.250</td>\n      <td>4.375000</td>\n    </tr>\n    <tr>\n      <th>118</th>\n      <td>persian/vid_95.mp4</td>\n      <td>hatred</td>\n      <td>3.250</td>\n      <td>4.375000</td>\n    </tr>\n    <tr>\n      <th>119</th>\n      <td>persian/vid_96.mp4</td>\n      <td>contempt</td>\n      <td>2.200</td>\n      <td>3.200000</td>\n    </tr>\n    <tr>\n      <th>120</th>\n      <td>persian/vid_97.mp4</td>\n      <td>contempt</td>\n      <td>2.600</td>\n      <td>4.600000</td>\n    </tr>\n  </tbody>\n</table>\n<p>121 rows × 4 columns</p>\n</div>"
     },
     "metadata": {},
     "execution_count": 6
    }
   ],
   "source": [
    "contents = []\n",
    "for idx in labels_df.index:\n",
    "    row = labels_df.loc[idx]\n",
    "    # print(i)\n",
    "    for emotion in row['emotions']:\n",
    "        contents.append([idx, emotion, row['intensity'], row['confidence']])\n",
    "\n",
    "intensity_flattened = pd.DataFrame(columns=['filename', 'emotion', 'intensity', 'confidence'], data=contents)\n",
    "intensity_flattened"
   ]
  },
  {
   "cell_type": "code",
   "execution_count": 7,
   "metadata": {},
   "outputs": [
    {
     "output_type": "execute_result",
     "data": {
      "text/plain": [
       "emotion\n",
       "anger       3.368044\n",
       "annoyed     3.038476\n",
       "contempt    2.903950\n",
       "disgust     3.665476\n",
       "furious     4.053129\n",
       "hatred      3.635839\n",
       "none        2.397436\n",
       "Name: intensity, dtype: float64"
      ]
     },
     "metadata": {},
     "execution_count": 7
    }
   ],
   "source": [
    "intensity_flattened.groupby('emotion')['intensity'].mean()"
   ]
  },
  {
   "cell_type": "code",
   "execution_count": 8,
   "metadata": {},
   "outputs": [
    {
     "output_type": "execute_result",
     "data": {
      "text/plain": [
       "emotion\n",
       "anger       4.256919\n",
       "annoyed     3.925810\n",
       "contempt    3.944300\n",
       "disgust     3.733333\n",
       "furious     4.358187\n",
       "hatred      4.197711\n",
       "none        3.678022\n",
       "Name: confidence, dtype: float64"
      ]
     },
     "metadata": {},
     "execution_count": 8
    }
   ],
   "source": [
    "intensity_flattened.groupby('emotion')['confidence'].mean()"
   ]
  },
  {
   "cell_type": "code",
   "execution_count": 9,
   "metadata": {},
   "outputs": [
    {
     "output_type": "execute_result",
     "data": {
      "text/plain": [
       "emotion\n",
       "anger       1.000664\n",
       "annoyed     0.746227\n",
       "contempt    0.646251\n",
       "disgust     0.525707\n",
       "furious     0.666715\n",
       "hatred      0.847337\n",
       "none        0.652128\n",
       "Name: intensity, dtype: float64"
      ]
     },
     "metadata": {},
     "execution_count": 9
    }
   ],
   "source": [
    "intensity_flattened.groupby('emotion')['intensity'].std()"
   ]
  },
  {
   "cell_type": "code",
   "execution_count": 10,
   "metadata": {},
   "outputs": [
    {
     "output_type": "execute_result",
     "data": {
      "text/plain": [
       "emotion\n",
       "anger       0.391700\n",
       "annoyed     0.511165\n",
       "contempt    0.374781\n",
       "disgust     0.296139\n",
       "furious     0.380295\n",
       "hatred      0.363111\n",
       "none        0.523126\n",
       "Name: confidence, dtype: float64"
      ]
     },
     "metadata": {},
     "execution_count": 10
    }
   ],
   "source": [
    "intensity_flattened.groupby('emotion')['confidence'].std()"
   ]
  },
  {
   "cell_type": "code",
   "execution_count": null,
   "metadata": {},
   "outputs": [],
   "source": []
  }
 ]
}