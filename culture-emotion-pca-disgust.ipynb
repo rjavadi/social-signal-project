{
 "cells": [
  {
   "cell_type": "code",
   "execution_count": 1,
   "metadata": {
    "collapsed": true
   },
   "outputs": [],
   "source": [
    "import pandas as pd\n",
    "import numpy as np\n",
    "import matplotlib.pyplot as plt\n",
    "from sklearn.decomposition import PCA\n",
    "from sklearn.preprocessing import LabelEncoder"
   ]
  },
  {
   "cell_type": "markdown",
   "source": [
    "https://towardsdatascience.com/pca-clearly-explained-how-when-why-to-use-it-and-feature-importance-a-guide-in-python-7c274582c37e\n",
    "https://shankarmsy.github.io/posts/pca-sklearn.html\n",
    "https://stats.stackexchange.com/questions/311908/what-is-pca-components-in-sk-learn"
   ],
   "metadata": {
    "collapsed": false,
    "pycharm": {
     "name": "#%% md\n"
    }
   }
  },
  {
   "cell_type": "code",
   "execution_count": 2,
   "outputs": [],
   "source": [
    "# Read csv\n",
    "X_df = pd.read_csv('./videos_relabelled.csv', index_col=None)"
   ],
   "metadata": {
    "collapsed": false,
    "pycharm": {
     "name": "#%%\n"
    }
   }
  },
  {
   "cell_type": "markdown",
   "source": [
    "## North America"
   ],
   "metadata": {
    "collapsed": false,
    "pycharm": {
     "name": "#%% md\n"
    }
   }
  },
  {
   "cell_type": "code",
   "execution_count": 3,
   "outputs": [
    {
     "name": "stdout",
     "output_type": "stream",
     "text": [
      "Index(['AU01_r', 'AU02_r', 'AU04_r', 'AU05_r', 'AU06_r', 'AU07_r', 'AU09_r',\n",
      "       'AU10_r', 'AU12_r', 'AU14_r', 'AU15_r', 'AU17_r', 'AU23_r', 'AU25_r',\n",
      "       'AU26_r', 'AU45_r'],\n",
      "      dtype='object')\n"
     ]
    }
   ],
   "source": [
    "df = X_df[(X_df.emotion == 'disgust') & (X_df.culture == 'North America')]\n",
    "au_values_df = df.drop(columns = ['success','confidence', 'face_id','frame', 'culture','filename', 'emotion', 'gender', 'talking'])\n",
    "le = LabelEncoder()\n",
    "# mean normalization - Pandas automatically applies colomn-wise function in the code above.\n",
    "# normalized_df=(au_values_df-au_values_df.mean())/au_values_df.std()\n",
    "normalized_df=(au_values_df-au_values_df.min())/(au_values_df.max()-au_values_df.min())\n",
    "pca = PCA(n_components=3)\n",
    "pca_anger = pca.fit_transform(normalized_df.values)\n",
    "# pca_anger.components_\n",
    "feature_names = au_values_df.columns\n",
    "print(feature_names)"
   ],
   "metadata": {
    "collapsed": false,
    "pycharm": {
     "name": "#%%\n"
    }
   }
  },
  {
   "cell_type": "markdown",
   "source": [
    "## Print PCs for NA"
   ],
   "metadata": {
    "collapsed": false,
    "pycharm": {
     "name": "#%% md\n"
    }
   }
  },
  {
   "cell_type": "code",
   "execution_count": 4,
   "outputs": [
    {
     "name": "stdout",
     "output_type": "stream",
     "text": [
      "[[-0.148 -0.056 -0.013 -0.141  0.526  0.427  0.277  0.384  0.375  0.204\n",
      "  -0.057 -0.012  0.015  0.273  0.093 -0.054]\n",
      " [ 0.25  -0.093  0.834 -0.029 -0.043 -0.002 -0.101  0.336 -0.067 -0.066\n",
      "  -0.064  0.134 -0.006 -0.022 -0.111 -0.253]\n",
      " [ 0.066  0.007  0.018 -0.203  0.168 -0.216 -0.095  0.081  0.339  0.26\n",
      "  -0.124  0.21   0.045 -0.541 -0.353  0.45 ]]\n",
      "Explained Variance:\n",
      "[0.249 0.145 0.118]\n"
     ]
    }
   ],
   "source": [
    "np.set_printoptions(precision=3, suppress=True)\n",
    "print(pca.components_)\n",
    "print(\"Explained Variance:\")\n",
    "print(pca.explained_variance_ratio_)\n",
    "n_pcs= pca.components_.shape[0]\n",
    "most_important = [np.abs(pca.components_[i]).argmax() for i in range(n_pcs)]\n",
    "most_important_names = [feature_names[most_important[i]] for i in range(n_pcs)]\n",
    "dic = {'PC{}'.format(i): most_important_names[i] for i in range(n_pcs)}\n",
    "feat_df = pd.DataFrame(dic.items())\n"
   ],
   "metadata": {
    "collapsed": false,
    "pycharm": {
     "name": "#%%\n"
    }
   }
  },
  {
   "cell_type": "code",
   "execution_count": 5,
   "outputs": [
    {
     "data": {
      "text/plain": "     0       1\n0  PC0  AU06_r\n1  PC1  AU04_r\n2  PC2  AU25_r",
      "text/html": "<div>\n<style scoped>\n    .dataframe tbody tr th:only-of-type {\n        vertical-align: middle;\n    }\n\n    .dataframe tbody tr th {\n        vertical-align: top;\n    }\n\n    .dataframe thead th {\n        text-align: right;\n    }\n</style>\n<table border=\"1\" class=\"dataframe\">\n  <thead>\n    <tr style=\"text-align: right;\">\n      <th></th>\n      <th>0</th>\n      <th>1</th>\n    </tr>\n  </thead>\n  <tbody>\n    <tr>\n      <th>0</th>\n      <td>PC0</td>\n      <td>AU06_r</td>\n    </tr>\n    <tr>\n      <th>1</th>\n      <td>PC1</td>\n      <td>AU04_r</td>\n    </tr>\n    <tr>\n      <th>2</th>\n      <td>PC2</td>\n      <td>AU25_r</td>\n    </tr>\n  </tbody>\n</table>\n</div>"
     },
     "execution_count": 5,
     "metadata": {},
     "output_type": "execute_result"
    }
   ],
   "source": [
    "feat_df"
   ],
   "metadata": {
    "collapsed": false,
    "pycharm": {
     "name": "#%%\n"
    }
   }
  },
  {
   "cell_type": "markdown",
   "source": [
    "##  Persian"
   ],
   "metadata": {
    "collapsed": false,
    "pycharm": {
     "name": "#%% md\n"
    }
   }
  },
  {
   "cell_type": "code",
   "execution_count": 6,
   "outputs": [
    {
     "name": "stdout",
     "output_type": "stream",
     "text": [
      "Index(['AU01_r', 'AU02_r', 'AU04_r', 'AU05_r', 'AU06_r', 'AU07_r', 'AU09_r',\n",
      "       'AU10_r', 'AU12_r', 'AU14_r', 'AU15_r', 'AU17_r', 'AU23_r', 'AU25_r',\n",
      "       'AU26_r', 'AU45_r'],\n",
      "      dtype='object')\n"
     ]
    }
   ],
   "source": [
    "df = X_df[(X_df.emotion == 'disgust') & (X_df.culture == 'Persian')]\n",
    "au_values_df = df.drop(columns = ['success','confidence', 'face_id','frame', 'culture','filename', 'emotion', 'gender', 'talking'])\n",
    "le = LabelEncoder()\n",
    "# mean normalization - Pandas automatically applies colomn-wise function in the code above.\n",
    "# normalized_df=(au_values_df-au_values_df.mean())/au_values_df.std()\n",
    "normalized_df=(au_values_df-au_values_df.min())/(au_values_df.max()-au_values_df.min())\n",
    "pca = PCA(n_components=3)\n",
    "pca_anger = pca.fit_transform(normalized_df.values)\n",
    "# pca_anger.components_\n",
    "feature_names = au_values_df.columns\n",
    "print(feature_names)"
   ],
   "metadata": {
    "collapsed": false,
    "pycharm": {
     "name": "#%%\n"
    }
   }
  },
  {
   "cell_type": "code",
   "execution_count": 7,
   "outputs": [
    {
     "name": "stdout",
     "output_type": "stream",
     "text": [
      "[[ 0.084  0.103  0.395  0.272  0.389 -0.086  0.105  0.414  0.44   0.176\n",
      "   0.216  0.341 -0.008  0.066 -0.132  0.043]\n",
      " [-0.162 -0.18  -0.155 -0.432  0.106  0.366  0.356  0.154 -0.236  0.064\n",
      "   0.416  0.26   0.041 -0.214 -0.124  0.268]\n",
      " [-0.249 -0.181 -0.076 -0.075  0.346  0.341  0.229  0.14   0.154  0.203\n",
      "  -0.237 -0.453 -0.065  0.468  0.177 -0.063]]\n",
      "Explained Variance:\n",
      "[0.302 0.197 0.128]\n"
     ]
    }
   ],
   "source": [
    "np.set_printoptions(precision=3, suppress=True)\n",
    "print(pca.components_)\n",
    "print(\"Explained Variance:\")\n",
    "print(pca.explained_variance_ratio_)\n",
    "n_pcs= pca.components_.shape[0]\n",
    "most_important = [np.abs(pca.components_[i]).argmax() for i in range(n_pcs)]\n",
    "most_important_names = [feature_names[most_important[i]] for i in range(n_pcs)]\n",
    "dic = {'PC{}'.format(i): most_important_names[i] for i in range(n_pcs)}\n",
    "feat_df = pd.DataFrame(dic.items())"
   ],
   "metadata": {
    "collapsed": false,
    "pycharm": {
     "name": "#%%\n"
    }
   }
  },
  {
   "cell_type": "code",
   "execution_count": 8,
   "outputs": [
    {
     "data": {
      "text/plain": "     0       1\n0  PC0  AU12_r\n1  PC1  AU05_r\n2  PC2  AU25_r",
      "text/html": "<div>\n<style scoped>\n    .dataframe tbody tr th:only-of-type {\n        vertical-align: middle;\n    }\n\n    .dataframe tbody tr th {\n        vertical-align: top;\n    }\n\n    .dataframe thead th {\n        text-align: right;\n    }\n</style>\n<table border=\"1\" class=\"dataframe\">\n  <thead>\n    <tr style=\"text-align: right;\">\n      <th></th>\n      <th>0</th>\n      <th>1</th>\n    </tr>\n  </thead>\n  <tbody>\n    <tr>\n      <th>0</th>\n      <td>PC0</td>\n      <td>AU12_r</td>\n    </tr>\n    <tr>\n      <th>1</th>\n      <td>PC1</td>\n      <td>AU05_r</td>\n    </tr>\n    <tr>\n      <th>2</th>\n      <td>PC2</td>\n      <td>AU25_r</td>\n    </tr>\n  </tbody>\n</table>\n</div>"
     },
     "execution_count": 8,
     "metadata": {},
     "output_type": "execute_result"
    }
   ],
   "source": [
    "feat_df"
   ],
   "metadata": {
    "collapsed": false,
    "pycharm": {
     "name": "#%%\n"
    }
   }
  },
  {
   "cell_type": "markdown",
   "source": [
    "## Philippines"
   ],
   "metadata": {
    "collapsed": false
   }
  },
  {
   "cell_type": "code",
   "execution_count": 9,
   "outputs": [
    {
     "name": "stdout",
     "output_type": "stream",
     "text": [
      "Index(['AU01_r', 'AU02_r', 'AU04_r', 'AU05_r', 'AU06_r', 'AU07_r', 'AU09_r',\n",
      "       'AU10_r', 'AU12_r', 'AU14_r', 'AU15_r', 'AU17_r', 'AU23_r', 'AU25_r',\n",
      "       'AU26_r', 'AU45_r'],\n",
      "      dtype='object')\n"
     ]
    }
   ],
   "source": [
    "df = X_df[(X_df.emotion == 'disgust') & (X_df.culture == 'Philippines')]\n",
    "au_values_df = df.drop(columns = ['success','confidence', 'face_id','frame', 'culture','filename', 'emotion', 'gender', 'talking'])\n",
    "le = LabelEncoder()\n",
    "# mean normalization - Pandas automatically applies colomn-wise function in the code above.\n",
    "# normalized_df=(au_values_df-au_values_df.mean())/au_values_df.std()\n",
    "normalized_df=(au_values_df-au_values_df.min())/(au_values_df.max()-au_values_df.min())\n",
    "pca = PCA(n_components=3)\n",
    "pca_anger = pca.fit_transform(normalized_df.values)\n",
    "# pca_anger.components_\n",
    "feature_names = au_values_df.columns\n",
    "print(feature_names)\n"
   ],
   "metadata": {
    "collapsed": false,
    "pycharm": {
     "name": "#%%\n"
    }
   }
  },
  {
   "cell_type": "code",
   "execution_count": 10,
   "outputs": [
    {
     "name": "stdout",
     "output_type": "stream",
     "text": [
      "[[ 0.16  -0.201  0.491 -0.146  0.418  0.309  0.234  0.441  0.145  0.17\n",
      "   0.073  0.009  0.001  0.264  0.162  0.033]\n",
      " [-0.168 -0.411  0.176 -0.036 -0.094 -0.043 -0.081 -0.02  -0.098  0.163\n",
      "   0.534  0.485  0.141 -0.314 -0.268  0.08 ]\n",
      " [ 0.76   0.166  0.311  0.171 -0.187 -0.116 -0.428  0.044  0.013  0.084\n",
      "  -0.032  0.072  0.022 -0.091 -0.087  0.074]]\n",
      "Explained Variance:\n",
      "[0.254 0.143 0.116]\n"
     ]
    }
   ],
   "source": [
    "np.set_printoptions(precision=3, suppress=True)\n",
    "print(pca.components_)\n",
    "print(\"Explained Variance:\")\n",
    "print(pca.explained_variance_ratio_)\n",
    "n_pcs= pca.components_.shape[0]\n",
    "most_important = [np.abs(pca.components_[i]).argmax() for i in range(n_pcs)]\n",
    "most_important_names = [feature_names[most_important[i]] for i in range(n_pcs)]\n",
    "dic = {'PC{}'.format(i): most_important_names[i] for i in range(n_pcs)}\n",
    "feat_df = pd.DataFrame(dic.items())"
   ],
   "metadata": {
    "collapsed": false,
    "pycharm": {
     "name": "#%%\n"
    }
   }
  },
  {
   "cell_type": "code",
   "execution_count": 11,
   "outputs": [
    {
     "data": {
      "text/plain": "     0       1\n0  PC0  AU04_r\n1  PC1  AU15_r\n2  PC2  AU01_r",
      "text/html": "<div>\n<style scoped>\n    .dataframe tbody tr th:only-of-type {\n        vertical-align: middle;\n    }\n\n    .dataframe tbody tr th {\n        vertical-align: top;\n    }\n\n    .dataframe thead th {\n        text-align: right;\n    }\n</style>\n<table border=\"1\" class=\"dataframe\">\n  <thead>\n    <tr style=\"text-align: right;\">\n      <th></th>\n      <th>0</th>\n      <th>1</th>\n    </tr>\n  </thead>\n  <tbody>\n    <tr>\n      <th>0</th>\n      <td>PC0</td>\n      <td>AU04_r</td>\n    </tr>\n    <tr>\n      <th>1</th>\n      <td>PC1</td>\n      <td>AU15_r</td>\n    </tr>\n    <tr>\n      <th>2</th>\n      <td>PC2</td>\n      <td>AU01_r</td>\n    </tr>\n  </tbody>\n</table>\n</div>"
     },
     "execution_count": 11,
     "metadata": {},
     "output_type": "execute_result"
    }
   ],
   "source": [
    "feat_df"
   ],
   "metadata": {
    "collapsed": false,
    "pycharm": {
     "name": "#%%\n"
    }
   }
  }
 ],
 "metadata": {
  "kernelspec": {
   "display_name": "Python 3",
   "language": "python",
   "name": "python3"
  },
  "language_info": {
   "codemirror_mode": {
    "name": "ipython",
    "version": 2
   },
   "file_extension": ".py",
   "mimetype": "text/x-python",
   "name": "python",
   "nbconvert_exporter": "python",
   "pygments_lexer": "ipython2",
   "version": "2.7.6"
  }
 },
 "nbformat": 4,
 "nbformat_minor": 0
}