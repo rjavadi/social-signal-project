{
 "cells": [
  {
   "cell_type": "code",
   "execution_count": 2,
   "metadata": {
    "collapsed": true
   },
   "outputs": [],
   "source": [
    "import pandas as pd\n",
    "import numpy as np\n",
    "import matplotlib.pyplot as plt\n",
    "from sklearn.decomposition import PCA\n",
    "from sklearn.preprocessing import LabelEncoder"
   ]
  },
  {
   "cell_type": "markdown",
   "source": [
    "https://towardsdatascience.com/pca-clearly-explained-how-when-why-to-use-it-and-feature-importance-a-guide-in-python-7c274582c37e\n",
    "https://shankarmsy.github.io/posts/pca-sklearn.html\n",
    "https://stats.stackexchange.com/questions/311908/what-is-pca-components-in-sk-learn"
   ],
   "metadata": {
    "collapsed": false,
    "pycharm": {
     "name": "#%% md\n"
    }
   }
  },
  {
   "cell_type": "code",
   "execution_count": 3,
   "outputs": [],
   "source": [
    "# Read csv\n",
    "X_df = pd.read_csv('./videos_relabelled.csv', index_col=None)"
   ],
   "metadata": {
    "collapsed": false,
    "pycharm": {
     "name": "#%%\n"
    }
   }
  },
  {
   "cell_type": "markdown",
   "source": [
    "## North America"
   ],
   "metadata": {
    "collapsed": false,
    "pycharm": {
     "name": "#%% md\n"
    }
   }
  },
  {
   "cell_type": "code",
   "execution_count": 4,
   "outputs": [
    {
     "name": "stdout",
     "output_type": "stream",
     "text": [
      "Index(['AU01_r', 'AU02_r', 'AU04_r', 'AU05_r', 'AU06_r', 'AU07_r', 'AU09_r',\n",
      "       'AU10_r', 'AU12_r', 'AU14_r', 'AU15_r', 'AU17_r', 'AU23_r', 'AU25_r',\n",
      "       'AU26_r', 'AU45_r'],\n",
      "      dtype='object')\n"
     ]
    }
   ],
   "source": [
    "df = X_df[(X_df.emotion == 'anger') & (X_df.culture == 'North America')]\n",
    "au_values_df = df.drop(columns = ['success','confidence', 'face_id','frame', 'culture','filename', 'emotion', 'gender', 'talking'])\n",
    "le = LabelEncoder()\n",
    "# mean normalization - Pandas automatically applies colomn-wise function in the code above.\n",
    "# normalized_df=(au_values_df-au_values_df.mean())/au_values_df.std()\n",
    "normalized_df=(au_values_df-au_values_df.min())/(au_values_df.max()-au_values_df.min())\n",
    "pca = PCA(n_components=3)\n",
    "pca_anger = pca.fit_transform(normalized_df.values)\n",
    "# pca_anger.components_\n",
    "feature_names = au_values_df.columns\n",
    "print(feature_names)"
   ],
   "metadata": {
    "collapsed": false,
    "pycharm": {
     "name": "#%%\n"
    }
   }
  },
  {
   "cell_type": "markdown",
   "source": [
    "## Print PCs for NA"
   ],
   "metadata": {
    "collapsed": false,
    "pycharm": {
     "name": "#%% md\n"
    }
   }
  },
  {
   "cell_type": "code",
   "execution_count": 5,
   "outputs": [
    {
     "name": "stdout",
     "output_type": "stream",
     "text": [
      "[[-0.341 -0.232  0.03  -0.28   0.454  0.409  0.424  0.322  0.128  0.108\n",
      "   0.085  0.027 -0.011  0.239 -0.02  -0.016]\n",
      " [ 0.39   0.462  0.014  0.083  0.116  0.028 -0.123  0.27   0.196  0.083\n",
      "   0.089 -0.005 -0.009  0.552  0.374  0.164]\n",
      " [ 0.171  0.017 -0.099  0.764  0.278  0.221  0.036  0.108  0.153  0.04\n",
      "  -0.034  0.035  0.026 -0.084 -0.407 -0.192]]\n",
      "Explained Variance:\n",
      "[0.203 0.149 0.116]\n"
     ]
    }
   ],
   "source": [
    "np.set_printoptions(precision=3, suppress=True)\n",
    "print(pca.components_)\n",
    "print(\"Explained Variance:\")\n",
    "print(pca.explained_variance_ratio_)\n",
    "n_pcs= pca.components_.shape[0]\n",
    "most_important = [np.abs(pca.components_[i]).argmax() for i in range(n_pcs)]\n",
    "most_important_names = [feature_names[most_important[i]] for i in range(n_pcs)]\n",
    "dic = {'PC{}'.format(i): most_important_names[i] for i in range(n_pcs)}\n",
    "feat_df = pd.DataFrame(dic.items())\n"
   ],
   "metadata": {
    "collapsed": false,
    "pycharm": {
     "name": "#%%\n"
    }
   }
  },
  {
   "cell_type": "code",
   "execution_count": 5,
   "outputs": [
    {
     "data": {
      "text/plain": "     0       1\n0  PC0  AU06_r\n1  PC1  AU25_r\n2  PC2  AU05_r",
      "text/html": "<div>\n<style scoped>\n    .dataframe tbody tr th:only-of-type {\n        vertical-align: middle;\n    }\n\n    .dataframe tbody tr th {\n        vertical-align: top;\n    }\n\n    .dataframe thead th {\n        text-align: right;\n    }\n</style>\n<table border=\"1\" class=\"dataframe\">\n  <thead>\n    <tr style=\"text-align: right;\">\n      <th></th>\n      <th>0</th>\n      <th>1</th>\n    </tr>\n  </thead>\n  <tbody>\n    <tr>\n      <th>0</th>\n      <td>PC0</td>\n      <td>AU06_r</td>\n    </tr>\n    <tr>\n      <th>1</th>\n      <td>PC1</td>\n      <td>AU25_r</td>\n    </tr>\n    <tr>\n      <th>2</th>\n      <td>PC2</td>\n      <td>AU05_r</td>\n    </tr>\n  </tbody>\n</table>\n</div>"
     },
     "execution_count": 5,
     "metadata": {},
     "output_type": "execute_result"
    }
   ],
   "source": [
    "feat_df"
   ],
   "metadata": {
    "collapsed": false,
    "pycharm": {
     "name": "#%%\n"
    }
   }
  },
  {
   "cell_type": "markdown",
   "source": [
    "##  Persian"
   ],
   "metadata": {
    "collapsed": false,
    "pycharm": {
     "name": "#%% md\n"
    }
   }
  },
  {
   "cell_type": "code",
   "execution_count": 6,
   "outputs": [
    {
     "name": "stdout",
     "output_type": "stream",
     "text": [
      "Index(['AU01_r', 'AU02_r', 'AU04_r', 'AU05_r', 'AU06_r', 'AU07_r', 'AU09_r',\n",
      "       'AU10_r', 'AU12_r', 'AU14_r', 'AU15_r', 'AU17_r', 'AU23_r', 'AU25_r',\n",
      "       'AU26_r', 'AU45_r'],\n",
      "      dtype='object')\n"
     ]
    }
   ],
   "source": [
    "df = X_df[(X_df.emotion == 'anger') & (X_df.culture == 'Persian')]\n",
    "au_values_df = df.drop(columns = ['success','confidence', 'face_id','frame', 'culture','filename', 'emotion', 'gender', 'talking'])\n",
    "le = LabelEncoder()\n",
    "# mean normalization - Pandas automatically applies colomn-wise function in the code above.\n",
    "# normalized_df=(au_values_df-au_values_df.mean())/au_values_df.std()\n",
    "normalized_df=(au_values_df-au_values_df.min())/(au_values_df.max()-au_values_df.min())\n",
    "pca = PCA(n_components=3)\n",
    "pca_anger = pca.fit_transform(normalized_df.values)\n",
    "# pca_anger.components_\n",
    "feature_names = au_values_df.columns\n",
    "print(feature_names)"
   ],
   "metadata": {
    "collapsed": false,
    "pycharm": {
     "name": "#%%\n"
    }
   }
  },
  {
   "cell_type": "code",
   "execution_count": 7,
   "outputs": [
    {
     "name": "stdout",
     "output_type": "stream",
     "text": [
      "[[-0.147 -0.097  0.432 -0.301  0.304  0.519  0.345  0.268 -0.004  0.122\n",
      "   0.158  0.067  0.013  0.293  0.054  0.07 ]\n",
      " [ 0.495  0.173 -0.002  0.224  0.094 -0.321 -0.016  0.571  0.198  0.265\n",
      "   0.139  0.067  0.008  0.303 -0.068  0.081]\n",
      " [-0.248  0.181 -0.669  0.256  0.253  0.329 -0.029 -0.009  0.127 -0.099\n",
      "  -0.055  0.037 -0.013  0.428  0.075  0.021]]\n",
      "Explained Variance:\n",
      "[0.282 0.128 0.099]\n"
     ]
    }
   ],
   "source": [
    "np.set_printoptions(precision=3, suppress=True)\n",
    "print(pca.components_)\n",
    "print(\"Explained Variance:\")\n",
    "print(pca.explained_variance_ratio_)\n",
    "n_pcs= pca.components_.shape[0]\n",
    "most_important = [np.abs(pca.components_[i]).argmax() for i in range(n_pcs)]\n",
    "most_important_names = [feature_names[most_important[i]] for i in range(n_pcs)]\n",
    "dic = {'PC{}'.format(i): most_important_names[i] for i in range(n_pcs)}\n",
    "feat_df = pd.DataFrame(dic.items())"
   ],
   "metadata": {
    "collapsed": false,
    "pycharm": {
     "name": "#%%\n"
    }
   }
  },
  {
   "cell_type": "code",
   "execution_count": 8,
   "outputs": [
    {
     "data": {
      "text/plain": "     0       1\n0  PC0  AU07_r\n1  PC1  AU10_r\n2  PC2  AU04_r",
      "text/html": "<div>\n<style scoped>\n    .dataframe tbody tr th:only-of-type {\n        vertical-align: middle;\n    }\n\n    .dataframe tbody tr th {\n        vertical-align: top;\n    }\n\n    .dataframe thead th {\n        text-align: right;\n    }\n</style>\n<table border=\"1\" class=\"dataframe\">\n  <thead>\n    <tr style=\"text-align: right;\">\n      <th></th>\n      <th>0</th>\n      <th>1</th>\n    </tr>\n  </thead>\n  <tbody>\n    <tr>\n      <th>0</th>\n      <td>PC0</td>\n      <td>AU07_r</td>\n    </tr>\n    <tr>\n      <th>1</th>\n      <td>PC1</td>\n      <td>AU10_r</td>\n    </tr>\n    <tr>\n      <th>2</th>\n      <td>PC2</td>\n      <td>AU04_r</td>\n    </tr>\n  </tbody>\n</table>\n</div>"
     },
     "execution_count": 8,
     "metadata": {},
     "output_type": "execute_result"
    }
   ],
   "source": [
    "feat_df"
   ],
   "metadata": {
    "collapsed": false,
    "pycharm": {
     "name": "#%%\n"
    }
   }
  },
  {
   "cell_type": "markdown",
   "source": [
    "## Philippines"
   ],
   "metadata": {
    "collapsed": false
   }
  },
  {
   "cell_type": "code",
   "execution_count": 9,
   "outputs": [
    {
     "name": "stdout",
     "output_type": "stream",
     "text": [
      "Index(['AU01_r', 'AU02_r', 'AU04_r', 'AU05_r', 'AU06_r', 'AU07_r', 'AU09_r',\n",
      "       'AU10_r', 'AU12_r', 'AU14_r', 'AU15_r', 'AU17_r', 'AU23_r', 'AU25_r',\n",
      "       'AU26_r', 'AU45_r'],\n",
      "      dtype='object')\n"
     ]
    }
   ],
   "source": [
    "df = X_df[(X_df.emotion == 'anger') & (X_df.culture == 'Philippines')]\n",
    "au_values_df = df.drop(columns = ['success','confidence', 'face_id','frame', 'culture','filename', 'emotion', 'gender', 'talking'])\n",
    "le = LabelEncoder()\n",
    "# mean normalization - Pandas automatically applies colomn-wise function in the code above.\n",
    "# normalized_df=(au_values_df-au_values_df.mean())/au_values_df.std()\n",
    "normalized_df=(au_values_df-au_values_df.min())/(au_values_df.max()-au_values_df.min())\n",
    "pca = PCA(n_components=3)\n",
    "pca_anger = pca.fit_transform(normalized_df.values)\n",
    "# pca_anger.components_\n",
    "feature_names = au_values_df.columns\n",
    "print(feature_names)\n"
   ],
   "metadata": {
    "collapsed": false,
    "pycharm": {
     "name": "#%%\n"
    }
   }
  },
  {
   "cell_type": "code",
   "execution_count": 10,
   "outputs": [
    {
     "name": "stdout",
     "output_type": "stream",
     "text": [
      "[[ 0.429  0.503 -0.007  0.401  0.122  0.096 -0.     0.282  0.374  0.204\n",
      "  -0.049  0.097  0.013  0.296  0.074 -0.11 ]\n",
      " [-0.271 -0.319  0.032 -0.247  0.396  0.47   0.284  0.362  0.274  0.214\n",
      "   0.07  -0.059  0.001  0.19  -0.064  0.073]\n",
      " [-0.077  0.148  0.124  0.034 -0.049  0.506  0.105 -0.183 -0.301 -0.452\n",
      "  -0.031 -0.07  -0.004  0.367  0.388 -0.257]]\n",
      "Explained Variance:\n",
      "[0.207 0.172 0.115]\n"
     ]
    }
   ],
   "source": [
    "np.set_printoptions(precision=3, suppress=True)\n",
    "print(pca.components_)\n",
    "print(\"Explained Variance:\")\n",
    "print(pca.explained_variance_ratio_)\n",
    "n_pcs= pca.components_.shape[0]\n",
    "most_important = [np.abs(pca.components_[i]).argmax() for i in range(n_pcs)]\n",
    "most_important_names = [feature_names[most_important[i]] for i in range(n_pcs)]\n",
    "dic = {'PC{}'.format(i): most_important_names[i] for i in range(n_pcs)}\n",
    "feat_df = pd.DataFrame(dic.items())"
   ],
   "metadata": {
    "collapsed": false,
    "pycharm": {
     "name": "#%%\n"
    }
   }
  },
  {
   "cell_type": "code",
   "execution_count": 11,
   "outputs": [
    {
     "data": {
      "text/plain": "     0       1\n0  PC0  AU02_r\n1  PC1  AU07_r\n2  PC2  AU07_r",
      "text/html": "<div>\n<style scoped>\n    .dataframe tbody tr th:only-of-type {\n        vertical-align: middle;\n    }\n\n    .dataframe tbody tr th {\n        vertical-align: top;\n    }\n\n    .dataframe thead th {\n        text-align: right;\n    }\n</style>\n<table border=\"1\" class=\"dataframe\">\n  <thead>\n    <tr style=\"text-align: right;\">\n      <th></th>\n      <th>0</th>\n      <th>1</th>\n    </tr>\n  </thead>\n  <tbody>\n    <tr>\n      <th>0</th>\n      <td>PC0</td>\n      <td>AU02_r</td>\n    </tr>\n    <tr>\n      <th>1</th>\n      <td>PC1</td>\n      <td>AU07_r</td>\n    </tr>\n    <tr>\n      <th>2</th>\n      <td>PC2</td>\n      <td>AU07_r</td>\n    </tr>\n  </tbody>\n</table>\n</div>"
     },
     "execution_count": 11,
     "metadata": {},
     "output_type": "execute_result"
    }
   ],
   "source": [
    "feat_df"
   ],
   "metadata": {
    "collapsed": false,
    "pycharm": {
     "name": "#%%\n"
    }
   }
  }
 ],
 "metadata": {
  "kernelspec": {
   "display_name": "Python 3",
   "language": "python",
   "name": "python3"
  },
  "language_info": {
   "codemirror_mode": {
    "name": "ipython",
    "version": 2
   },
   "file_extension": ".py",
   "mimetype": "text/x-python",
   "name": "python",
   "nbconvert_exporter": "python",
   "pygments_lexer": "ipython2",
   "version": "2.7.6"
  }
 },
 "nbformat": 4,
 "nbformat_minor": 0
}