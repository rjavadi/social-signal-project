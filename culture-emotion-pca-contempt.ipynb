{
 "cells": [
  {
   "cell_type": "code",
   "execution_count": 1,
   "metadata": {
    "collapsed": true
   },
   "outputs": [],
   "source": [
    "import pandas as pd\n",
    "import numpy as np\n",
    "import matplotlib.pyplot as plt\n",
    "from sklearn.decomposition import PCA\n",
    "from sklearn.preprocessing import LabelEncoder"
   ]
  },
  {
   "cell_type": "markdown",
   "source": [
    "https://towardsdatascience.com/pca-clearly-explained-how-when-why-to-use-it-and-feature-importance-a-guide-in-python-7c274582c37e\n",
    "https://shankarmsy.github.io/posts/pca-sklearn.html\n",
    "https://stats.stackexchange.com/questions/311908/what-is-pca-components-in-sk-learn"
   ],
   "metadata": {
    "collapsed": false,
    "pycharm": {
     "name": "#%% md\n"
    }
   }
  },
  {
   "cell_type": "code",
   "execution_count": 2,
   "outputs": [],
   "source": [
    "# Read csv\n",
    "X_df = pd.read_csv('./videos_relabelled.csv', index_col=None)"
   ],
   "metadata": {
    "collapsed": false,
    "pycharm": {
     "name": "#%%\n"
    }
   }
  },
  {
   "cell_type": "markdown",
   "source": [
    "## North America"
   ],
   "metadata": {
    "collapsed": false,
    "pycharm": {
     "name": "#%% md\n"
    }
   }
  },
  {
   "cell_type": "code",
   "execution_count": 3,
   "outputs": [
    {
     "name": "stdout",
     "output_type": "stream",
     "text": [
      "Index(['AU01_r', 'AU02_r', 'AU04_r', 'AU05_r', 'AU06_r', 'AU07_r', 'AU09_r',\n",
      "       'AU10_r', 'AU12_r', 'AU14_r', 'AU15_r', 'AU17_r', 'AU23_r', 'AU25_r',\n",
      "       'AU26_r', 'AU45_r'],\n",
      "      dtype='object')\n"
     ]
    }
   ],
   "source": [
    "df = X_df[(X_df.emotion == 'contempt') & (X_df.culture == 'North America')]\n",
    "au_values_df = df.drop(columns = ['success','confidence', 'face_id','frame', 'culture','filename', 'emotion', 'gender', 'talking'])\n",
    "le = LabelEncoder()\n",
    "# mean normalization - Pandas automatically applies colomn-wise function in the code above.\n",
    "# normalized_df=(au_values_df-au_values_df.mean())/au_values_df.std()\n",
    "normalized_df=(au_values_df-au_values_df.min())/(au_values_df.max()-au_values_df.min())\n",
    "pca = PCA(n_components=3)\n",
    "pca_anger = pca.fit_transform(normalized_df.values)\n",
    "# pca_anger.components_\n",
    "feature_names = au_values_df.columns\n",
    "print(feature_names)"
   ],
   "metadata": {
    "collapsed": false,
    "pycharm": {
     "name": "#%%\n"
    }
   }
  },
  {
   "cell_type": "markdown",
   "source": [
    "## Print PCs for NA"
   ],
   "metadata": {
    "collapsed": false,
    "pycharm": {
     "name": "#%% md\n"
    }
   }
  },
  {
   "cell_type": "code",
   "execution_count": 4,
   "outputs": [
    {
     "name": "stdout",
     "output_type": "stream",
     "text": [
      "[[-0.223 -0.502  0.249 -0.169  0.298  0.376  0.344  0.217  0.032  0.379\n",
      "   0.05  -0.044  0.005 -0.073 -0.172 -0.168]\n",
      " [ 0.035  0.224 -0.038 -0.321  0.199  0.036  0.074  0.314  0.391  0.084\n",
      "  -0.141 -0.19  -0.058  0.365  0.063  0.585]\n",
      " [ 0.271  0.229 -0.211  0.221  0.125 -0.062 -0.2    0.368  0.384  0.323\n",
      "   0.04   0.322  0.081 -0.08  -0.355 -0.3  ]]\n",
      "Explained Variance:\n",
      "[0.292 0.155 0.126]\n"
     ]
    }
   ],
   "source": [
    "np.set_printoptions(precision=3, suppress=True)\n",
    "print(pca.components_)\n",
    "print(\"Explained Variance:\")\n",
    "print(pca.explained_variance_ratio_)\n",
    "n_pcs= pca.components_.shape[0]\n",
    "most_important = [np.abs(pca.components_[i]).argmax() for i in range(n_pcs)]\n",
    "most_important_names = [feature_names[most_important[i]] for i in range(n_pcs)]\n",
    "dic = {'PC{}'.format(i): most_important_names[i] for i in range(n_pcs)}\n",
    "feat_df = pd.DataFrame(dic.items())\n"
   ],
   "metadata": {
    "collapsed": false,
    "pycharm": {
     "name": "#%%\n"
    }
   }
  },
  {
   "cell_type": "code",
   "execution_count": 5,
   "outputs": [
    {
     "data": {
      "text/plain": "     0       1\n0  PC0  AU02_r\n1  PC1  AU45_r\n2  PC2  AU12_r",
      "text/html": "<div>\n<style scoped>\n    .dataframe tbody tr th:only-of-type {\n        vertical-align: middle;\n    }\n\n    .dataframe tbody tr th {\n        vertical-align: top;\n    }\n\n    .dataframe thead th {\n        text-align: right;\n    }\n</style>\n<table border=\"1\" class=\"dataframe\">\n  <thead>\n    <tr style=\"text-align: right;\">\n      <th></th>\n      <th>0</th>\n      <th>1</th>\n    </tr>\n  </thead>\n  <tbody>\n    <tr>\n      <th>0</th>\n      <td>PC0</td>\n      <td>AU02_r</td>\n    </tr>\n    <tr>\n      <th>1</th>\n      <td>PC1</td>\n      <td>AU45_r</td>\n    </tr>\n    <tr>\n      <th>2</th>\n      <td>PC2</td>\n      <td>AU12_r</td>\n    </tr>\n  </tbody>\n</table>\n</div>"
     },
     "execution_count": 5,
     "metadata": {},
     "output_type": "execute_result"
    }
   ],
   "source": [
    "feat_df"
   ],
   "metadata": {
    "collapsed": false,
    "pycharm": {
     "name": "#%%\n"
    }
   }
  },
  {
   "cell_type": "markdown",
   "source": [
    "##  Persian"
   ],
   "metadata": {
    "collapsed": false,
    "pycharm": {
     "name": "#%% md\n"
    }
   }
  },
  {
   "cell_type": "code",
   "execution_count": 6,
   "outputs": [
    {
     "name": "stdout",
     "output_type": "stream",
     "text": [
      "Index(['AU01_r', 'AU02_r', 'AU04_r', 'AU05_r', 'AU06_r', 'AU07_r', 'AU09_r',\n",
      "       'AU10_r', 'AU12_r', 'AU14_r', 'AU15_r', 'AU17_r', 'AU23_r', 'AU25_r',\n",
      "       'AU26_r', 'AU45_r'],\n",
      "      dtype='object')\n"
     ]
    }
   ],
   "source": [
    "df = X_df[(X_df.emotion == 'contempt') & (X_df.culture == 'Persian')]\n",
    "au_values_df = df.drop(columns = ['success','confidence', 'face_id','frame', 'culture','filename', 'emotion', 'gender', 'talking'])\n",
    "le = LabelEncoder()\n",
    "# mean normalization - Pandas automatically applies colomn-wise function in the code above.\n",
    "# normalized_df=(au_values_df-au_values_df.mean())/au_values_df.std()\n",
    "normalized_df=(au_values_df-au_values_df.min())/(au_values_df.max()-au_values_df.min())\n",
    "pca = PCA(n_components=3)\n",
    "pca_anger = pca.fit_transform(normalized_df.values)\n",
    "# pca_anger.components_\n",
    "feature_names = au_values_df.columns\n",
    "print(feature_names)"
   ],
   "metadata": {
    "collapsed": false,
    "pycharm": {
     "name": "#%%\n"
    }
   }
  },
  {
   "cell_type": "code",
   "execution_count": 7,
   "outputs": [
    {
     "name": "stdout",
     "output_type": "stream",
     "text": [
      "[[ 0.031 -0.039 -0.007 -0.493  0.289  0.16   0.155  0.338  0.078  0.275\n",
      "   0.415  0.386  0.095 -0.022  0.06   0.301]\n",
      " [ 0.205 -0.168 -0.401 -0.277 -0.028  0.486  0.305 -0.134  0.022  0.172\n",
      "  -0.216 -0.42  -0.019  0.235  0.171 -0.08 ]\n",
      " [-0.317 -0.007  0.417  0.348  0.296  0.309  0.488 -0.058  0.008  0.276\n",
      "  -0.089  0.052  0.007  0.056 -0.247 -0.17 ]]\n",
      "Explained Variance:\n",
      "[0.236 0.135 0.115]\n"
     ]
    }
   ],
   "source": [
    "np.set_printoptions(precision=3, suppress=True)\n",
    "print(pca.components_)\n",
    "print(\"Explained Variance:\")\n",
    "print(pca.explained_variance_ratio_)\n",
    "n_pcs= pca.components_.shape[0]\n",
    "most_important = [np.abs(pca.components_[i]).argmax() for i in range(n_pcs)]\n",
    "most_important_names = [feature_names[most_important[i]] for i in range(n_pcs)]\n",
    "dic = {'PC{}'.format(i): most_important_names[i] for i in range(n_pcs)}\n",
    "feat_df = pd.DataFrame(dic.items())"
   ],
   "metadata": {
    "collapsed": false,
    "pycharm": {
     "name": "#%%\n"
    }
   }
  },
  {
   "cell_type": "code",
   "execution_count": 8,
   "outputs": [
    {
     "data": {
      "text/plain": "     0       1\n0  PC0  AU05_r\n1  PC1  AU07_r\n2  PC2  AU09_r",
      "text/html": "<div>\n<style scoped>\n    .dataframe tbody tr th:only-of-type {\n        vertical-align: middle;\n    }\n\n    .dataframe tbody tr th {\n        vertical-align: top;\n    }\n\n    .dataframe thead th {\n        text-align: right;\n    }\n</style>\n<table border=\"1\" class=\"dataframe\">\n  <thead>\n    <tr style=\"text-align: right;\">\n      <th></th>\n      <th>0</th>\n      <th>1</th>\n    </tr>\n  </thead>\n  <tbody>\n    <tr>\n      <th>0</th>\n      <td>PC0</td>\n      <td>AU05_r</td>\n    </tr>\n    <tr>\n      <th>1</th>\n      <td>PC1</td>\n      <td>AU07_r</td>\n    </tr>\n    <tr>\n      <th>2</th>\n      <td>PC2</td>\n      <td>AU09_r</td>\n    </tr>\n  </tbody>\n</table>\n</div>"
     },
     "execution_count": 8,
     "metadata": {},
     "output_type": "execute_result"
    }
   ],
   "source": [
    "feat_df"
   ],
   "metadata": {
    "collapsed": false,
    "pycharm": {
     "name": "#%%\n"
    }
   }
  },
  {
   "cell_type": "markdown",
   "source": [
    "## Philippines"
   ],
   "metadata": {
    "collapsed": false
   }
  },
  {
   "cell_type": "code",
   "execution_count": 9,
   "outputs": [
    {
     "name": "stdout",
     "output_type": "stream",
     "text": [
      "Index(['AU01_r', 'AU02_r', 'AU04_r', 'AU05_r', 'AU06_r', 'AU07_r', 'AU09_r',\n",
      "       'AU10_r', 'AU12_r', 'AU14_r', 'AU15_r', 'AU17_r', 'AU23_r', 'AU25_r',\n",
      "       'AU26_r', 'AU45_r'],\n",
      "      dtype='object')\n"
     ]
    }
   ],
   "source": [
    "df = X_df[(X_df.emotion == 'contempt') & (X_df.culture == 'Philippines')]\n",
    "au_values_df = df.drop(columns = ['success','confidence', 'face_id','frame', 'culture','filename', 'emotion', 'gender', 'talking'])\n",
    "le = LabelEncoder()\n",
    "# mean normalization - Pandas automatically applies colomn-wise function in the code above.\n",
    "# normalized_df=(au_values_df-au_values_df.mean())/au_values_df.std()\n",
    "normalized_df=(au_values_df-au_values_df.min())/(au_values_df.max()-au_values_df.min())\n",
    "pca = PCA(n_components=3)\n",
    "pca_anger = pca.fit_transform(normalized_df.values)\n",
    "# pca_anger.components_\n",
    "feature_names = au_values_df.columns\n",
    "print(feature_names)\n"
   ],
   "metadata": {
    "collapsed": false,
    "pycharm": {
     "name": "#%%\n"
    }
   }
  },
  {
   "cell_type": "code",
   "execution_count": 10,
   "outputs": [
    {
     "name": "stdout",
     "output_type": "stream",
     "text": [
      "[[ 0.477  0.359  0.043  0.247  0.271 -0.195 -0.061  0.406  0.353  0.133\n",
      "   0.012  0.153  0.005  0.336  0.117 -0.09 ]\n",
      " [-0.29  -0.5   -0.069 -0.189  0.386  0.299  0.307  0.406  0.226  0.099\n",
      "   0.07   0.001  0.016  0.247  0.009  0.038]\n",
      " [-0.138  0.235 -0.242 -0.252 -0.185 -0.038  0.11  -0.068 -0.08  -0.062\n",
      "  -0.05  -0.138 -0.019  0.404  0.686  0.293]]\n",
      "Explained Variance:\n",
      "[0.229 0.18  0.127]\n"
     ]
    }
   ],
   "source": [
    "np.set_printoptions(precision=3, suppress=True)\n",
    "print(pca.components_)\n",
    "print(\"Explained Variance:\")\n",
    "print(pca.explained_variance_ratio_)\n",
    "n_pcs= pca.components_.shape[0]\n",
    "most_important = [np.abs(pca.components_[i]).argmax() for i in range(n_pcs)]\n",
    "most_important_names = [feature_names[most_important[i]] for i in range(n_pcs)]\n",
    "dic = {'PC{}'.format(i): most_important_names[i] for i in range(n_pcs)}\n",
    "feat_df = pd.DataFrame(dic.items())"
   ],
   "metadata": {
    "collapsed": false,
    "pycharm": {
     "name": "#%%\n"
    }
   }
  },
  {
   "cell_type": "code",
   "execution_count": 11,
   "outputs": [
    {
     "data": {
      "text/plain": "     0       1\n0  PC0  AU01_r\n1  PC1  AU02_r\n2  PC2  AU26_r",
      "text/html": "<div>\n<style scoped>\n    .dataframe tbody tr th:only-of-type {\n        vertical-align: middle;\n    }\n\n    .dataframe tbody tr th {\n        vertical-align: top;\n    }\n\n    .dataframe thead th {\n        text-align: right;\n    }\n</style>\n<table border=\"1\" class=\"dataframe\">\n  <thead>\n    <tr style=\"text-align: right;\">\n      <th></th>\n      <th>0</th>\n      <th>1</th>\n    </tr>\n  </thead>\n  <tbody>\n    <tr>\n      <th>0</th>\n      <td>PC0</td>\n      <td>AU01_r</td>\n    </tr>\n    <tr>\n      <th>1</th>\n      <td>PC1</td>\n      <td>AU02_r</td>\n    </tr>\n    <tr>\n      <th>2</th>\n      <td>PC2</td>\n      <td>AU26_r</td>\n    </tr>\n  </tbody>\n</table>\n</div>"
     },
     "execution_count": 11,
     "metadata": {},
     "output_type": "execute_result"
    }
   ],
   "source": [
    "feat_df"
   ],
   "metadata": {
    "collapsed": false,
    "pycharm": {
     "name": "#%%\n"
    }
   }
  }
 ],
 "metadata": {
  "kernelspec": {
   "display_name": "Python 3",
   "language": "python",
   "name": "python3"
  },
  "language_info": {
   "codemirror_mode": {
    "name": "ipython",
    "version": 2
   },
   "file_extension": ".py",
   "mimetype": "text/x-python",
   "name": "python",
   "nbconvert_exporter": "python",
   "pygments_lexer": "ipython2",
   "version": "2.7.6"
  }
 },
 "nbformat": 4,
 "nbformat_minor": 0
}