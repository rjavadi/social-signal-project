{
 "metadata": {
  "language_info": {
   "codemirror_mode": {
    "name": "ipython",
    "version": 3
   },
   "file_extension": ".py",
   "mimetype": "text/x-python",
   "name": "python",
   "nbconvert_exporter": "python",
   "pygments_lexer": "ipython3",
   "version": "3.8.5"
  },
  "orig_nbformat": 2,
  "kernelspec": {
   "name": "python3",
   "display_name": "Python 3.8.5 64-bit ('base': conda)",
   "metadata": {
    "interpreter": {
     "hash": "f472ea7aacf6fb81aea7906a2b468b272532d7c365023e449c0c079e8fc6152b"
    }
   }
  }
 },
 "nbformat": 4,
 "nbformat_minor": 2,
 "cells": [
  {
   "cell_type": "code",
   "execution_count": 7,
   "metadata": {},
   "outputs": [],
   "source": [
    "import numpy as np\n",
    "import pandas as pd\n",
    "import matplotlib.pyplot as plt\n",
    "from sklearn.utils.validation import _check_large_sparse\n",
    "from sklearn.metrics import pairwise_distances_argmin_min, jaccard_score, f1_score\n",
    "from sklearn.model_selection import cross_val_score, KFold\n",
    "from sklearn.model_selection import train_test_split\n",
    "from sklearn.neighbors import KNeighborsClassifier\n",
    "from sklearn.preprocessing import MinMaxScaler\n",
    "from sklearn.multioutput import ClassifierChain\n"
   ]
  },
  {
   "cell_type": "code",
   "execution_count": 8,
   "metadata": {},
   "outputs": [],
   "source": [
    "def create_label_dict(filename:str):\n",
    "    label_file = open(filename).readlines()\n",
    "    labels = []\n",
    "    filenames = []\n",
    "    for i in range(len(label_file)):\n",
    "        filenames.append(label_file[i].split(\" \")[0])\n",
    "        labels.append([int(l) for l in label_file[i].split(\" \")[1:7]])\n",
    "    return dict(zip(filenames, labels))"
   ]
  },
  {
   "cell_type": "code",
   "execution_count": 9,
   "metadata": {},
   "outputs": [],
   "source": [
    "def count_label_dict(filename: str, counter: dict):\n",
    "    label_file = open(filename).readlines()\n",
    "    for i in range(len(label_file)):\n",
    "        filename = label_file[i].split(\" \")[0]\n",
    "        # print(filename)\n",
    "        counts = sum([int(l) for l in label_file[i].split(\" \")[1:7]])\n",
    "        # print(counts)\n",
    "        counter[counts] += 1\n",
    "    "
   ]
  },
  {
   "cell_type": "code",
   "execution_count": 10,
   "metadata": {},
   "outputs": [],
   "source": [
    "test_labels = create_label_dict(\"./test_labels.txt\")\n",
    "train_labels = create_label_dict(\"./train_labels.txt\")"
   ]
  },
  {
   "cell_type": "code",
   "execution_count": 11,
   "metadata": {},
   "outputs": [
    {
     "output_type": "stream",
     "name": "stdout",
     "text": [
      "{0: 40, 1: 151, 2: 111, 3: 36, 4: 14, 5: 1, 6: 0}\n{0: 75, 1: 368, 2: 315, 3: 147, 4: 55, 5: 8, 6: 0}\n"
     ]
    }
   ],
   "source": [
    "label_counter = {i: 0 for i in range(0, 7)}\n",
    "count_label_dict(\"./test_labels.txt\", label_counter)\n",
    "print(label_counter)\n",
    "count_label_dict(\"./train_labels.txt\", label_counter)\n",
    "print(label_counter)\n"
   ]
  },
  {
   "cell_type": "code",
   "execution_count": 12,
   "metadata": {},
   "outputs": [],
   "source": [
    "train_df = pd.read_csv(\"./elder_train_dataset.csv\", index_col=None)\n",
    "tst_df = pd.read_csv(\"./elder_test_dataset.csv\", index_col=None)"
   ]
  },
  {
   "cell_type": "code",
   "execution_count": 13,
   "metadata": {},
   "outputs": [],
   "source": [
    "affects = ['anger','disgust','fear','happy','sad','surprise']\n",
    "for a in affects:\n",
    "    train_df[a] = np.NaN\n",
    "    tst_df[a] = np.NaN"
   ]
  },
  {
   "cell_type": "code",
   "execution_count": 14,
   "metadata": {},
   "outputs": [],
   "source": [
    "for index, row in train_df.iterrows():\n",
    "    # print(index, row)\n",
    "    filename = train_df.iloc[index]['filename']\n",
    "    for i, name in enumerate(affects):\n",
    "    # print(labels_expanded.loc[filename]['none':'hatred'].to_list())\n",
    "        train_df.at[index, name] = train_labels[filename+'.mp4'][i]\n",
    "        "
   ]
  },
  {
   "cell_type": "code",
   "execution_count": 15,
   "metadata": {},
   "outputs": [],
   "source": [
    "for index, row in tst_df.iterrows():\n",
    "    # print(index, row)\n",
    "    filename = tst_df.iloc[index]['filename']\n",
    "    for i, name in enumerate(affects):\n",
    "    # print(labels_expanded.loc[filename]['none':'hatred'].to_list())\n",
    "        tst_df.at[index, name] = test_labels[filename+'.mp4'][i]"
   ]
  },
  {
   "cell_type": "code",
   "execution_count": 16,
   "metadata": {},
   "outputs": [],
   "source": [
    "cols_to_scale = list (\n",
    "    set(train_df.columns.to_list()) - set(['frame', 'face_id', 'filename', 'timestamp', 'confidence','success'])\n",
    ")\n",
    "scaler = MinMaxScaler()\n",
    "train_df[cols_to_scale] = scaler.fit_transform(train_df[cols_to_scale])\n",
    "tst_df[cols_to_scale] = scaler.fit_transform(tst_df[cols_to_scale])\n",
    "\n",
    "train_df.dropna(inplace=True)\n",
    "tst_df.dropna(inplace=True)"
   ]
  },
  {
   "cell_type": "code",
   "execution_count": 17,
   "metadata": {},
   "outputs": [],
   "source": [
    "metadata_cols = ['frame', 'face_id', 'filename', 'timestamp']\n",
    "test_videos = tst_df['filename'].unique()\n",
    "train_videos = train_df['filename'].unique()\n",
    "metadata_test = tst_df[metadata_cols]\n",
    "y_test = tst_df[affects].values\n",
    "X_test = tst_df.drop(columns = metadata_cols + ['confidence','success']).values"
   ]
  },
  {
   "cell_type": "code",
   "execution_count": null,
   "metadata": {},
   "outputs": [],
   "source": []
  },
  {
   "cell_type": "code",
   "execution_count": 18,
   "metadata": {},
   "outputs": [
    {
     "output_type": "stream",
     "name": "stdout",
     "text": [
      "1-th split: train: 258, test: 65\n",
      "Training+validation data size:  323\n",
      "Training data size:  37093\n",
      "Validation data size:  10251\n",
      "One-vs-Rest validation Jaccard score: 0.9451760803824018\n",
      "One-vs-Rest validation Hamming loss:  0.0\n",
      "One-vs-Rest test Jaccard score:  0.8047686832740214\n",
      "One-vs-Rest test Hamming loss:  0.0\n",
      "CC Validation Jaccard Score:\n",
      "  [0.9451760803824018, 0.9451760803824018, 0.9451760803824018, 0.9451760803824018]\n",
      "CC Validation Hamming Loss:\n",
      "  [0.0, 0.0, 0.0, 0.0]\n",
      "CC Test Jaccard Score: \n",
      "  [0.8047686832740214, 0.804679715302491, 0.8047686832740214, 0.8044483985765124]\n",
      "CC Test Hamming Loss:\n",
      "  [0.0, 5.931198102016607e-05, 0.0, 0.00010676156583629893]\n",
      "(95, 6)\n",
      "(95, 6)\n",
      "2-th split: train: 258, test: 65\n",
      "Training+validation data size:  323\n",
      "Training data size:  38623\n",
      "Validation data size:  8721\n",
      "One-vs-Rest validation Jaccard score: 0.9893360853113176\n",
      "One-vs-Rest validation Hamming loss:  0.0\n",
      "One-vs-Rest test Jaccard score:  0.8047686832740214\n",
      "One-vs-Rest test Hamming loss:  0.0\n",
      "CC Validation Jaccard Score:\n",
      "  [0.9893360853113176, 0.9893360853113176, 0.9893360853113176, 0.9893360853113176]\n",
      "CC Validation Hamming Loss:\n",
      "  [0.0, 0.0, 0.0, 0.0]\n",
      "CC Test Jaccard Score: \n",
      "  [0.8047686832740214, 0.8047330960854092, 0.8047686832740214, 0.8047686832740214]\n",
      "CC Test Hamming Loss:\n",
      "  [0.0, 2.372479240806643e-05, 0.0, 0.0]\n",
      "(95, 6)\n",
      "(95, 6)\n",
      "3-th split: train: 258, test: 65\n",
      "Training+validation data size:  323\n",
      "Training data size:  36348\n",
      "Validation data size:  10996\n",
      "One-vs-Rest validation Jaccard score: 0.9405238268461259\n",
      "One-vs-Rest validation Hamming loss:  0.0\n",
      "One-vs-Rest test Jaccard score:  0.8047686832740214\n",
      "One-vs-Rest test Hamming loss:  0.0\n",
      "CC Validation Jaccard Score:\n",
      "  [0.9405238268461259, 0.9405238268461259, 0.9405238268461259, 0.9405238268461259]\n",
      "CC Validation Hamming Loss:\n",
      "  [0.0, 0.0, 0.0, 0.0]\n",
      "CC Test Jaccard Score: \n",
      "  [0.8047686832740214, 0.8045195729537367, 0.8047686832740214, 0.8047686832740214]\n",
      "CC Test Hamming Loss:\n",
      "  [0.0, 0.000166073546856465, 0.0, 0.0]\n",
      "(95, 6)\n",
      "(95, 6)\n",
      "4-th split: train: 259, test: 64\n",
      "Training+validation data size:  323\n",
      "Training data size:  38499\n",
      "Validation data size:  8845\n",
      "One-vs-Rest validation Jaccard score: 0.9407574901074053\n",
      "One-vs-Rest validation Hamming loss:  0.0\n",
      "One-vs-Rest test Jaccard score:  0.8047686832740214\n",
      "One-vs-Rest test Hamming loss:  0.0\n",
      "CC Validation Jaccard Score:\n",
      "  [0.9407574901074053, 0.9407574901074053, 0.9407574901074053, 0.9407574901074053]\n",
      "CC Validation Hamming Loss:\n",
      "  [0.0, 0.0, 0.0, 0.0]\n",
      "CC Test Jaccard Score: \n",
      "  [0.8047686832740214, 0.8047686832740214, 0.8047686832740214, 0.8047686832740214]\n",
      "CC Test Hamming Loss:\n",
      "  [0.0, 0.0, 0.0, 0.0]\n",
      "(95, 6)\n",
      "(95, 6)\n",
      "5-th split: train: 259, test: 64\n",
      "Training+validation data size:  323\n",
      "Training data size:  38813\n",
      "Validation data size:  8531\n",
      "One-vs-Rest validation Jaccard score: 0.8683624428554683\n",
      "One-vs-Rest validation Hamming loss:  0.0\n",
      "One-vs-Rest test Jaccard score:  0.8047686832740214\n",
      "One-vs-Rest test Hamming loss:  0.0\n",
      "CC Validation Jaccard Score:\n",
      "  [0.8683624428554683, 0.8683624428554683, 0.8683624428554683, 0.8683624428554683]\n",
      "CC Validation Hamming Loss:\n",
      "  [0.0, 0.0, 0.0, 0.0]\n",
      "CC Test Jaccard Score: \n",
      "  [0.8047686832740214, 0.8047686832740214, 0.8047686832740214, 0.8047686832740214]\n",
      "CC Test Hamming Loss:\n",
      "  [0.0, 0.0, 0.0, 0.0]\n",
      "(95, 6)\n",
      "(95, 6)\n"
     ]
    }
   ],
   "source": [
    "from sklearn.model_selection import KFold\n",
    "from sklearn.linear_model import LogisticRegression\n",
    "from sklearn.ensemble import RandomForestClassifier\n",
    "from sklearn import metrics\n",
    "from sklearn.multiclass import OneVsRestClassifier\n",
    "\n",
    "kfold = KFold(5, True, 1)\n",
    "frames_mean_hm_test = []\n",
    "frames_mean_jac_test = []\n",
    "videos_mean_jac_test = []\n",
    "videos_mean_hm_test = []\n",
    "\n",
    "col_indices = {i:label for (i,label) in enumerate(affects)}\n",
    "\n",
    "splits = kfold.split(train_videos)\n",
    "for (i, (train, test)) in enumerate(splits):\n",
    "    # print(videos[train])\n",
    "    # print(videos[test])\n",
    "    print('%d-th split: train: %d, test: %d' % (i+1, len(train_videos[train]), len(train_videos[test])))\n",
    "    train_cv_df = train_df[train_df['filename'].isin(train_videos[train])]\n",
    "    train_metadata = train_df[metadata_cols]\n",
    "    print('Training+validation data size: ', len(train_videos))\n",
    "    y_train = train_cv_df[affects].values\n",
    "    X_train = train_cv_df.drop(columns = ['frame', 'face_id', 'filename', 'timestamp', 'confidence','success']).values\n",
    "    valid_df = train_df[train_df['filename'].isin(train_videos[test])]\n",
    "    y_valid = valid_df[affects].values\n",
    "    X_valid = valid_df.drop(columns = ['frame', 'face_id', 'filename', 'timestamp', 'confidence','success']).values\n",
    "    # X_train, X_valid, y_train, y_valid = train_test_split(X, y)\n",
    "    print('Training data size: ', X_train.shape[0])\n",
    "    print('Validation data size: ', X_valid.shape[0])\n",
    "    base_knn =  KNeighborsClassifier(n_neighbors=5,)\n",
    "    base_lr = LogisticRegression()\n",
    "    base_rf = RandomForestClassifier()\n",
    "\n",
    "    ovr = OneVsRestClassifier(base_rf)\n",
    "    ovr.fit(X_train, y_train)\n",
    "    valid_pred_ovr = ovr.predict(X_valid)\n",
    "    ovr_jaccard_score = jaccard_score(y_valid, valid_pred_ovr, average='samples')\n",
    "    ovr_ham_loss = metrics.hamming_loss(y_valid, valid_pred_ovr)\n",
    "    print(\"One-vs-Rest validation Jaccard score:\" , ovr_jaccard_score)\n",
    "    print(\"One-vs-Rest validation Hamming loss: \" , ovr_ham_loss)\n",
    "\n",
    "    Y_pred_ovr = ovr.predict(X_test)\n",
    "    a = jaccard_score(y_test, Y_pred_ovr, average='samples')\n",
    "    b = metrics.hamming_loss(y_test, Y_pred_ovr)\n",
    "    # print(Y_pred_ovr[800:805,:])\n",
    "    # print(y_test[800:805,:])\n",
    "\n",
    "    print(\"One-vs-Rest test Jaccard score: \", a)\n",
    "    print(\"One-vs-Rest test Hamming loss: \" , b)\n",
    "\n",
    "    chains = [ClassifierChain(base_rf, order='random', random_state=i)\n",
    "            for i in range(4)]\n",
    "    for j, model in enumerate(chains):\n",
    "        model.fit(X_train, y_train)\n",
    "        valid_pred = model.predict(X_valid)\n",
    "        val_score =jaccard_score(y_valid, valid_pred, average='samples')\n",
    "        \n",
    "    # predict on validation data\n",
    "    valid_pred_chains = np.array([chain.predict(X_valid) for chain in\n",
    "                            chains])\n",
    "    chain_jaccard_scores = [jaccard_score(y_valid, valid_pred_chain >= .5,\n",
    "                                    average='samples')\n",
    "                    for valid_pred_chain in valid_pred_chains]\n",
    "    \n",
    "    print(\"CC Validation Jaccard Score:\\n \", chain_jaccard_scores)\n",
    "\n",
    "    chain_hamming_loss =[metrics.hamming_loss(y_valid, valid_pred_chain >= .5)\n",
    "                for valid_pred_chain in valid_pred_chains]\n",
    "    print(\"CC Validation Hamming Loss:\\n \", chain_hamming_loss)\n",
    "\n",
    "    # test on test data\n",
    "    Y_pred_chains = np.array([chain.predict(X_test) for chain in\n",
    "                            chains])\n",
    "    chain_jaccard_scores = [jaccard_score(y_test, Y_pred_chain >= .5,\n",
    "                                    average='samples')\n",
    "                    for Y_pred_chain in Y_pred_chains]\n",
    "    frames_mean_jac_test.append(np.mean(chain_jaccard_scores))\n",
    "    print(\"CC Test Jaccard Score: \\n \", chain_jaccard_scores)\n",
    "\n",
    "    chain_hamming_loss =[metrics.hamming_loss(y_test, Y_pred_chain) \n",
    "                for Y_pred_chain in Y_pred_chains]\n",
    "    frames_mean_hm_test.append(np.mean(chain_hamming_loss))\n",
    "    print(\"CC Test Hamming Loss:\\n \", chain_hamming_loss)\n",
    "    ## voting predicted labels\n",
    "    test_result_df = pd.DataFrame(columns=metadata_cols, data=metadata_test.values)\n",
    "    test_result_df.update(metadata_test)\n",
    "    temp_df = pd.DataFrame(data=Y_pred_chains[-1], columns=affects)\n",
    "    test_result_df = pd.concat([test_result_df, temp_df], axis=1)\n",
    "    video_groups = test_result_df.groupby('filename')[affects].apply(lambda x : x.astype(int).sum())\n",
    "    ground_truth_video_labels = []\n",
    "    for v in video_groups.index.to_list():\n",
    "        # number of 1s in ground truth labels\n",
    "        ground_truth_video_labels.append(tst_df[tst_df['filename'] == v].iloc[0][affects])\n",
    "        \n",
    "        num_1s = tst_df[tst_df['filename'] == v].iloc[0][affects].sum()\n",
    "        num_1s = int(num_1s)\n",
    "        a = np.argsort(video_groups.loc[v].values)\n",
    "        for i in range(len(a) - 1, len(a) - num_1s - 1, -1):\n",
    "            video_groups.loc[v][a[i]] = 1\n",
    "        for i in range(0, len(a) - num_1s):\n",
    "            video_groups.loc[v][a[i]] = 0\n",
    "        # print(\"          &&&&&&&&&&&&&&&&            \")\n",
    "    print(np.array(ground_truth_video_labels,  dtype=int).shape)\n",
    "    print(video_groups.values.shape)\n",
    "\n",
    "    j = metrics.jaccard_score(np.array(ground_truth_video_labels,  dtype=int), video_groups.values, average='samples')\n",
    "    h = metrics.hamming_loss(np.array(ground_truth_video_labels,  dtype=int), video_groups.values)\n",
    "    videos_mean_jac_test.append(j)\n",
    "    videos_mean_hm_test.append(h)"
   ]
  },
  {
   "cell_type": "code",
   "execution_count": 27,
   "metadata": {},
   "outputs": [
    {
     "output_type": "stream",
     "name": "stdout",
     "text": [
      "              precision    recall  f1-score   support\n\n       anger       1.00      1.00      1.00      2501\n     disgust       1.00      1.00      1.00      1818\n        fear       1.00      1.00      1.00      1113\n       happy       1.00      1.00      1.00      6196\n         sad       1.00      1.00      1.00      3369\n    surprise       1.00      1.00      1.00      3448\n\n   micro avg       1.00      1.00      1.00     18445\n   macro avg       1.00      1.00      1.00     18445\nweighted avg       1.00      1.00      1.00     18445\n samples avg       0.80      0.80      0.80     18445\n\n"
     ]
    }
   ],
   "source": [
    "print(metrics.classification_report(y_test, Y_pred_chains[0], target_names=affects))"
   ]
  },
  {
   "cell_type": "code",
   "execution_count": 36,
   "metadata": {},
   "outputs": [
    {
     "output_type": "execute_result",
     "data": {
      "text/plain": [
       "0.0"
      ]
     },
     "metadata": {},
     "execution_count": 36
    }
   ],
   "source": [
    "metrics.jaccard_score([0, 0, 0, 0], [0, 0, 0, 0])"
   ]
  },
  {
   "cell_type": "code",
   "execution_count": 33,
   "metadata": {
    "tags": []
   },
   "outputs": [
    {
     "output_type": "stream",
     "name": "stdout",
     "text": [
      "2743\n"
     ]
    }
   ],
   "source": [
    "c = 0\n",
    "for i in range(len(y_test)):\n",
    "    # print(sum(y_test[i]))\n",
    "    if  metrics.jaccard_score(y_test[i], Y_pred_chains[0][i]) < 1.0:\n",
    "        c += 1\n",
    "print(c)"
   ]
  },
  {
   "cell_type": "code",
   "execution_count": 23,
   "metadata": {},
   "outputs": [
    {
     "output_type": "display_data",
     "data": {
      "text/plain": "<Figure size 288x288 with 1 Axes>",
      "image/svg+xml": "<?xml version=\"1.0\" encoding=\"utf-8\" standalone=\"no\"?>\n<!DOCTYPE svg PUBLIC \"-//W3C//DTD SVG 1.1//EN\"\n  \"http://www.w3.org/Graphics/SVG/1.1/DTD/svg11.dtd\">\n<!-- Created with matplotlib (https://matplotlib.org/) -->\n<svg height=\"263.63625pt\" version=\"1.1\" viewBox=\"0 0 274.18125 263.63625\" width=\"274.18125pt\" xmlns=\"http://www.w3.org/2000/svg\" xmlns:xlink=\"http://www.w3.org/1999/xlink\">\n <metadata>\n  <rdf:RDF xmlns:cc=\"http://creativecommons.org/ns#\" xmlns:dc=\"http://purl.org/dc/elements/1.1/\" xmlns:rdf=\"http://www.w3.org/1999/02/22-rdf-syntax-ns#\">\n   <cc:Work>\n    <dc:type rdf:resource=\"http://purl.org/dc/dcmitype/StillImage\"/>\n    <dc:date>2021-08-04T22:02:50.691000</dc:date>\n    <dc:format>image/svg+xml</dc:format>\n    <dc:creator>\n     <cc:Agent>\n      <dc:title>Matplotlib v3.3.2, https://matplotlib.org/</dc:title>\n     </cc:Agent>\n    </dc:creator>\n   </cc:Work>\n  </rdf:RDF>\n </metadata>\n <defs>\n  <style type=\"text/css\">*{stroke-linecap:butt;stroke-linejoin:round;}</style>\n </defs>\n <g id=\"figure_1\">\n  <g id=\"patch_1\">\n   <path d=\"M 0 263.63625 \nL 274.18125 263.63625 \nL 274.18125 0 \nL 0 0 \nz\n\" style=\"fill:none;\"/>\n  </g>\n  <g id=\"axes_1\">\n   <g id=\"patch_2\">\n    <path d=\"M 43.78125 239.758125 \nL 266.98125 239.758125 \nL 266.98125 22.318125 \nL 43.78125 22.318125 \nz\n\" style=\"fill:#ffffff;\"/>\n   </g>\n   <g id=\"matplotlib.axis_1\">\n    <g id=\"xtick_1\">\n     <g id=\"line2d_1\">\n      <path clip-path=\"url(#p4692e0294d)\" d=\"M 53.926705 239.758125 \nL 53.926705 22.318125 \n\" style=\"fill:none;stroke:#b0b0b0;stroke-linecap:square;stroke-width:0.8;\"/>\n     </g>\n     <g id=\"line2d_2\">\n      <defs>\n       <path d=\"M 0 0 \nL 0 3.5 \n\" id=\"m972297ed97\" style=\"stroke:#000000;stroke-width:0.8;\"/>\n      </defs>\n      <g>\n       <use style=\"stroke:#000000;stroke-width:0.8;\" x=\"53.926705\" xlink:href=\"#m972297ed97\" y=\"239.758125\"/>\n      </g>\n     </g>\n     <g id=\"text_1\">\n      <!-- 0 -->\n      <g transform=\"translate(50.745455 254.356563)scale(0.1 -0.1)\">\n       <defs>\n        <path d=\"M 31.78125 66.40625 \nQ 24.171875 66.40625 20.328125 58.90625 \nQ 16.5 51.421875 16.5 36.375 \nQ 16.5 21.390625 20.328125 13.890625 \nQ 24.171875 6.390625 31.78125 6.390625 \nQ 39.453125 6.390625 43.28125 13.890625 \nQ 47.125 21.390625 47.125 36.375 \nQ 47.125 51.421875 43.28125 58.90625 \nQ 39.453125 66.40625 31.78125 66.40625 \nz\nM 31.78125 74.21875 \nQ 44.046875 74.21875 50.515625 64.515625 \nQ 56.984375 54.828125 56.984375 36.375 \nQ 56.984375 17.96875 50.515625 8.265625 \nQ 44.046875 -1.421875 31.78125 -1.421875 \nQ 19.53125 -1.421875 13.0625 8.265625 \nQ 6.59375 17.96875 6.59375 36.375 \nQ 6.59375 54.828125 13.0625 64.515625 \nQ 19.53125 74.21875 31.78125 74.21875 \nz\n\" id=\"DejaVuSans-48\"/>\n       </defs>\n       <use xlink:href=\"#DejaVuSans-48\"/>\n      </g>\n     </g>\n    </g>\n    <g id=\"xtick_2\">\n     <g id=\"line2d_3\">\n      <path clip-path=\"url(#p4692e0294d)\" d=\"M 104.653977 239.758125 \nL 104.653977 22.318125 \n\" style=\"fill:none;stroke:#b0b0b0;stroke-linecap:square;stroke-width:0.8;\"/>\n     </g>\n     <g id=\"line2d_4\">\n      <g>\n       <use style=\"stroke:#000000;stroke-width:0.8;\" x=\"104.653977\" xlink:href=\"#m972297ed97\" y=\"239.758125\"/>\n      </g>\n     </g>\n     <g id=\"text_2\">\n      <!-- 1 -->\n      <g transform=\"translate(101.472727 254.356563)scale(0.1 -0.1)\">\n       <defs>\n        <path d=\"M 12.40625 8.296875 \nL 28.515625 8.296875 \nL 28.515625 63.921875 \nL 10.984375 60.40625 \nL 10.984375 69.390625 \nL 28.421875 72.90625 \nL 38.28125 72.90625 \nL 38.28125 8.296875 \nL 54.390625 8.296875 \nL 54.390625 0 \nL 12.40625 0 \nz\n\" id=\"DejaVuSans-49\"/>\n       </defs>\n       <use xlink:href=\"#DejaVuSans-49\"/>\n      </g>\n     </g>\n    </g>\n    <g id=\"xtick_3\">\n     <g id=\"line2d_5\">\n      <path clip-path=\"url(#p4692e0294d)\" d=\"M 155.38125 239.758125 \nL 155.38125 22.318125 \n\" style=\"fill:none;stroke:#b0b0b0;stroke-linecap:square;stroke-width:0.8;\"/>\n     </g>\n     <g id=\"line2d_6\">\n      <g>\n       <use style=\"stroke:#000000;stroke-width:0.8;\" x=\"155.38125\" xlink:href=\"#m972297ed97\" y=\"239.758125\"/>\n      </g>\n     </g>\n     <g id=\"text_3\">\n      <!-- 2 -->\n      <g transform=\"translate(152.2 254.356563)scale(0.1 -0.1)\">\n       <defs>\n        <path d=\"M 19.1875 8.296875 \nL 53.609375 8.296875 \nL 53.609375 0 \nL 7.328125 0 \nL 7.328125 8.296875 \nQ 12.9375 14.109375 22.625 23.890625 \nQ 32.328125 33.6875 34.8125 36.53125 \nQ 39.546875 41.84375 41.421875 45.53125 \nQ 43.3125 49.21875 43.3125 52.78125 \nQ 43.3125 58.59375 39.234375 62.25 \nQ 35.15625 65.921875 28.609375 65.921875 \nQ 23.96875 65.921875 18.8125 64.3125 \nQ 13.671875 62.703125 7.8125 59.421875 \nL 7.8125 69.390625 \nQ 13.765625 71.78125 18.9375 73 \nQ 24.125 74.21875 28.421875 74.21875 \nQ 39.75 74.21875 46.484375 68.546875 \nQ 53.21875 62.890625 53.21875 53.421875 \nQ 53.21875 48.921875 51.53125 44.890625 \nQ 49.859375 40.875 45.40625 35.40625 \nQ 44.1875 33.984375 37.640625 27.21875 \nQ 31.109375 20.453125 19.1875 8.296875 \nz\n\" id=\"DejaVuSans-50\"/>\n       </defs>\n       <use xlink:href=\"#DejaVuSans-50\"/>\n      </g>\n     </g>\n    </g>\n    <g id=\"xtick_4\">\n     <g id=\"line2d_7\">\n      <path clip-path=\"url(#p4692e0294d)\" d=\"M 206.108523 239.758125 \nL 206.108523 22.318125 \n\" style=\"fill:none;stroke:#b0b0b0;stroke-linecap:square;stroke-width:0.8;\"/>\n     </g>\n     <g id=\"line2d_8\">\n      <g>\n       <use style=\"stroke:#000000;stroke-width:0.8;\" x=\"206.108523\" xlink:href=\"#m972297ed97\" y=\"239.758125\"/>\n      </g>\n     </g>\n     <g id=\"text_4\">\n      <!-- 3 -->\n      <g transform=\"translate(202.927273 254.356563)scale(0.1 -0.1)\">\n       <defs>\n        <path d=\"M 40.578125 39.3125 \nQ 47.65625 37.796875 51.625 33 \nQ 55.609375 28.21875 55.609375 21.1875 \nQ 55.609375 10.40625 48.1875 4.484375 \nQ 40.765625 -1.421875 27.09375 -1.421875 \nQ 22.515625 -1.421875 17.65625 -0.515625 \nQ 12.796875 0.390625 7.625 2.203125 \nL 7.625 11.71875 \nQ 11.71875 9.328125 16.59375 8.109375 \nQ 21.484375 6.890625 26.8125 6.890625 \nQ 36.078125 6.890625 40.9375 10.546875 \nQ 45.796875 14.203125 45.796875 21.1875 \nQ 45.796875 27.640625 41.28125 31.265625 \nQ 36.765625 34.90625 28.71875 34.90625 \nL 20.21875 34.90625 \nL 20.21875 43.015625 \nL 29.109375 43.015625 \nQ 36.375 43.015625 40.234375 45.921875 \nQ 44.09375 48.828125 44.09375 54.296875 \nQ 44.09375 59.90625 40.109375 62.90625 \nQ 36.140625 65.921875 28.71875 65.921875 \nQ 24.65625 65.921875 20.015625 65.03125 \nQ 15.375 64.15625 9.8125 62.3125 \nL 9.8125 71.09375 \nQ 15.4375 72.65625 20.34375 73.4375 \nQ 25.25 74.21875 29.59375 74.21875 \nQ 40.828125 74.21875 47.359375 69.109375 \nQ 53.90625 64.015625 53.90625 55.328125 \nQ 53.90625 49.265625 50.4375 45.09375 \nQ 46.96875 40.921875 40.578125 39.3125 \nz\n\" id=\"DejaVuSans-51\"/>\n       </defs>\n       <use xlink:href=\"#DejaVuSans-51\"/>\n      </g>\n     </g>\n    </g>\n    <g id=\"xtick_5\">\n     <g id=\"line2d_9\">\n      <path clip-path=\"url(#p4692e0294d)\" d=\"M 256.835795 239.758125 \nL 256.835795 22.318125 \n\" style=\"fill:none;stroke:#b0b0b0;stroke-linecap:square;stroke-width:0.8;\"/>\n     </g>\n     <g id=\"line2d_10\">\n      <g>\n       <use style=\"stroke:#000000;stroke-width:0.8;\" x=\"256.835795\" xlink:href=\"#m972297ed97\" y=\"239.758125\"/>\n      </g>\n     </g>\n     <g id=\"text_5\">\n      <!-- 4 -->\n      <g transform=\"translate(253.654545 254.356563)scale(0.1 -0.1)\">\n       <defs>\n        <path d=\"M 37.796875 64.3125 \nL 12.890625 25.390625 \nL 37.796875 25.390625 \nz\nM 35.203125 72.90625 \nL 47.609375 72.90625 \nL 47.609375 25.390625 \nL 58.015625 25.390625 \nL 58.015625 17.1875 \nL 47.609375 17.1875 \nL 47.609375 0 \nL 37.796875 0 \nL 37.796875 17.1875 \nL 4.890625 17.1875 \nL 4.890625 26.703125 \nz\n\" id=\"DejaVuSans-52\"/>\n       </defs>\n       <use xlink:href=\"#DejaVuSans-52\"/>\n      </g>\n     </g>\n    </g>\n   </g>\n   <g id=\"matplotlib.axis_2\">\n    <g id=\"ytick_1\">\n     <g id=\"line2d_11\">\n      <path clip-path=\"url(#p4692e0294d)\" d=\"M 43.78125 219.990852 \nL 266.98125 219.990852 \n\" style=\"fill:none;stroke:#b0b0b0;stroke-linecap:square;stroke-width:0.8;\"/>\n     </g>\n     <g id=\"line2d_12\">\n      <defs>\n       <path d=\"M 0 0 \nL -3.5 0 \n\" id=\"m074c4abe51\" style=\"stroke:#000000;stroke-width:0.8;\"/>\n      </defs>\n      <g>\n       <use style=\"stroke:#000000;stroke-width:0.8;\" x=\"43.78125\" xlink:href=\"#m074c4abe51\" y=\"219.990852\"/>\n      </g>\n     </g>\n     <g id=\"text_6\">\n      <!-- 0.6 -->\n      <g transform=\"translate(20.878125 223.790071)scale(0.1 -0.1)\">\n       <defs>\n        <path d=\"M 10.6875 12.40625 \nL 21 12.40625 \nL 21 0 \nL 10.6875 0 \nz\n\" id=\"DejaVuSans-46\"/>\n        <path d=\"M 33.015625 40.375 \nQ 26.375 40.375 22.484375 35.828125 \nQ 18.609375 31.296875 18.609375 23.390625 \nQ 18.609375 15.53125 22.484375 10.953125 \nQ 26.375 6.390625 33.015625 6.390625 \nQ 39.65625 6.390625 43.53125 10.953125 \nQ 47.40625 15.53125 47.40625 23.390625 \nQ 47.40625 31.296875 43.53125 35.828125 \nQ 39.65625 40.375 33.015625 40.375 \nz\nM 52.59375 71.296875 \nL 52.59375 62.3125 \nQ 48.875 64.0625 45.09375 64.984375 \nQ 41.3125 65.921875 37.59375 65.921875 \nQ 27.828125 65.921875 22.671875 59.328125 \nQ 17.53125 52.734375 16.796875 39.40625 \nQ 19.671875 43.65625 24.015625 45.921875 \nQ 28.375 48.1875 33.59375 48.1875 \nQ 44.578125 48.1875 50.953125 41.515625 \nQ 57.328125 34.859375 57.328125 23.390625 \nQ 57.328125 12.15625 50.6875 5.359375 \nQ 44.046875 -1.421875 33.015625 -1.421875 \nQ 20.359375 -1.421875 13.671875 8.265625 \nQ 6.984375 17.96875 6.984375 36.375 \nQ 6.984375 53.65625 15.1875 63.9375 \nQ 23.390625 74.21875 37.203125 74.21875 \nQ 40.921875 74.21875 44.703125 73.484375 \nQ 48.484375 72.75 52.59375 71.296875 \nz\n\" id=\"DejaVuSans-54\"/>\n       </defs>\n       <use xlink:href=\"#DejaVuSans-48\"/>\n       <use x=\"63.623047\" xlink:href=\"#DejaVuSans-46\"/>\n       <use x=\"95.410156\" xlink:href=\"#DejaVuSans-54\"/>\n      </g>\n     </g>\n    </g>\n    <g id=\"ytick_2\">\n     <g id=\"line2d_13\">\n      <path clip-path=\"url(#p4692e0294d)\" d=\"M 43.78125 180.456307 \nL 266.98125 180.456307 \n\" style=\"fill:none;stroke:#b0b0b0;stroke-linecap:square;stroke-width:0.8;\"/>\n     </g>\n     <g id=\"line2d_14\">\n      <g>\n       <use style=\"stroke:#000000;stroke-width:0.8;\" x=\"43.78125\" xlink:href=\"#m074c4abe51\" y=\"180.456307\"/>\n      </g>\n     </g>\n     <g id=\"text_7\">\n      <!-- 0.7 -->\n      <g transform=\"translate(20.878125 184.255526)scale(0.1 -0.1)\">\n       <defs>\n        <path d=\"M 8.203125 72.90625 \nL 55.078125 72.90625 \nL 55.078125 68.703125 \nL 28.609375 0 \nL 18.3125 0 \nL 43.21875 64.59375 \nL 8.203125 64.59375 \nz\n\" id=\"DejaVuSans-55\"/>\n       </defs>\n       <use xlink:href=\"#DejaVuSans-48\"/>\n       <use x=\"63.623047\" xlink:href=\"#DejaVuSans-46\"/>\n       <use x=\"95.410156\" xlink:href=\"#DejaVuSans-55\"/>\n      </g>\n     </g>\n    </g>\n    <g id=\"ytick_3\">\n     <g id=\"line2d_15\">\n      <path clip-path=\"url(#p4692e0294d)\" d=\"M 43.78125 140.921761 \nL 266.98125 140.921761 \n\" style=\"fill:none;stroke:#b0b0b0;stroke-linecap:square;stroke-width:0.8;\"/>\n     </g>\n     <g id=\"line2d_16\">\n      <g>\n       <use style=\"stroke:#000000;stroke-width:0.8;\" x=\"43.78125\" xlink:href=\"#m074c4abe51\" y=\"140.921761\"/>\n      </g>\n     </g>\n     <g id=\"text_8\">\n      <!-- 0.8 -->\n      <g transform=\"translate(20.878125 144.72098)scale(0.1 -0.1)\">\n       <defs>\n        <path d=\"M 31.78125 34.625 \nQ 24.75 34.625 20.71875 30.859375 \nQ 16.703125 27.09375 16.703125 20.515625 \nQ 16.703125 13.921875 20.71875 10.15625 \nQ 24.75 6.390625 31.78125 6.390625 \nQ 38.8125 6.390625 42.859375 10.171875 \nQ 46.921875 13.96875 46.921875 20.515625 \nQ 46.921875 27.09375 42.890625 30.859375 \nQ 38.875 34.625 31.78125 34.625 \nz\nM 21.921875 38.8125 \nQ 15.578125 40.375 12.03125 44.71875 \nQ 8.5 49.078125 8.5 55.328125 \nQ 8.5 64.0625 14.71875 69.140625 \nQ 20.953125 74.21875 31.78125 74.21875 \nQ 42.671875 74.21875 48.875 69.140625 \nQ 55.078125 64.0625 55.078125 55.328125 \nQ 55.078125 49.078125 51.53125 44.71875 \nQ 48 40.375 41.703125 38.8125 \nQ 48.828125 37.15625 52.796875 32.3125 \nQ 56.78125 27.484375 56.78125 20.515625 \nQ 56.78125 9.90625 50.3125 4.234375 \nQ 43.84375 -1.421875 31.78125 -1.421875 \nQ 19.734375 -1.421875 13.25 4.234375 \nQ 6.78125 9.90625 6.78125 20.515625 \nQ 6.78125 27.484375 10.78125 32.3125 \nQ 14.796875 37.15625 21.921875 38.8125 \nz\nM 18.3125 54.390625 \nQ 18.3125 48.734375 21.84375 45.5625 \nQ 25.390625 42.390625 31.78125 42.390625 \nQ 38.140625 42.390625 41.71875 45.5625 \nQ 45.3125 48.734375 45.3125 54.390625 \nQ 45.3125 60.0625 41.71875 63.234375 \nQ 38.140625 66.40625 31.78125 66.40625 \nQ 25.390625 66.40625 21.84375 63.234375 \nQ 18.3125 60.0625 18.3125 54.390625 \nz\n\" id=\"DejaVuSans-56\"/>\n       </defs>\n       <use xlink:href=\"#DejaVuSans-48\"/>\n       <use x=\"63.623047\" xlink:href=\"#DejaVuSans-46\"/>\n       <use x=\"95.410156\" xlink:href=\"#DejaVuSans-56\"/>\n      </g>\n     </g>\n    </g>\n    <g id=\"ytick_4\">\n     <g id=\"line2d_17\">\n      <path clip-path=\"url(#p4692e0294d)\" d=\"M 43.78125 101.387216 \nL 266.98125 101.387216 \n\" style=\"fill:none;stroke:#b0b0b0;stroke-linecap:square;stroke-width:0.8;\"/>\n     </g>\n     <g id=\"line2d_18\">\n      <g>\n       <use style=\"stroke:#000000;stroke-width:0.8;\" x=\"43.78125\" xlink:href=\"#m074c4abe51\" y=\"101.387216\"/>\n      </g>\n     </g>\n     <g id=\"text_9\">\n      <!-- 0.9 -->\n      <g transform=\"translate(20.878125 105.186435)scale(0.1 -0.1)\">\n       <defs>\n        <path d=\"M 10.984375 1.515625 \nL 10.984375 10.5 \nQ 14.703125 8.734375 18.5 7.8125 \nQ 22.3125 6.890625 25.984375 6.890625 \nQ 35.75 6.890625 40.890625 13.453125 \nQ 46.046875 20.015625 46.78125 33.40625 \nQ 43.953125 29.203125 39.59375 26.953125 \nQ 35.25 24.703125 29.984375 24.703125 \nQ 19.046875 24.703125 12.671875 31.3125 \nQ 6.296875 37.9375 6.296875 49.421875 \nQ 6.296875 60.640625 12.9375 67.421875 \nQ 19.578125 74.21875 30.609375 74.21875 \nQ 43.265625 74.21875 49.921875 64.515625 \nQ 56.59375 54.828125 56.59375 36.375 \nQ 56.59375 19.140625 48.40625 8.859375 \nQ 40.234375 -1.421875 26.421875 -1.421875 \nQ 22.703125 -1.421875 18.890625 -0.6875 \nQ 15.09375 0.046875 10.984375 1.515625 \nz\nM 30.609375 32.421875 \nQ 37.25 32.421875 41.125 36.953125 \nQ 45.015625 41.5 45.015625 49.421875 \nQ 45.015625 57.28125 41.125 61.84375 \nQ 37.25 66.40625 30.609375 66.40625 \nQ 23.96875 66.40625 20.09375 61.84375 \nQ 16.21875 57.28125 16.21875 49.421875 \nQ 16.21875 41.5 20.09375 36.953125 \nQ 23.96875 32.421875 30.609375 32.421875 \nz\n\" id=\"DejaVuSans-57\"/>\n       </defs>\n       <use xlink:href=\"#DejaVuSans-48\"/>\n       <use x=\"63.623047\" xlink:href=\"#DejaVuSans-46\"/>\n       <use x=\"95.410156\" xlink:href=\"#DejaVuSans-57\"/>\n      </g>\n     </g>\n    </g>\n    <g id=\"ytick_5\">\n     <g id=\"line2d_19\">\n      <path clip-path=\"url(#p4692e0294d)\" d=\"M 43.78125 61.85267 \nL 266.98125 61.85267 \n\" style=\"fill:none;stroke:#b0b0b0;stroke-linecap:square;stroke-width:0.8;\"/>\n     </g>\n     <g id=\"line2d_20\">\n      <g>\n       <use style=\"stroke:#000000;stroke-width:0.8;\" x=\"43.78125\" xlink:href=\"#m074c4abe51\" y=\"61.85267\"/>\n      </g>\n     </g>\n     <g id=\"text_10\">\n      <!-- 1.0 -->\n      <g transform=\"translate(20.878125 65.651889)scale(0.1 -0.1)\">\n       <use xlink:href=\"#DejaVuSans-49\"/>\n       <use x=\"63.623047\" xlink:href=\"#DejaVuSans-46\"/>\n       <use x=\"95.410156\" xlink:href=\"#DejaVuSans-48\"/>\n      </g>\n     </g>\n    </g>\n    <g id=\"ytick_6\">\n     <g id=\"line2d_21\">\n      <path clip-path=\"url(#p4692e0294d)\" d=\"M 43.78125 22.318125 \nL 266.98125 22.318125 \n\" style=\"fill:none;stroke:#b0b0b0;stroke-linecap:square;stroke-width:0.8;\"/>\n     </g>\n     <g id=\"line2d_22\">\n      <g>\n       <use style=\"stroke:#000000;stroke-width:0.8;\" x=\"43.78125\" xlink:href=\"#m074c4abe51\" y=\"22.318125\"/>\n      </g>\n     </g>\n     <g id=\"text_11\">\n      <!-- 1.1 -->\n      <g transform=\"translate(20.878125 26.117344)scale(0.1 -0.1)\">\n       <use xlink:href=\"#DejaVuSans-49\"/>\n       <use x=\"63.623047\" xlink:href=\"#DejaVuSans-46\"/>\n       <use x=\"95.410156\" xlink:href=\"#DejaVuSans-49\"/>\n      </g>\n     </g>\n    </g>\n    <g id=\"text_12\">\n     <!-- Jaccard Similarity Score -->\n     <g transform=\"translate(14.798438 190.102188)rotate(-90)scale(0.1 -0.1)\">\n      <defs>\n       <path d=\"M 9.8125 72.90625 \nL 19.671875 72.90625 \nL 19.671875 5.078125 \nQ 19.671875 -8.109375 14.671875 -14.0625 \nQ 9.671875 -20.015625 -1.421875 -20.015625 \nL -5.171875 -20.015625 \nL -5.171875 -11.71875 \nL -2.09375 -11.71875 \nQ 4.4375 -11.71875 7.125 -8.046875 \nQ 9.8125 -4.390625 9.8125 5.078125 \nz\n\" id=\"DejaVuSans-74\"/>\n       <path d=\"M 34.28125 27.484375 \nQ 23.390625 27.484375 19.1875 25 \nQ 14.984375 22.515625 14.984375 16.5 \nQ 14.984375 11.71875 18.140625 8.90625 \nQ 21.296875 6.109375 26.703125 6.109375 \nQ 34.1875 6.109375 38.703125 11.40625 \nQ 43.21875 16.703125 43.21875 25.484375 \nL 43.21875 27.484375 \nz\nM 52.203125 31.203125 \nL 52.203125 0 \nL 43.21875 0 \nL 43.21875 8.296875 \nQ 40.140625 3.328125 35.546875 0.953125 \nQ 30.953125 -1.421875 24.3125 -1.421875 \nQ 15.921875 -1.421875 10.953125 3.296875 \nQ 6 8.015625 6 15.921875 \nQ 6 25.140625 12.171875 29.828125 \nQ 18.359375 34.515625 30.609375 34.515625 \nL 43.21875 34.515625 \nL 43.21875 35.40625 \nQ 43.21875 41.609375 39.140625 45 \nQ 35.0625 48.390625 27.6875 48.390625 \nQ 23 48.390625 18.546875 47.265625 \nQ 14.109375 46.140625 10.015625 43.890625 \nL 10.015625 52.203125 \nQ 14.9375 54.109375 19.578125 55.046875 \nQ 24.21875 56 28.609375 56 \nQ 40.484375 56 46.34375 49.84375 \nQ 52.203125 43.703125 52.203125 31.203125 \nz\n\" id=\"DejaVuSans-97\"/>\n       <path d=\"M 48.78125 52.59375 \nL 48.78125 44.1875 \nQ 44.96875 46.296875 41.140625 47.34375 \nQ 37.3125 48.390625 33.40625 48.390625 \nQ 24.65625 48.390625 19.8125 42.84375 \nQ 14.984375 37.3125 14.984375 27.296875 \nQ 14.984375 17.28125 19.8125 11.734375 \nQ 24.65625 6.203125 33.40625 6.203125 \nQ 37.3125 6.203125 41.140625 7.25 \nQ 44.96875 8.296875 48.78125 10.40625 \nL 48.78125 2.09375 \nQ 45.015625 0.34375 40.984375 -0.53125 \nQ 36.96875 -1.421875 32.421875 -1.421875 \nQ 20.0625 -1.421875 12.78125 6.34375 \nQ 5.515625 14.109375 5.515625 27.296875 \nQ 5.515625 40.671875 12.859375 48.328125 \nQ 20.21875 56 33.015625 56 \nQ 37.15625 56 41.109375 55.140625 \nQ 45.0625 54.296875 48.78125 52.59375 \nz\n\" id=\"DejaVuSans-99\"/>\n       <path d=\"M 41.109375 46.296875 \nQ 39.59375 47.171875 37.8125 47.578125 \nQ 36.03125 48 33.890625 48 \nQ 26.265625 48 22.1875 43.046875 \nQ 18.109375 38.09375 18.109375 28.8125 \nL 18.109375 0 \nL 9.078125 0 \nL 9.078125 54.6875 \nL 18.109375 54.6875 \nL 18.109375 46.1875 \nQ 20.953125 51.171875 25.484375 53.578125 \nQ 30.03125 56 36.53125 56 \nQ 37.453125 56 38.578125 55.875 \nQ 39.703125 55.765625 41.0625 55.515625 \nz\n\" id=\"DejaVuSans-114\"/>\n       <path d=\"M 45.40625 46.390625 \nL 45.40625 75.984375 \nL 54.390625 75.984375 \nL 54.390625 0 \nL 45.40625 0 \nL 45.40625 8.203125 \nQ 42.578125 3.328125 38.25 0.953125 \nQ 33.9375 -1.421875 27.875 -1.421875 \nQ 17.96875 -1.421875 11.734375 6.484375 \nQ 5.515625 14.40625 5.515625 27.296875 \nQ 5.515625 40.1875 11.734375 48.09375 \nQ 17.96875 56 27.875 56 \nQ 33.9375 56 38.25 53.625 \nQ 42.578125 51.265625 45.40625 46.390625 \nz\nM 14.796875 27.296875 \nQ 14.796875 17.390625 18.875 11.75 \nQ 22.953125 6.109375 30.078125 6.109375 \nQ 37.203125 6.109375 41.296875 11.75 \nQ 45.40625 17.390625 45.40625 27.296875 \nQ 45.40625 37.203125 41.296875 42.84375 \nQ 37.203125 48.484375 30.078125 48.484375 \nQ 22.953125 48.484375 18.875 42.84375 \nQ 14.796875 37.203125 14.796875 27.296875 \nz\n\" id=\"DejaVuSans-100\"/>\n       <path id=\"DejaVuSans-32\"/>\n       <path d=\"M 53.515625 70.515625 \nL 53.515625 60.890625 \nQ 47.90625 63.578125 42.921875 64.890625 \nQ 37.9375 66.21875 33.296875 66.21875 \nQ 25.25 66.21875 20.875 63.09375 \nQ 16.5 59.96875 16.5 54.203125 \nQ 16.5 49.359375 19.40625 46.890625 \nQ 22.3125 44.4375 30.421875 42.921875 \nL 36.375 41.703125 \nQ 47.40625 39.59375 52.65625 34.296875 \nQ 57.90625 29 57.90625 20.125 \nQ 57.90625 9.515625 50.796875 4.046875 \nQ 43.703125 -1.421875 29.984375 -1.421875 \nQ 24.8125 -1.421875 18.96875 -0.25 \nQ 13.140625 0.921875 6.890625 3.21875 \nL 6.890625 13.375 \nQ 12.890625 10.015625 18.65625 8.296875 \nQ 24.421875 6.59375 29.984375 6.59375 \nQ 38.421875 6.59375 43.015625 9.90625 \nQ 47.609375 13.234375 47.609375 19.390625 \nQ 47.609375 24.75 44.3125 27.78125 \nQ 41.015625 30.8125 33.5 32.328125 \nL 27.484375 33.5 \nQ 16.453125 35.6875 11.515625 40.375 \nQ 6.59375 45.0625 6.59375 53.421875 \nQ 6.59375 63.09375 13.40625 68.65625 \nQ 20.21875 74.21875 32.171875 74.21875 \nQ 37.3125 74.21875 42.625 73.28125 \nQ 47.953125 72.359375 53.515625 70.515625 \nz\n\" id=\"DejaVuSans-83\"/>\n       <path d=\"M 9.421875 54.6875 \nL 18.40625 54.6875 \nL 18.40625 0 \nL 9.421875 0 \nz\nM 9.421875 75.984375 \nL 18.40625 75.984375 \nL 18.40625 64.59375 \nL 9.421875 64.59375 \nz\n\" id=\"DejaVuSans-105\"/>\n       <path d=\"M 52 44.1875 \nQ 55.375 50.25 60.0625 53.125 \nQ 64.75 56 71.09375 56 \nQ 79.640625 56 84.28125 50.015625 \nQ 88.921875 44.046875 88.921875 33.015625 \nL 88.921875 0 \nL 79.890625 0 \nL 79.890625 32.71875 \nQ 79.890625 40.578125 77.09375 44.375 \nQ 74.3125 48.1875 68.609375 48.1875 \nQ 61.625 48.1875 57.5625 43.546875 \nQ 53.515625 38.921875 53.515625 30.90625 \nL 53.515625 0 \nL 44.484375 0 \nL 44.484375 32.71875 \nQ 44.484375 40.625 41.703125 44.40625 \nQ 38.921875 48.1875 33.109375 48.1875 \nQ 26.21875 48.1875 22.15625 43.53125 \nQ 18.109375 38.875 18.109375 30.90625 \nL 18.109375 0 \nL 9.078125 0 \nL 9.078125 54.6875 \nL 18.109375 54.6875 \nL 18.109375 46.1875 \nQ 21.1875 51.21875 25.484375 53.609375 \nQ 29.78125 56 35.6875 56 \nQ 41.65625 56 45.828125 52.96875 \nQ 50 49.953125 52 44.1875 \nz\n\" id=\"DejaVuSans-109\"/>\n       <path d=\"M 9.421875 75.984375 \nL 18.40625 75.984375 \nL 18.40625 0 \nL 9.421875 0 \nz\n\" id=\"DejaVuSans-108\"/>\n       <path d=\"M 18.3125 70.21875 \nL 18.3125 54.6875 \nL 36.8125 54.6875 \nL 36.8125 47.703125 \nL 18.3125 47.703125 \nL 18.3125 18.015625 \nQ 18.3125 11.328125 20.140625 9.421875 \nQ 21.96875 7.515625 27.59375 7.515625 \nL 36.8125 7.515625 \nL 36.8125 0 \nL 27.59375 0 \nQ 17.1875 0 13.234375 3.875 \nQ 9.28125 7.765625 9.28125 18.015625 \nL 9.28125 47.703125 \nL 2.6875 47.703125 \nL 2.6875 54.6875 \nL 9.28125 54.6875 \nL 9.28125 70.21875 \nz\n\" id=\"DejaVuSans-116\"/>\n       <path d=\"M 32.171875 -5.078125 \nQ 28.375 -14.84375 24.75 -17.8125 \nQ 21.140625 -20.796875 15.09375 -20.796875 \nL 7.90625 -20.796875 \nL 7.90625 -13.28125 \nL 13.1875 -13.28125 \nQ 16.890625 -13.28125 18.9375 -11.515625 \nQ 21 -9.765625 23.484375 -3.21875 \nL 25.09375 0.875 \nL 2.984375 54.6875 \nL 12.5 54.6875 \nL 29.59375 11.921875 \nL 46.6875 54.6875 \nL 56.203125 54.6875 \nz\n\" id=\"DejaVuSans-121\"/>\n       <path d=\"M 30.609375 48.390625 \nQ 23.390625 48.390625 19.1875 42.75 \nQ 14.984375 37.109375 14.984375 27.296875 \nQ 14.984375 17.484375 19.15625 11.84375 \nQ 23.34375 6.203125 30.609375 6.203125 \nQ 37.796875 6.203125 41.984375 11.859375 \nQ 46.1875 17.53125 46.1875 27.296875 \nQ 46.1875 37.015625 41.984375 42.703125 \nQ 37.796875 48.390625 30.609375 48.390625 \nz\nM 30.609375 56 \nQ 42.328125 56 49.015625 48.375 \nQ 55.71875 40.765625 55.71875 27.296875 \nQ 55.71875 13.875 49.015625 6.21875 \nQ 42.328125 -1.421875 30.609375 -1.421875 \nQ 18.84375 -1.421875 12.171875 6.21875 \nQ 5.515625 13.875 5.515625 27.296875 \nQ 5.515625 40.765625 12.171875 48.375 \nQ 18.84375 56 30.609375 56 \nz\n\" id=\"DejaVuSans-111\"/>\n       <path d=\"M 56.203125 29.59375 \nL 56.203125 25.203125 \nL 14.890625 25.203125 \nQ 15.484375 15.921875 20.484375 11.0625 \nQ 25.484375 6.203125 34.421875 6.203125 \nQ 39.59375 6.203125 44.453125 7.46875 \nQ 49.3125 8.734375 54.109375 11.28125 \nL 54.109375 2.78125 \nQ 49.265625 0.734375 44.1875 -0.34375 \nQ 39.109375 -1.421875 33.890625 -1.421875 \nQ 20.796875 -1.421875 13.15625 6.1875 \nQ 5.515625 13.8125 5.515625 26.8125 \nQ 5.515625 40.234375 12.765625 48.109375 \nQ 20.015625 56 32.328125 56 \nQ 43.359375 56 49.78125 48.890625 \nQ 56.203125 41.796875 56.203125 29.59375 \nz\nM 47.21875 32.234375 \nQ 47.125 39.59375 43.09375 43.984375 \nQ 39.0625 48.390625 32.421875 48.390625 \nQ 24.90625 48.390625 20.390625 44.140625 \nQ 15.875 39.890625 15.1875 32.171875 \nz\n\" id=\"DejaVuSans-101\"/>\n      </defs>\n      <use xlink:href=\"#DejaVuSans-74\"/>\n      <use x=\"29.492188\" xlink:href=\"#DejaVuSans-97\"/>\n      <use x=\"90.771484\" xlink:href=\"#DejaVuSans-99\"/>\n      <use x=\"145.751953\" xlink:href=\"#DejaVuSans-99\"/>\n      <use x=\"200.732422\" xlink:href=\"#DejaVuSans-97\"/>\n      <use x=\"262.011719\" xlink:href=\"#DejaVuSans-114\"/>\n      <use x=\"301.375\" xlink:href=\"#DejaVuSans-100\"/>\n      <use x=\"364.851562\" xlink:href=\"#DejaVuSans-32\"/>\n      <use x=\"396.638672\" xlink:href=\"#DejaVuSans-83\"/>\n      <use x=\"460.115234\" xlink:href=\"#DejaVuSans-105\"/>\n      <use x=\"487.898438\" xlink:href=\"#DejaVuSans-109\"/>\n      <use x=\"585.310547\" xlink:href=\"#DejaVuSans-105\"/>\n      <use x=\"613.09375\" xlink:href=\"#DejaVuSans-108\"/>\n      <use x=\"640.876953\" xlink:href=\"#DejaVuSans-97\"/>\n      <use x=\"702.15625\" xlink:href=\"#DejaVuSans-114\"/>\n      <use x=\"743.269531\" xlink:href=\"#DejaVuSans-105\"/>\n      <use x=\"771.052734\" xlink:href=\"#DejaVuSans-116\"/>\n      <use x=\"810.261719\" xlink:href=\"#DejaVuSans-121\"/>\n      <use x=\"869.441406\" xlink:href=\"#DejaVuSans-32\"/>\n      <use x=\"901.228516\" xlink:href=\"#DejaVuSans-83\"/>\n      <use x=\"964.705078\" xlink:href=\"#DejaVuSans-99\"/>\n      <use x=\"1019.685547\" xlink:href=\"#DejaVuSans-111\"/>\n      <use x=\"1080.867188\" xlink:href=\"#DejaVuSans-114\"/>\n      <use x=\"1119.730469\" xlink:href=\"#DejaVuSans-101\"/>\n     </g>\n    </g>\n   </g>\n   <g id=\"line2d_23\">\n    <path clip-path=\"url(#p4692e0294d)\" d=\"M 53.926705 139.076933 \nL 104.653977 139.040001 \nL 155.38125 139.061105 \nL 206.108523 139.036484 \nL 256.835795 139.036484 \n\" style=\"fill:none;stroke:#0000ff;stroke-linecap:square;stroke-width:1.5;\"/>\n   </g>\n   <g id=\"line2d_24\">\n    <path clip-path=\"url(#p4692e0294d)\" d=\"M 53.926705 136.76023 \nL 104.653977 136.76023 \nL 155.38125 136.76023 \nL 206.108523 136.76023 \nL 256.835795 136.76023 \n\" style=\"fill:none;stroke:#008000;stroke-linecap:square;stroke-width:1.5;\"/>\n   </g>\n   <g id=\"patch_3\">\n    <path d=\"M 43.78125 239.758125 \nL 43.78125 22.318125 \n\" style=\"fill:none;stroke:#000000;stroke-linecap:square;stroke-linejoin:miter;stroke-width:0.8;\"/>\n   </g>\n   <g id=\"patch_4\">\n    <path d=\"M 266.98125 239.758125 \nL 266.98125 22.318125 \n\" style=\"fill:none;stroke:#000000;stroke-linecap:square;stroke-linejoin:miter;stroke-width:0.8;\"/>\n   </g>\n   <g id=\"patch_5\">\n    <path d=\"M 43.78125 239.758125 \nL 266.98125 239.758125 \n\" style=\"fill:none;stroke:#000000;stroke-linecap:square;stroke-linejoin:miter;stroke-width:0.8;\"/>\n   </g>\n   <g id=\"patch_6\">\n    <path d=\"M 43.78125 22.318125 \nL 266.98125 22.318125 \n\" style=\"fill:none;stroke:#000000;stroke-linecap:square;stroke-linejoin:miter;stroke-width:0.8;\"/>\n   </g>\n   <g id=\"text_13\">\n    <!-- CC Jaccard Score -->\n    <g transform=\"translate(104.492812 16.318125)scale(0.12 -0.12)\">\n     <defs>\n      <path d=\"M 64.40625 67.28125 \nL 64.40625 56.890625 \nQ 59.421875 61.53125 53.78125 63.8125 \nQ 48.140625 66.109375 41.796875 66.109375 \nQ 29.296875 66.109375 22.65625 58.46875 \nQ 16.015625 50.828125 16.015625 36.375 \nQ 16.015625 21.96875 22.65625 14.328125 \nQ 29.296875 6.6875 41.796875 6.6875 \nQ 48.140625 6.6875 53.78125 8.984375 \nQ 59.421875 11.28125 64.40625 15.921875 \nL 64.40625 5.609375 \nQ 59.234375 2.09375 53.4375 0.328125 \nQ 47.65625 -1.421875 41.21875 -1.421875 \nQ 24.65625 -1.421875 15.125 8.703125 \nQ 5.609375 18.84375 5.609375 36.375 \nQ 5.609375 53.953125 15.125 64.078125 \nQ 24.65625 74.21875 41.21875 74.21875 \nQ 47.75 74.21875 53.53125 72.484375 \nQ 59.328125 70.75 64.40625 67.28125 \nz\n\" id=\"DejaVuSans-67\"/>\n     </defs>\n     <use xlink:href=\"#DejaVuSans-67\"/>\n     <use x=\"69.824219\" xlink:href=\"#DejaVuSans-67\"/>\n     <use x=\"139.648438\" xlink:href=\"#DejaVuSans-32\"/>\n     <use x=\"171.435547\" xlink:href=\"#DejaVuSans-74\"/>\n     <use x=\"200.927734\" xlink:href=\"#DejaVuSans-97\"/>\n     <use x=\"262.207031\" xlink:href=\"#DejaVuSans-99\"/>\n     <use x=\"317.1875\" xlink:href=\"#DejaVuSans-99\"/>\n     <use x=\"372.167969\" xlink:href=\"#DejaVuSans-97\"/>\n     <use x=\"433.447266\" xlink:href=\"#DejaVuSans-114\"/>\n     <use x=\"472.810547\" xlink:href=\"#DejaVuSans-100\"/>\n     <use x=\"536.287109\" xlink:href=\"#DejaVuSans-32\"/>\n     <use x=\"568.074219\" xlink:href=\"#DejaVuSans-83\"/>\n     <use x=\"631.550781\" xlink:href=\"#DejaVuSans-99\"/>\n     <use x=\"686.53125\" xlink:href=\"#DejaVuSans-111\"/>\n     <use x=\"747.712891\" xlink:href=\"#DejaVuSans-114\"/>\n     <use x=\"786.576172\" xlink:href=\"#DejaVuSans-101\"/>\n    </g>\n   </g>\n   <g id=\"legend_1\">\n    <g id=\"patch_7\">\n     <path d=\"M 120.764062 234.758125 \nL 259.98125 234.758125 \nQ 261.98125 234.758125 261.98125 232.758125 \nL 261.98125 204.401875 \nQ 261.98125 202.401875 259.98125 202.401875 \nL 120.764062 202.401875 \nQ 118.764062 202.401875 118.764062 204.401875 \nL 118.764062 232.758125 \nQ 118.764062 234.758125 120.764062 234.758125 \nz\n\" style=\"fill:#ffffff;opacity:0.8;stroke:#cccccc;stroke-linejoin:miter;\"/>\n    </g>\n    <g id=\"line2d_25\">\n     <path d=\"M 122.764062 210.500313 \nL 142.764062 210.500313 \n\" style=\"fill:none;stroke:#0000ff;stroke-linecap:square;stroke-width:1.5;\"/>\n    </g>\n    <g id=\"line2d_26\"/>\n    <g id=\"text_14\">\n     <!-- Frames Jaccard Score -->\n     <g transform=\"translate(150.764062 214.000313)scale(0.1 -0.1)\">\n      <defs>\n       <path d=\"M 9.8125 72.90625 \nL 51.703125 72.90625 \nL 51.703125 64.59375 \nL 19.671875 64.59375 \nL 19.671875 43.109375 \nL 48.578125 43.109375 \nL 48.578125 34.8125 \nL 19.671875 34.8125 \nL 19.671875 0 \nL 9.8125 0 \nz\n\" id=\"DejaVuSans-70\"/>\n       <path d=\"M 44.28125 53.078125 \nL 44.28125 44.578125 \nQ 40.484375 46.53125 36.375 47.5 \nQ 32.28125 48.484375 27.875 48.484375 \nQ 21.1875 48.484375 17.84375 46.4375 \nQ 14.5 44.390625 14.5 40.28125 \nQ 14.5 37.15625 16.890625 35.375 \nQ 19.28125 33.59375 26.515625 31.984375 \nL 29.59375 31.296875 \nQ 39.15625 29.25 43.1875 25.515625 \nQ 47.21875 21.78125 47.21875 15.09375 \nQ 47.21875 7.46875 41.1875 3.015625 \nQ 35.15625 -1.421875 24.609375 -1.421875 \nQ 20.21875 -1.421875 15.453125 -0.5625 \nQ 10.6875 0.296875 5.421875 2 \nL 5.421875 11.28125 \nQ 10.40625 8.6875 15.234375 7.390625 \nQ 20.0625 6.109375 24.8125 6.109375 \nQ 31.15625 6.109375 34.5625 8.28125 \nQ 37.984375 10.453125 37.984375 14.40625 \nQ 37.984375 18.0625 35.515625 20.015625 \nQ 33.0625 21.96875 24.703125 23.78125 \nL 21.578125 24.515625 \nQ 13.234375 26.265625 9.515625 29.90625 \nQ 5.8125 33.546875 5.8125 39.890625 \nQ 5.8125 47.609375 11.28125 51.796875 \nQ 16.75 56 26.8125 56 \nQ 31.78125 56 36.171875 55.265625 \nQ 40.578125 54.546875 44.28125 53.078125 \nz\n\" id=\"DejaVuSans-115\"/>\n      </defs>\n      <use xlink:href=\"#DejaVuSans-70\"/>\n      <use x=\"50.269531\" xlink:href=\"#DejaVuSans-114\"/>\n      <use x=\"91.382812\" xlink:href=\"#DejaVuSans-97\"/>\n      <use x=\"152.662109\" xlink:href=\"#DejaVuSans-109\"/>\n      <use x=\"250.074219\" xlink:href=\"#DejaVuSans-101\"/>\n      <use x=\"311.597656\" xlink:href=\"#DejaVuSans-115\"/>\n      <use x=\"363.697266\" xlink:href=\"#DejaVuSans-32\"/>\n      <use x=\"395.484375\" xlink:href=\"#DejaVuSans-74\"/>\n      <use x=\"424.976562\" xlink:href=\"#DejaVuSans-97\"/>\n      <use x=\"486.255859\" xlink:href=\"#DejaVuSans-99\"/>\n      <use x=\"541.236328\" xlink:href=\"#DejaVuSans-99\"/>\n      <use x=\"596.216797\" xlink:href=\"#DejaVuSans-97\"/>\n      <use x=\"657.496094\" xlink:href=\"#DejaVuSans-114\"/>\n      <use x=\"696.859375\" xlink:href=\"#DejaVuSans-100\"/>\n      <use x=\"760.335938\" xlink:href=\"#DejaVuSans-32\"/>\n      <use x=\"792.123047\" xlink:href=\"#DejaVuSans-83\"/>\n      <use x=\"855.599609\" xlink:href=\"#DejaVuSans-99\"/>\n      <use x=\"910.580078\" xlink:href=\"#DejaVuSans-111\"/>\n      <use x=\"971.761719\" xlink:href=\"#DejaVuSans-114\"/>\n      <use x=\"1010.625\" xlink:href=\"#DejaVuSans-101\"/>\n     </g>\n    </g>\n    <g id=\"line2d_27\">\n     <path d=\"M 122.764062 225.178438 \nL 142.764062 225.178438 \n\" style=\"fill:none;stroke:#008000;stroke-linecap:square;stroke-width:1.5;\"/>\n    </g>\n    <g id=\"line2d_28\"/>\n    <g id=\"text_15\">\n     <!-- Video Jaccard Score -->\n     <g transform=\"translate(150.764062 228.678438)scale(0.1 -0.1)\">\n      <defs>\n       <path d=\"M 28.609375 0 \nL 0.78125 72.90625 \nL 11.078125 72.90625 \nL 34.1875 11.53125 \nL 57.328125 72.90625 \nL 67.578125 72.90625 \nL 39.796875 0 \nz\n\" id=\"DejaVuSans-86\"/>\n      </defs>\n      <use xlink:href=\"#DejaVuSans-86\"/>\n      <use x=\"66.158203\" xlink:href=\"#DejaVuSans-105\"/>\n      <use x=\"93.941406\" xlink:href=\"#DejaVuSans-100\"/>\n      <use x=\"157.417969\" xlink:href=\"#DejaVuSans-101\"/>\n      <use x=\"218.941406\" xlink:href=\"#DejaVuSans-111\"/>\n      <use x=\"280.123047\" xlink:href=\"#DejaVuSans-32\"/>\n      <use x=\"311.910156\" xlink:href=\"#DejaVuSans-74\"/>\n      <use x=\"341.402344\" xlink:href=\"#DejaVuSans-97\"/>\n      <use x=\"402.681641\" xlink:href=\"#DejaVuSans-99\"/>\n      <use x=\"457.662109\" xlink:href=\"#DejaVuSans-99\"/>\n      <use x=\"512.642578\" xlink:href=\"#DejaVuSans-97\"/>\n      <use x=\"573.921875\" xlink:href=\"#DejaVuSans-114\"/>\n      <use x=\"613.285156\" xlink:href=\"#DejaVuSans-100\"/>\n      <use x=\"676.761719\" xlink:href=\"#DejaVuSans-32\"/>\n      <use x=\"708.548828\" xlink:href=\"#DejaVuSans-83\"/>\n      <use x=\"772.025391\" xlink:href=\"#DejaVuSans-99\"/>\n      <use x=\"827.005859\" xlink:href=\"#DejaVuSans-111\"/>\n      <use x=\"888.1875\" xlink:href=\"#DejaVuSans-114\"/>\n      <use x=\"927.050781\" xlink:href=\"#DejaVuSans-101\"/>\n     </g>\n    </g>\n   </g>\n  </g>\n </g>\n <defs>\n  <clipPath id=\"p4692e0294d\">\n   <rect height=\"217.44\" width=\"223.2\" x=\"43.78125\" y=\"22.318125\"/>\n  </clipPath>\n </defs>\n</svg>\n",
      "image/png": "[encoded data removed]"
     },
     "metadata": {
      "needs_background": "light"
     }
    }
   ],
   "source": [
    "fig, ax = plt.subplots(figsize=(4, 4))\n",
    "ax.grid(True)\n",
    "ax.set_title('CC Jaccard Score')\n",
    "ax.set_xticks(range(0,7))\n",
    "ax.set_xticklabels(range(0,7))\n",
    "ax.set_ylabel('Jaccard Similarity Score')\n",
    "ax.set_ylim([0.55, 1.1])\n",
    "\n",
    "plt.plot(frames_mean_jac_test, label='Frames Jaccard Score', color='blue')\n",
    "plt.plot(videos_mean_jac_test, label='Video Jaccard Score', color='green')\n",
    "plt.legend(loc='lower right')\n",
    "plt.show()"
   ]
  },
  {
   "cell_type": "code",
   "execution_count": 24,
   "metadata": {},
   "outputs": [
    {
     "output_type": "display_data",
     "data": {
      "text/plain": "<Figure size 288x288 with 1 Axes>",
      "image/svg+xml": "<?xml version=\"1.0\" encoding=\"utf-8\" standalone=\"no\"?>\n<!DOCTYPE svg PUBLIC \"-//W3C//DTD SVG 1.1//EN\"\n  \"http://www.w3.org/Graphics/SVG/1.1/DTD/svg11.dtd\">\n<!-- Created with matplotlib (https://matplotlib.org/) -->\n<svg height=\"263.63625pt\" version=\"1.1\" viewBox=\"0 0 280.54375 263.63625\" width=\"280.54375pt\" xmlns=\"http://www.w3.org/2000/svg\" xmlns:xlink=\"http://www.w3.org/1999/xlink\">\n <metadata>\n  <rdf:RDF xmlns:cc=\"http://creativecommons.org/ns#\" xmlns:dc=\"http://purl.org/dc/elements/1.1/\" xmlns:rdf=\"http://www.w3.org/1999/02/22-rdf-syntax-ns#\">\n   <cc:Work>\n    <dc:type rdf:resource=\"http://purl.org/dc/dcmitype/StillImage\"/>\n    <dc:date>2021-08-04T22:03:14.820498</dc:date>\n    <dc:format>image/svg+xml</dc:format>\n    <dc:creator>\n     <cc:Agent>\n      <dc:title>Matplotlib v3.3.2, https://matplotlib.org/</dc:title>\n     </cc:Agent>\n    </dc:creator>\n   </cc:Work>\n  </rdf:RDF>\n </metadata>\n <defs>\n  <style type=\"text/css\">*{stroke-linecap:butt;stroke-linejoin:round;}</style>\n </defs>\n <g id=\"figure_1\">\n  <g id=\"patch_1\">\n   <path d=\"M 0 263.63625 \nL 280.54375 263.63625 \nL 280.54375 0 \nL 0 0 \nz\n\" style=\"fill:none;\"/>\n  </g>\n  <g id=\"axes_1\">\n   <g id=\"patch_2\">\n    <path d=\"M 50.14375 239.758125 \nL 273.34375 239.758125 \nL 273.34375 22.318125 \nL 50.14375 22.318125 \nz\n\" style=\"fill:#ffffff;\"/>\n   </g>\n   <g id=\"matplotlib.axis_1\">\n    <g id=\"xtick_1\">\n     <g id=\"line2d_1\">\n      <path clip-path=\"url(#p5100f4ef45)\" d=\"M 60.289205 239.758125 \nL 60.289205 22.318125 \n\" style=\"fill:none;stroke:#b0b0b0;stroke-linecap:square;stroke-width:0.8;\"/>\n     </g>\n     <g id=\"line2d_2\">\n      <defs>\n       <path d=\"M 0 0 \nL 0 3.5 \n\" id=\"m171badd601\" style=\"stroke:#000000;stroke-width:0.8;\"/>\n      </defs>\n      <g>\n       <use style=\"stroke:#000000;stroke-width:0.8;\" x=\"60.289205\" xlink:href=\"#m171badd601\" y=\"239.758125\"/>\n      </g>\n     </g>\n     <g id=\"text_1\">\n      <!-- 0 -->\n      <g transform=\"translate(57.107955 254.356563)scale(0.1 -0.1)\">\n       <defs>\n        <path d=\"M 31.78125 66.40625 \nQ 24.171875 66.40625 20.328125 58.90625 \nQ 16.5 51.421875 16.5 36.375 \nQ 16.5 21.390625 20.328125 13.890625 \nQ 24.171875 6.390625 31.78125 6.390625 \nQ 39.453125 6.390625 43.28125 13.890625 \nQ 47.125 21.390625 47.125 36.375 \nQ 47.125 51.421875 43.28125 58.90625 \nQ 39.453125 66.40625 31.78125 66.40625 \nz\nM 31.78125 74.21875 \nQ 44.046875 74.21875 50.515625 64.515625 \nQ 56.984375 54.828125 56.984375 36.375 \nQ 56.984375 17.96875 50.515625 8.265625 \nQ 44.046875 -1.421875 31.78125 -1.421875 \nQ 19.53125 -1.421875 13.0625 8.265625 \nQ 6.59375 17.96875 6.59375 36.375 \nQ 6.59375 54.828125 13.0625 64.515625 \nQ 19.53125 74.21875 31.78125 74.21875 \nz\n\" id=\"DejaVuSans-48\"/>\n       </defs>\n       <use xlink:href=\"#DejaVuSans-48\"/>\n      </g>\n     </g>\n    </g>\n    <g id=\"xtick_2\">\n     <g id=\"line2d_3\">\n      <path clip-path=\"url(#p5100f4ef45)\" d=\"M 111.016477 239.758125 \nL 111.016477 22.318125 \n\" style=\"fill:none;stroke:#b0b0b0;stroke-linecap:square;stroke-width:0.8;\"/>\n     </g>\n     <g id=\"line2d_4\">\n      <g>\n       <use style=\"stroke:#000000;stroke-width:0.8;\" x=\"111.016477\" xlink:href=\"#m171badd601\" y=\"239.758125\"/>\n      </g>\n     </g>\n     <g id=\"text_2\">\n      <!-- 1 -->\n      <g transform=\"translate(107.835227 254.356563)scale(0.1 -0.1)\">\n       <defs>\n        <path d=\"M 12.40625 8.296875 \nL 28.515625 8.296875 \nL 28.515625 63.921875 \nL 10.984375 60.40625 \nL 10.984375 69.390625 \nL 28.421875 72.90625 \nL 38.28125 72.90625 \nL 38.28125 8.296875 \nL 54.390625 8.296875 \nL 54.390625 0 \nL 12.40625 0 \nz\n\" id=\"DejaVuSans-49\"/>\n       </defs>\n       <use xlink:href=\"#DejaVuSans-49\"/>\n      </g>\n     </g>\n    </g>\n    <g id=\"xtick_3\">\n     <g id=\"line2d_5\">\n      <path clip-path=\"url(#p5100f4ef45)\" d=\"M 161.74375 239.758125 \nL 161.74375 22.318125 \n\" style=\"fill:none;stroke:#b0b0b0;stroke-linecap:square;stroke-width:0.8;\"/>\n     </g>\n     <g id=\"line2d_6\">\n      <g>\n       <use style=\"stroke:#000000;stroke-width:0.8;\" x=\"161.74375\" xlink:href=\"#m171badd601\" y=\"239.758125\"/>\n      </g>\n     </g>\n     <g id=\"text_3\">\n      <!-- 2 -->\n      <g transform=\"translate(158.5625 254.356563)scale(0.1 -0.1)\">\n       <defs>\n        <path d=\"M 19.1875 8.296875 \nL 53.609375 8.296875 \nL 53.609375 0 \nL 7.328125 0 \nL 7.328125 8.296875 \nQ 12.9375 14.109375 22.625 23.890625 \nQ 32.328125 33.6875 34.8125 36.53125 \nQ 39.546875 41.84375 41.421875 45.53125 \nQ 43.3125 49.21875 43.3125 52.78125 \nQ 43.3125 58.59375 39.234375 62.25 \nQ 35.15625 65.921875 28.609375 65.921875 \nQ 23.96875 65.921875 18.8125 64.3125 \nQ 13.671875 62.703125 7.8125 59.421875 \nL 7.8125 69.390625 \nQ 13.765625 71.78125 18.9375 73 \nQ 24.125 74.21875 28.421875 74.21875 \nQ 39.75 74.21875 46.484375 68.546875 \nQ 53.21875 62.890625 53.21875 53.421875 \nQ 53.21875 48.921875 51.53125 44.890625 \nQ 49.859375 40.875 45.40625 35.40625 \nQ 44.1875 33.984375 37.640625 27.21875 \nQ 31.109375 20.453125 19.1875 8.296875 \nz\n\" id=\"DejaVuSans-50\"/>\n       </defs>\n       <use xlink:href=\"#DejaVuSans-50\"/>\n      </g>\n     </g>\n    </g>\n    <g id=\"xtick_4\">\n     <g id=\"line2d_7\">\n      <path clip-path=\"url(#p5100f4ef45)\" d=\"M 212.471023 239.758125 \nL 212.471023 22.318125 \n\" style=\"fill:none;stroke:#b0b0b0;stroke-linecap:square;stroke-width:0.8;\"/>\n     </g>\n     <g id=\"line2d_8\">\n      <g>\n       <use style=\"stroke:#000000;stroke-width:0.8;\" x=\"212.471023\" xlink:href=\"#m171badd601\" y=\"239.758125\"/>\n      </g>\n     </g>\n     <g id=\"text_4\">\n      <!-- 3 -->\n      <g transform=\"translate(209.289773 254.356563)scale(0.1 -0.1)\">\n       <defs>\n        <path d=\"M 40.578125 39.3125 \nQ 47.65625 37.796875 51.625 33 \nQ 55.609375 28.21875 55.609375 21.1875 \nQ 55.609375 10.40625 48.1875 4.484375 \nQ 40.765625 -1.421875 27.09375 -1.421875 \nQ 22.515625 -1.421875 17.65625 -0.515625 \nQ 12.796875 0.390625 7.625 2.203125 \nL 7.625 11.71875 \nQ 11.71875 9.328125 16.59375 8.109375 \nQ 21.484375 6.890625 26.8125 6.890625 \nQ 36.078125 6.890625 40.9375 10.546875 \nQ 45.796875 14.203125 45.796875 21.1875 \nQ 45.796875 27.640625 41.28125 31.265625 \nQ 36.765625 34.90625 28.71875 34.90625 \nL 20.21875 34.90625 \nL 20.21875 43.015625 \nL 29.109375 43.015625 \nQ 36.375 43.015625 40.234375 45.921875 \nQ 44.09375 48.828125 44.09375 54.296875 \nQ 44.09375 59.90625 40.109375 62.90625 \nQ 36.140625 65.921875 28.71875 65.921875 \nQ 24.65625 65.921875 20.015625 65.03125 \nQ 15.375 64.15625 9.8125 62.3125 \nL 9.8125 71.09375 \nQ 15.4375 72.65625 20.34375 73.4375 \nQ 25.25 74.21875 29.59375 74.21875 \nQ 40.828125 74.21875 47.359375 69.109375 \nQ 53.90625 64.015625 53.90625 55.328125 \nQ 53.90625 49.265625 50.4375 45.09375 \nQ 46.96875 40.921875 40.578125 39.3125 \nz\n\" id=\"DejaVuSans-51\"/>\n       </defs>\n       <use xlink:href=\"#DejaVuSans-51\"/>\n      </g>\n     </g>\n    </g>\n    <g id=\"xtick_5\">\n     <g id=\"line2d_9\">\n      <path clip-path=\"url(#p5100f4ef45)\" d=\"M 263.198295 239.758125 \nL 263.198295 22.318125 \n\" style=\"fill:none;stroke:#b0b0b0;stroke-linecap:square;stroke-width:0.8;\"/>\n     </g>\n     <g id=\"line2d_10\">\n      <g>\n       <use style=\"stroke:#000000;stroke-width:0.8;\" x=\"263.198295\" xlink:href=\"#m171badd601\" y=\"239.758125\"/>\n      </g>\n     </g>\n     <g id=\"text_5\">\n      <!-- 4 -->\n      <g transform=\"translate(260.017045 254.356563)scale(0.1 -0.1)\">\n       <defs>\n        <path d=\"M 37.796875 64.3125 \nL 12.890625 25.390625 \nL 37.796875 25.390625 \nz\nM 35.203125 72.90625 \nL 47.609375 72.90625 \nL 47.609375 25.390625 \nL 58.015625 25.390625 \nL 58.015625 17.1875 \nL 47.609375 17.1875 \nL 47.609375 0 \nL 37.796875 0 \nL 37.796875 17.1875 \nL 4.890625 17.1875 \nL 4.890625 26.703125 \nz\n\" id=\"DejaVuSans-52\"/>\n       </defs>\n       <use xlink:href=\"#DejaVuSans-52\"/>\n      </g>\n     </g>\n    </g>\n   </g>\n   <g id=\"matplotlib.axis_2\">\n    <g id=\"ytick_1\">\n     <g id=\"line2d_11\">\n      <path clip-path=\"url(#p5100f4ef45)\" d=\"M 50.14375 239.758125 \nL 273.34375 239.758125 \n\" style=\"fill:none;stroke:#b0b0b0;stroke-linecap:square;stroke-width:0.8;\"/>\n     </g>\n     <g id=\"line2d_12\">\n      <defs>\n       <path d=\"M 0 0 \nL -3.5 0 \n\" id=\"m7ed39dd2fa\" style=\"stroke:#000000;stroke-width:0.8;\"/>\n      </defs>\n      <g>\n       <use style=\"stroke:#000000;stroke-width:0.8;\" x=\"50.14375\" xlink:href=\"#m7ed39dd2fa\" y=\"239.758125\"/>\n      </g>\n     </g>\n     <g id=\"text_6\">\n      <!-- 0.00 -->\n      <g transform=\"translate(20.878125 243.557344)scale(0.1 -0.1)\">\n       <defs>\n        <path d=\"M 10.6875 12.40625 \nL 21 12.40625 \nL 21 0 \nL 10.6875 0 \nz\n\" id=\"DejaVuSans-46\"/>\n       </defs>\n       <use xlink:href=\"#DejaVuSans-48\"/>\n       <use x=\"63.623047\" xlink:href=\"#DejaVuSans-46\"/>\n       <use x=\"95.410156\" xlink:href=\"#DejaVuSans-48\"/>\n       <use x=\"159.033203\" xlink:href=\"#DejaVuSans-48\"/>\n      </g>\n     </g>\n    </g>\n    <g id=\"ytick_2\">\n     <g id=\"line2d_13\">\n      <path clip-path=\"url(#p5100f4ef45)\" d=\"M 50.14375 196.270125 \nL 273.34375 196.270125 \n\" style=\"fill:none;stroke:#b0b0b0;stroke-linecap:square;stroke-width:0.8;\"/>\n     </g>\n     <g id=\"line2d_14\">\n      <g>\n       <use style=\"stroke:#000000;stroke-width:0.8;\" x=\"50.14375\" xlink:href=\"#m7ed39dd2fa\" y=\"196.270125\"/>\n      </g>\n     </g>\n     <g id=\"text_7\">\n      <!-- 0.02 -->\n      <g transform=\"translate(20.878125 200.069344)scale(0.1 -0.1)\">\n       <use xlink:href=\"#DejaVuSans-48\"/>\n       <use x=\"63.623047\" xlink:href=\"#DejaVuSans-46\"/>\n       <use x=\"95.410156\" xlink:href=\"#DejaVuSans-48\"/>\n       <use x=\"159.033203\" xlink:href=\"#DejaVuSans-50\"/>\n      </g>\n     </g>\n    </g>\n    <g id=\"ytick_3\">\n     <g id=\"line2d_15\">\n      <path clip-path=\"url(#p5100f4ef45)\" d=\"M 50.14375 152.782125 \nL 273.34375 152.782125 \n\" style=\"fill:none;stroke:#b0b0b0;stroke-linecap:square;stroke-width:0.8;\"/>\n     </g>\n     <g id=\"line2d_16\">\n      <g>\n       <use style=\"stroke:#000000;stroke-width:0.8;\" x=\"50.14375\" xlink:href=\"#m7ed39dd2fa\" y=\"152.782125\"/>\n      </g>\n     </g>\n     <g id=\"text_8\">\n      <!-- 0.04 -->\n      <g transform=\"translate(20.878125 156.581344)scale(0.1 -0.1)\">\n       <use xlink:href=\"#DejaVuSans-48\"/>\n       <use x=\"63.623047\" xlink:href=\"#DejaVuSans-46\"/>\n       <use x=\"95.410156\" xlink:href=\"#DejaVuSans-48\"/>\n       <use x=\"159.033203\" xlink:href=\"#DejaVuSans-52\"/>\n      </g>\n     </g>\n    </g>\n    <g id=\"ytick_4\">\n     <g id=\"line2d_17\">\n      <path clip-path=\"url(#p5100f4ef45)\" d=\"M 50.14375 109.294125 \nL 273.34375 109.294125 \n\" style=\"fill:none;stroke:#b0b0b0;stroke-linecap:square;stroke-width:0.8;\"/>\n     </g>\n     <g id=\"line2d_18\">\n      <g>\n       <use style=\"stroke:#000000;stroke-width:0.8;\" x=\"50.14375\" xlink:href=\"#m7ed39dd2fa\" y=\"109.294125\"/>\n      </g>\n     </g>\n     <g id=\"text_9\">\n      <!-- 0.06 -->\n      <g transform=\"translate(20.878125 113.093344)scale(0.1 -0.1)\">\n       <defs>\n        <path d=\"M 33.015625 40.375 \nQ 26.375 40.375 22.484375 35.828125 \nQ 18.609375 31.296875 18.609375 23.390625 \nQ 18.609375 15.53125 22.484375 10.953125 \nQ 26.375 6.390625 33.015625 6.390625 \nQ 39.65625 6.390625 43.53125 10.953125 \nQ 47.40625 15.53125 47.40625 23.390625 \nQ 47.40625 31.296875 43.53125 35.828125 \nQ 39.65625 40.375 33.015625 40.375 \nz\nM 52.59375 71.296875 \nL 52.59375 62.3125 \nQ 48.875 64.0625 45.09375 64.984375 \nQ 41.3125 65.921875 37.59375 65.921875 \nQ 27.828125 65.921875 22.671875 59.328125 \nQ 17.53125 52.734375 16.796875 39.40625 \nQ 19.671875 43.65625 24.015625 45.921875 \nQ 28.375 48.1875 33.59375 48.1875 \nQ 44.578125 48.1875 50.953125 41.515625 \nQ 57.328125 34.859375 57.328125 23.390625 \nQ 57.328125 12.15625 50.6875 5.359375 \nQ 44.046875 -1.421875 33.015625 -1.421875 \nQ 20.359375 -1.421875 13.671875 8.265625 \nQ 6.984375 17.96875 6.984375 36.375 \nQ 6.984375 53.65625 15.1875 63.9375 \nQ 23.390625 74.21875 37.203125 74.21875 \nQ 40.921875 74.21875 44.703125 73.484375 \nQ 48.484375 72.75 52.59375 71.296875 \nz\n\" id=\"DejaVuSans-54\"/>\n       </defs>\n       <use xlink:href=\"#DejaVuSans-48\"/>\n       <use x=\"63.623047\" xlink:href=\"#DejaVuSans-46\"/>\n       <use x=\"95.410156\" xlink:href=\"#DejaVuSans-48\"/>\n       <use x=\"159.033203\" xlink:href=\"#DejaVuSans-54\"/>\n      </g>\n     </g>\n    </g>\n    <g id=\"ytick_5\">\n     <g id=\"line2d_19\">\n      <path clip-path=\"url(#p5100f4ef45)\" d=\"M 50.14375 65.806125 \nL 273.34375 65.806125 \n\" style=\"fill:none;stroke:#b0b0b0;stroke-linecap:square;stroke-width:0.8;\"/>\n     </g>\n     <g id=\"line2d_20\">\n      <g>\n       <use style=\"stroke:#000000;stroke-width:0.8;\" x=\"50.14375\" xlink:href=\"#m7ed39dd2fa\" y=\"65.806125\"/>\n      </g>\n     </g>\n     <g id=\"text_10\">\n      <!-- 0.08 -->\n      <g transform=\"translate(20.878125 69.605344)scale(0.1 -0.1)\">\n       <defs>\n        <path d=\"M 31.78125 34.625 \nQ 24.75 34.625 20.71875 30.859375 \nQ 16.703125 27.09375 16.703125 20.515625 \nQ 16.703125 13.921875 20.71875 10.15625 \nQ 24.75 6.390625 31.78125 6.390625 \nQ 38.8125 6.390625 42.859375 10.171875 \nQ 46.921875 13.96875 46.921875 20.515625 \nQ 46.921875 27.09375 42.890625 30.859375 \nQ 38.875 34.625 31.78125 34.625 \nz\nM 21.921875 38.8125 \nQ 15.578125 40.375 12.03125 44.71875 \nQ 8.5 49.078125 8.5 55.328125 \nQ 8.5 64.0625 14.71875 69.140625 \nQ 20.953125 74.21875 31.78125 74.21875 \nQ 42.671875 74.21875 48.875 69.140625 \nQ 55.078125 64.0625 55.078125 55.328125 \nQ 55.078125 49.078125 51.53125 44.71875 \nQ 48 40.375 41.703125 38.8125 \nQ 48.828125 37.15625 52.796875 32.3125 \nQ 56.78125 27.484375 56.78125 20.515625 \nQ 56.78125 9.90625 50.3125 4.234375 \nQ 43.84375 -1.421875 31.78125 -1.421875 \nQ 19.734375 -1.421875 13.25 4.234375 \nQ 6.78125 9.90625 6.78125 20.515625 \nQ 6.78125 27.484375 10.78125 32.3125 \nQ 14.796875 37.15625 21.921875 38.8125 \nz\nM 18.3125 54.390625 \nQ 18.3125 48.734375 21.84375 45.5625 \nQ 25.390625 42.390625 31.78125 42.390625 \nQ 38.140625 42.390625 41.71875 45.5625 \nQ 45.3125 48.734375 45.3125 54.390625 \nQ 45.3125 60.0625 41.71875 63.234375 \nQ 38.140625 66.40625 31.78125 66.40625 \nQ 25.390625 66.40625 21.84375 63.234375 \nQ 18.3125 60.0625 18.3125 54.390625 \nz\n\" id=\"DejaVuSans-56\"/>\n       </defs>\n       <use xlink:href=\"#DejaVuSans-48\"/>\n       <use x=\"63.623047\" xlink:href=\"#DejaVuSans-46\"/>\n       <use x=\"95.410156\" xlink:href=\"#DejaVuSans-48\"/>\n       <use x=\"159.033203\" xlink:href=\"#DejaVuSans-56\"/>\n      </g>\n     </g>\n    </g>\n    <g id=\"ytick_6\">\n     <g id=\"line2d_21\">\n      <path clip-path=\"url(#p5100f4ef45)\" d=\"M 50.14375 22.318125 \nL 273.34375 22.318125 \n\" style=\"fill:none;stroke:#b0b0b0;stroke-linecap:square;stroke-width:0.8;\"/>\n     </g>\n     <g id=\"line2d_22\">\n      <g>\n       <use style=\"stroke:#000000;stroke-width:0.8;\" x=\"50.14375\" xlink:href=\"#m7ed39dd2fa\" y=\"22.318125\"/>\n      </g>\n     </g>\n     <g id=\"text_11\">\n      <!-- 0.10 -->\n      <g transform=\"translate(20.878125 26.117344)scale(0.1 -0.1)\">\n       <use xlink:href=\"#DejaVuSans-48\"/>\n       <use x=\"63.623047\" xlink:href=\"#DejaVuSans-46\"/>\n       <use x=\"95.410156\" xlink:href=\"#DejaVuSans-49\"/>\n       <use x=\"159.033203\" xlink:href=\"#DejaVuSans-48\"/>\n      </g>\n     </g>\n    </g>\n    <g id=\"text_12\">\n     <!-- Hamming Distance Loss -->\n     <g transform=\"translate(14.798438 191.342813)rotate(-90)scale(0.1 -0.1)\">\n      <defs>\n       <path d=\"M 9.8125 72.90625 \nL 19.671875 72.90625 \nL 19.671875 43.015625 \nL 55.515625 43.015625 \nL 55.515625 72.90625 \nL 65.375 72.90625 \nL 65.375 0 \nL 55.515625 0 \nL 55.515625 34.71875 \nL 19.671875 34.71875 \nL 19.671875 0 \nL 9.8125 0 \nz\n\" id=\"DejaVuSans-72\"/>\n       <path d=\"M 34.28125 27.484375 \nQ 23.390625 27.484375 19.1875 25 \nQ 14.984375 22.515625 14.984375 16.5 \nQ 14.984375 11.71875 18.140625 8.90625 \nQ 21.296875 6.109375 26.703125 6.109375 \nQ 34.1875 6.109375 38.703125 11.40625 \nQ 43.21875 16.703125 43.21875 25.484375 \nL 43.21875 27.484375 \nz\nM 52.203125 31.203125 \nL 52.203125 0 \nL 43.21875 0 \nL 43.21875 8.296875 \nQ 40.140625 3.328125 35.546875 0.953125 \nQ 30.953125 -1.421875 24.3125 -1.421875 \nQ 15.921875 -1.421875 10.953125 3.296875 \nQ 6 8.015625 6 15.921875 \nQ 6 25.140625 12.171875 29.828125 \nQ 18.359375 34.515625 30.609375 34.515625 \nL 43.21875 34.515625 \nL 43.21875 35.40625 \nQ 43.21875 41.609375 39.140625 45 \nQ 35.0625 48.390625 27.6875 48.390625 \nQ 23 48.390625 18.546875 47.265625 \nQ 14.109375 46.140625 10.015625 43.890625 \nL 10.015625 52.203125 \nQ 14.9375 54.109375 19.578125 55.046875 \nQ 24.21875 56 28.609375 56 \nQ 40.484375 56 46.34375 49.84375 \nQ 52.203125 43.703125 52.203125 31.203125 \nz\n\" id=\"DejaVuSans-97\"/>\n       <path d=\"M 52 44.1875 \nQ 55.375 50.25 60.0625 53.125 \nQ 64.75 56 71.09375 56 \nQ 79.640625 56 84.28125 50.015625 \nQ 88.921875 44.046875 88.921875 33.015625 \nL 88.921875 0 \nL 79.890625 0 \nL 79.890625 32.71875 \nQ 79.890625 40.578125 77.09375 44.375 \nQ 74.3125 48.1875 68.609375 48.1875 \nQ 61.625 48.1875 57.5625 43.546875 \nQ 53.515625 38.921875 53.515625 30.90625 \nL 53.515625 0 \nL 44.484375 0 \nL 44.484375 32.71875 \nQ 44.484375 40.625 41.703125 44.40625 \nQ 38.921875 48.1875 33.109375 48.1875 \nQ 26.21875 48.1875 22.15625 43.53125 \nQ 18.109375 38.875 18.109375 30.90625 \nL 18.109375 0 \nL 9.078125 0 \nL 9.078125 54.6875 \nL 18.109375 54.6875 \nL 18.109375 46.1875 \nQ 21.1875 51.21875 25.484375 53.609375 \nQ 29.78125 56 35.6875 56 \nQ 41.65625 56 45.828125 52.96875 \nQ 50 49.953125 52 44.1875 \nz\n\" id=\"DejaVuSans-109\"/>\n       <path d=\"M 9.421875 54.6875 \nL 18.40625 54.6875 \nL 18.40625 0 \nL 9.421875 0 \nz\nM 9.421875 75.984375 \nL 18.40625 75.984375 \nL 18.40625 64.59375 \nL 9.421875 64.59375 \nz\n\" id=\"DejaVuSans-105\"/>\n       <path d=\"M 54.890625 33.015625 \nL 54.890625 0 \nL 45.90625 0 \nL 45.90625 32.71875 \nQ 45.90625 40.484375 42.875 44.328125 \nQ 39.84375 48.1875 33.796875 48.1875 \nQ 26.515625 48.1875 22.3125 43.546875 \nQ 18.109375 38.921875 18.109375 30.90625 \nL 18.109375 0 \nL 9.078125 0 \nL 9.078125 54.6875 \nL 18.109375 54.6875 \nL 18.109375 46.1875 \nQ 21.34375 51.125 25.703125 53.5625 \nQ 30.078125 56 35.796875 56 \nQ 45.21875 56 50.046875 50.171875 \nQ 54.890625 44.34375 54.890625 33.015625 \nz\n\" id=\"DejaVuSans-110\"/>\n       <path d=\"M 45.40625 27.984375 \nQ 45.40625 37.75 41.375 43.109375 \nQ 37.359375 48.484375 30.078125 48.484375 \nQ 22.859375 48.484375 18.828125 43.109375 \nQ 14.796875 37.75 14.796875 27.984375 \nQ 14.796875 18.265625 18.828125 12.890625 \nQ 22.859375 7.515625 30.078125 7.515625 \nQ 37.359375 7.515625 41.375 12.890625 \nQ 45.40625 18.265625 45.40625 27.984375 \nz\nM 54.390625 6.78125 \nQ 54.390625 -7.171875 48.1875 -13.984375 \nQ 42 -20.796875 29.203125 -20.796875 \nQ 24.46875 -20.796875 20.265625 -20.09375 \nQ 16.0625 -19.390625 12.109375 -17.921875 \nL 12.109375 -9.1875 \nQ 16.0625 -11.328125 19.921875 -12.34375 \nQ 23.78125 -13.375 27.78125 -13.375 \nQ 36.625 -13.375 41.015625 -8.765625 \nQ 45.40625 -4.15625 45.40625 5.171875 \nL 45.40625 9.625 \nQ 42.625 4.78125 38.28125 2.390625 \nQ 33.9375 0 27.875 0 \nQ 17.828125 0 11.671875 7.65625 \nQ 5.515625 15.328125 5.515625 27.984375 \nQ 5.515625 40.671875 11.671875 48.328125 \nQ 17.828125 56 27.875 56 \nQ 33.9375 56 38.28125 53.609375 \nQ 42.625 51.21875 45.40625 46.390625 \nL 45.40625 54.6875 \nL 54.390625 54.6875 \nz\n\" id=\"DejaVuSans-103\"/>\n       <path id=\"DejaVuSans-32\"/>\n       <path d=\"M 19.671875 64.796875 \nL 19.671875 8.109375 \nL 31.59375 8.109375 \nQ 46.6875 8.109375 53.6875 14.9375 \nQ 60.6875 21.78125 60.6875 36.53125 \nQ 60.6875 51.171875 53.6875 57.984375 \nQ 46.6875 64.796875 31.59375 64.796875 \nz\nM 9.8125 72.90625 \nL 30.078125 72.90625 \nQ 51.265625 72.90625 61.171875 64.09375 \nQ 71.09375 55.28125 71.09375 36.53125 \nQ 71.09375 17.671875 61.125 8.828125 \nQ 51.171875 0 30.078125 0 \nL 9.8125 0 \nz\n\" id=\"DejaVuSans-68\"/>\n       <path d=\"M 44.28125 53.078125 \nL 44.28125 44.578125 \nQ 40.484375 46.53125 36.375 47.5 \nQ 32.28125 48.484375 27.875 48.484375 \nQ 21.1875 48.484375 17.84375 46.4375 \nQ 14.5 44.390625 14.5 40.28125 \nQ 14.5 37.15625 16.890625 35.375 \nQ 19.28125 33.59375 26.515625 31.984375 \nL 29.59375 31.296875 \nQ 39.15625 29.25 43.1875 25.515625 \nQ 47.21875 21.78125 47.21875 15.09375 \nQ 47.21875 7.46875 41.1875 3.015625 \nQ 35.15625 -1.421875 24.609375 -1.421875 \nQ 20.21875 -1.421875 15.453125 -0.5625 \nQ 10.6875 0.296875 5.421875 2 \nL 5.421875 11.28125 \nQ 10.40625 8.6875 15.234375 7.390625 \nQ 20.0625 6.109375 24.8125 6.109375 \nQ 31.15625 6.109375 34.5625 8.28125 \nQ 37.984375 10.453125 37.984375 14.40625 \nQ 37.984375 18.0625 35.515625 20.015625 \nQ 33.0625 21.96875 24.703125 23.78125 \nL 21.578125 24.515625 \nQ 13.234375 26.265625 9.515625 29.90625 \nQ 5.8125 33.546875 5.8125 39.890625 \nQ 5.8125 47.609375 11.28125 51.796875 \nQ 16.75 56 26.8125 56 \nQ 31.78125 56 36.171875 55.265625 \nQ 40.578125 54.546875 44.28125 53.078125 \nz\n\" id=\"DejaVuSans-115\"/>\n       <path d=\"M 18.3125 70.21875 \nL 18.3125 54.6875 \nL 36.8125 54.6875 \nL 36.8125 47.703125 \nL 18.3125 47.703125 \nL 18.3125 18.015625 \nQ 18.3125 11.328125 20.140625 9.421875 \nQ 21.96875 7.515625 27.59375 7.515625 \nL 36.8125 7.515625 \nL 36.8125 0 \nL 27.59375 0 \nQ 17.1875 0 13.234375 3.875 \nQ 9.28125 7.765625 9.28125 18.015625 \nL 9.28125 47.703125 \nL 2.6875 47.703125 \nL 2.6875 54.6875 \nL 9.28125 54.6875 \nL 9.28125 70.21875 \nz\n\" id=\"DejaVuSans-116\"/>\n       <path d=\"M 48.78125 52.59375 \nL 48.78125 44.1875 \nQ 44.96875 46.296875 41.140625 47.34375 \nQ 37.3125 48.390625 33.40625 48.390625 \nQ 24.65625 48.390625 19.8125 42.84375 \nQ 14.984375 37.3125 14.984375 27.296875 \nQ 14.984375 17.28125 19.8125 11.734375 \nQ 24.65625 6.203125 33.40625 6.203125 \nQ 37.3125 6.203125 41.140625 7.25 \nQ 44.96875 8.296875 48.78125 10.40625 \nL 48.78125 2.09375 \nQ 45.015625 0.34375 40.984375 -0.53125 \nQ 36.96875 -1.421875 32.421875 -1.421875 \nQ 20.0625 -1.421875 12.78125 6.34375 \nQ 5.515625 14.109375 5.515625 27.296875 \nQ 5.515625 40.671875 12.859375 48.328125 \nQ 20.21875 56 33.015625 56 \nQ 37.15625 56 41.109375 55.140625 \nQ 45.0625 54.296875 48.78125 52.59375 \nz\n\" id=\"DejaVuSans-99\"/>\n       <path d=\"M 56.203125 29.59375 \nL 56.203125 25.203125 \nL 14.890625 25.203125 \nQ 15.484375 15.921875 20.484375 11.0625 \nQ 25.484375 6.203125 34.421875 6.203125 \nQ 39.59375 6.203125 44.453125 7.46875 \nQ 49.3125 8.734375 54.109375 11.28125 \nL 54.109375 2.78125 \nQ 49.265625 0.734375 44.1875 -0.34375 \nQ 39.109375 -1.421875 33.890625 -1.421875 \nQ 20.796875 -1.421875 13.15625 6.1875 \nQ 5.515625 13.8125 5.515625 26.8125 \nQ 5.515625 40.234375 12.765625 48.109375 \nQ 20.015625 56 32.328125 56 \nQ 43.359375 56 49.78125 48.890625 \nQ 56.203125 41.796875 56.203125 29.59375 \nz\nM 47.21875 32.234375 \nQ 47.125 39.59375 43.09375 43.984375 \nQ 39.0625 48.390625 32.421875 48.390625 \nQ 24.90625 48.390625 20.390625 44.140625 \nQ 15.875 39.890625 15.1875 32.171875 \nz\n\" id=\"DejaVuSans-101\"/>\n       <path d=\"M 9.8125 72.90625 \nL 19.671875 72.90625 \nL 19.671875 8.296875 \nL 55.171875 8.296875 \nL 55.171875 0 \nL 9.8125 0 \nz\n\" id=\"DejaVuSans-76\"/>\n       <path d=\"M 30.609375 48.390625 \nQ 23.390625 48.390625 19.1875 42.75 \nQ 14.984375 37.109375 14.984375 27.296875 \nQ 14.984375 17.484375 19.15625 11.84375 \nQ 23.34375 6.203125 30.609375 6.203125 \nQ 37.796875 6.203125 41.984375 11.859375 \nQ 46.1875 17.53125 46.1875 27.296875 \nQ 46.1875 37.015625 41.984375 42.703125 \nQ 37.796875 48.390625 30.609375 48.390625 \nz\nM 30.609375 56 \nQ 42.328125 56 49.015625 48.375 \nQ 55.71875 40.765625 55.71875 27.296875 \nQ 55.71875 13.875 49.015625 6.21875 \nQ 42.328125 -1.421875 30.609375 -1.421875 \nQ 18.84375 -1.421875 12.171875 6.21875 \nQ 5.515625 13.875 5.515625 27.296875 \nQ 5.515625 40.765625 12.171875 48.375 \nQ 18.84375 56 30.609375 56 \nz\n\" id=\"DejaVuSans-111\"/>\n      </defs>\n      <use xlink:href=\"#DejaVuSans-72\"/>\n      <use x=\"75.195312\" xlink:href=\"#DejaVuSans-97\"/>\n      <use x=\"136.474609\" xlink:href=\"#DejaVuSans-109\"/>\n      <use x=\"233.886719\" xlink:href=\"#DejaVuSans-109\"/>\n      <use x=\"331.298828\" xlink:href=\"#DejaVuSans-105\"/>\n      <use x=\"359.082031\" xlink:href=\"#DejaVuSans-110\"/>\n      <use x=\"422.460938\" xlink:href=\"#DejaVuSans-103\"/>\n      <use x=\"485.9375\" xlink:href=\"#DejaVuSans-32\"/>\n      <use x=\"517.724609\" xlink:href=\"#DejaVuSans-68\"/>\n      <use x=\"594.726562\" xlink:href=\"#DejaVuSans-105\"/>\n      <use x=\"622.509766\" xlink:href=\"#DejaVuSans-115\"/>\n      <use x=\"674.609375\" xlink:href=\"#DejaVuSans-116\"/>\n      <use x=\"713.818359\" xlink:href=\"#DejaVuSans-97\"/>\n      <use x=\"775.097656\" xlink:href=\"#DejaVuSans-110\"/>\n      <use x=\"838.476562\" xlink:href=\"#DejaVuSans-99\"/>\n      <use x=\"893.457031\" xlink:href=\"#DejaVuSans-101\"/>\n      <use x=\"954.980469\" xlink:href=\"#DejaVuSans-32\"/>\n      <use x=\"986.767578\" xlink:href=\"#DejaVuSans-76\"/>\n      <use x=\"1040.730469\" xlink:href=\"#DejaVuSans-111\"/>\n      <use x=\"1101.912109\" xlink:href=\"#DejaVuSans-115\"/>\n      <use x=\"1154.011719\" xlink:href=\"#DejaVuSans-115\"/>\n     </g>\n    </g>\n   </g>\n   <g id=\"line2d_23\">\n    <path clip-path=\"url(#p5100f4ef45)\" d=\"M 60.289205 239.667847 \nL 111.016477 239.745228 \nL 161.74375 239.667847 \nL 212.471023 239.758125 \nL 263.198295 239.758125 \n\" style=\"fill:none;stroke:#ff0000;stroke-linecap:square;stroke-width:1.5;\"/>\n   </g>\n   <g id=\"line2d_24\">\n    <path clip-path=\"url(#p5100f4ef45)\" d=\"M 60.289205 239.758125 \nL 111.016477 239.758125 \nL 161.74375 239.758125 \nL 212.471023 239.758125 \nL 263.198295 239.758125 \n\" style=\"fill:none;stroke:#008000;stroke-linecap:square;stroke-width:1.5;\"/>\n   </g>\n   <g id=\"patch_3\">\n    <path d=\"M 50.14375 239.758125 \nL 50.14375 22.318125 \n\" style=\"fill:none;stroke:#000000;stroke-linecap:square;stroke-linejoin:miter;stroke-width:0.8;\"/>\n   </g>\n   <g id=\"patch_4\">\n    <path d=\"M 273.34375 239.758125 \nL 273.34375 22.318125 \n\" style=\"fill:none;stroke:#000000;stroke-linecap:square;stroke-linejoin:miter;stroke-width:0.8;\"/>\n   </g>\n   <g id=\"patch_5\">\n    <path d=\"M 50.14375 239.758125 \nL 273.34375 239.758125 \n\" style=\"fill:none;stroke:#000000;stroke-linecap:square;stroke-linejoin:miter;stroke-width:0.8;\"/>\n   </g>\n   <g id=\"patch_6\">\n    <path d=\"M 50.14375 22.318125 \nL 273.34375 22.318125 \n\" style=\"fill:none;stroke:#000000;stroke-linecap:square;stroke-linejoin:miter;stroke-width:0.8;\"/>\n   </g>\n   <g id=\"text_13\">\n    <!-- CC Hamming Loss -->\n    <g transform=\"translate(107.23375 16.318125)scale(0.12 -0.12)\">\n     <defs>\n      <path d=\"M 64.40625 67.28125 \nL 64.40625 56.890625 \nQ 59.421875 61.53125 53.78125 63.8125 \nQ 48.140625 66.109375 41.796875 66.109375 \nQ 29.296875 66.109375 22.65625 58.46875 \nQ 16.015625 50.828125 16.015625 36.375 \nQ 16.015625 21.96875 22.65625 14.328125 \nQ 29.296875 6.6875 41.796875 6.6875 \nQ 48.140625 6.6875 53.78125 8.984375 \nQ 59.421875 11.28125 64.40625 15.921875 \nL 64.40625 5.609375 \nQ 59.234375 2.09375 53.4375 0.328125 \nQ 47.65625 -1.421875 41.21875 -1.421875 \nQ 24.65625 -1.421875 15.125 8.703125 \nQ 5.609375 18.84375 5.609375 36.375 \nQ 5.609375 53.953125 15.125 64.078125 \nQ 24.65625 74.21875 41.21875 74.21875 \nQ 47.75 74.21875 53.53125 72.484375 \nQ 59.328125 70.75 64.40625 67.28125 \nz\n\" id=\"DejaVuSans-67\"/>\n     </defs>\n     <use xlink:href=\"#DejaVuSans-67\"/>\n     <use x=\"69.824219\" xlink:href=\"#DejaVuSans-67\"/>\n     <use x=\"139.648438\" xlink:href=\"#DejaVuSans-32\"/>\n     <use x=\"171.435547\" xlink:href=\"#DejaVuSans-72\"/>\n     <use x=\"246.630859\" xlink:href=\"#DejaVuSans-97\"/>\n     <use x=\"307.910156\" xlink:href=\"#DejaVuSans-109\"/>\n     <use x=\"405.322266\" xlink:href=\"#DejaVuSans-109\"/>\n     <use x=\"502.734375\" xlink:href=\"#DejaVuSans-105\"/>\n     <use x=\"530.517578\" xlink:href=\"#DejaVuSans-110\"/>\n     <use x=\"593.896484\" xlink:href=\"#DejaVuSans-103\"/>\n     <use x=\"657.373047\" xlink:href=\"#DejaVuSans-32\"/>\n     <use x=\"689.160156\" xlink:href=\"#DejaVuSans-76\"/>\n     <use x=\"743.123047\" xlink:href=\"#DejaVuSans-111\"/>\n     <use x=\"804.304688\" xlink:href=\"#DejaVuSans-115\"/>\n     <use x=\"856.404297\" xlink:href=\"#DejaVuSans-115\"/>\n    </g>\n   </g>\n   <g id=\"legend_1\">\n    <g id=\"patch_7\">\n     <path d=\"M 121.090625 59.674375 \nL 266.34375 59.674375 \nQ 268.34375 59.674375 268.34375 57.674375 \nL 268.34375 29.318125 \nQ 268.34375 27.318125 266.34375 27.318125 \nL 121.090625 27.318125 \nQ 119.090625 27.318125 119.090625 29.318125 \nL 119.090625 57.674375 \nQ 119.090625 59.674375 121.090625 59.674375 \nz\n\" style=\"fill:#ffffff;opacity:0.8;stroke:#cccccc;stroke-linejoin:miter;\"/>\n    </g>\n    <g id=\"line2d_25\">\n     <path d=\"M 123.090625 35.416562 \nL 143.090625 35.416562 \n\" style=\"fill:none;stroke:#ff0000;stroke-linecap:square;stroke-width:1.5;\"/>\n    </g>\n    <g id=\"line2d_26\"/>\n    <g id=\"text_14\">\n     <!-- Frames Hamming Loss -->\n     <g transform=\"translate(151.090625 38.916562)scale(0.1 -0.1)\">\n      <defs>\n       <path d=\"M 9.8125 72.90625 \nL 51.703125 72.90625 \nL 51.703125 64.59375 \nL 19.671875 64.59375 \nL 19.671875 43.109375 \nL 48.578125 43.109375 \nL 48.578125 34.8125 \nL 19.671875 34.8125 \nL 19.671875 0 \nL 9.8125 0 \nz\n\" id=\"DejaVuSans-70\"/>\n       <path d=\"M 41.109375 46.296875 \nQ 39.59375 47.171875 37.8125 47.578125 \nQ 36.03125 48 33.890625 48 \nQ 26.265625 48 22.1875 43.046875 \nQ 18.109375 38.09375 18.109375 28.8125 \nL 18.109375 0 \nL 9.078125 0 \nL 9.078125 54.6875 \nL 18.109375 54.6875 \nL 18.109375 46.1875 \nQ 20.953125 51.171875 25.484375 53.578125 \nQ 30.03125 56 36.53125 56 \nQ 37.453125 56 38.578125 55.875 \nQ 39.703125 55.765625 41.0625 55.515625 \nz\n\" id=\"DejaVuSans-114\"/>\n      </defs>\n      <use xlink:href=\"#DejaVuSans-70\"/>\n      <use x=\"50.269531\" xlink:href=\"#DejaVuSans-114\"/>\n      <use x=\"91.382812\" xlink:href=\"#DejaVuSans-97\"/>\n      <use x=\"152.662109\" xlink:href=\"#DejaVuSans-109\"/>\n      <use x=\"250.074219\" xlink:href=\"#DejaVuSans-101\"/>\n      <use x=\"311.597656\" xlink:href=\"#DejaVuSans-115\"/>\n      <use x=\"363.697266\" xlink:href=\"#DejaVuSans-32\"/>\n      <use x=\"395.484375\" xlink:href=\"#DejaVuSans-72\"/>\n      <use x=\"470.679688\" xlink:href=\"#DejaVuSans-97\"/>\n      <use x=\"531.958984\" xlink:href=\"#DejaVuSans-109\"/>\n      <use x=\"629.371094\" xlink:href=\"#DejaVuSans-109\"/>\n      <use x=\"726.783203\" xlink:href=\"#DejaVuSans-105\"/>\n      <use x=\"754.566406\" xlink:href=\"#DejaVuSans-110\"/>\n      <use x=\"817.945312\" xlink:href=\"#DejaVuSans-103\"/>\n      <use x=\"881.421875\" xlink:href=\"#DejaVuSans-32\"/>\n      <use x=\"913.208984\" xlink:href=\"#DejaVuSans-76\"/>\n      <use x=\"967.171875\" xlink:href=\"#DejaVuSans-111\"/>\n      <use x=\"1028.353516\" xlink:href=\"#DejaVuSans-115\"/>\n      <use x=\"1080.453125\" xlink:href=\"#DejaVuSans-115\"/>\n     </g>\n    </g>\n    <g id=\"line2d_27\">\n     <path d=\"M 123.090625 50.094687 \nL 143.090625 50.094687 \n\" style=\"fill:none;stroke:#008000;stroke-linecap:square;stroke-width:1.5;\"/>\n    </g>\n    <g id=\"line2d_28\"/>\n    <g id=\"text_15\">\n     <!-- Video Hamming Loss -->\n     <g transform=\"translate(151.090625 53.594687)scale(0.1 -0.1)\">\n      <defs>\n       <path d=\"M 28.609375 0 \nL 0.78125 72.90625 \nL 11.078125 72.90625 \nL 34.1875 11.53125 \nL 57.328125 72.90625 \nL 67.578125 72.90625 \nL 39.796875 0 \nz\n\" id=\"DejaVuSans-86\"/>\n       <path d=\"M 45.40625 46.390625 \nL 45.40625 75.984375 \nL 54.390625 75.984375 \nL 54.390625 0 \nL 45.40625 0 \nL 45.40625 8.203125 \nQ 42.578125 3.328125 38.25 0.953125 \nQ 33.9375 -1.421875 27.875 -1.421875 \nQ 17.96875 -1.421875 11.734375 6.484375 \nQ 5.515625 14.40625 5.515625 27.296875 \nQ 5.515625 40.1875 11.734375 48.09375 \nQ 17.96875 56 27.875 56 \nQ 33.9375 56 38.25 53.625 \nQ 42.578125 51.265625 45.40625 46.390625 \nz\nM 14.796875 27.296875 \nQ 14.796875 17.390625 18.875 11.75 \nQ 22.953125 6.109375 30.078125 6.109375 \nQ 37.203125 6.109375 41.296875 11.75 \nQ 45.40625 17.390625 45.40625 27.296875 \nQ 45.40625 37.203125 41.296875 42.84375 \nQ 37.203125 48.484375 30.078125 48.484375 \nQ 22.953125 48.484375 18.875 42.84375 \nQ 14.796875 37.203125 14.796875 27.296875 \nz\n\" id=\"DejaVuSans-100\"/>\n      </defs>\n      <use xlink:href=\"#DejaVuSans-86\"/>\n      <use x=\"66.158203\" xlink:href=\"#DejaVuSans-105\"/>\n      <use x=\"93.941406\" xlink:href=\"#DejaVuSans-100\"/>\n      <use x=\"157.417969\" xlink:href=\"#DejaVuSans-101\"/>\n      <use x=\"218.941406\" xlink:href=\"#DejaVuSans-111\"/>\n      <use x=\"280.123047\" xlink:href=\"#DejaVuSans-32\"/>\n      <use x=\"311.910156\" xlink:href=\"#DejaVuSans-72\"/>\n      <use x=\"387.105469\" xlink:href=\"#DejaVuSans-97\"/>\n      <use x=\"448.384766\" xlink:href=\"#DejaVuSans-109\"/>\n      <use x=\"545.796875\" xlink:href=\"#DejaVuSans-109\"/>\n      <use x=\"643.208984\" xlink:href=\"#DejaVuSans-105\"/>\n      <use x=\"670.992188\" xlink:href=\"#DejaVuSans-110\"/>\n      <use x=\"734.371094\" xlink:href=\"#DejaVuSans-103\"/>\n      <use x=\"797.847656\" xlink:href=\"#DejaVuSans-32\"/>\n      <use x=\"829.634766\" xlink:href=\"#DejaVuSans-76\"/>\n      <use x=\"883.597656\" xlink:href=\"#DejaVuSans-111\"/>\n      <use x=\"944.779297\" xlink:href=\"#DejaVuSans-115\"/>\n      <use x=\"996.878906\" xlink:href=\"#DejaVuSans-115\"/>\n     </g>\n    </g>\n   </g>\n  </g>\n </g>\n <defs>\n  <clipPath id=\"p5100f4ef45\">\n   <rect height=\"217.44\" width=\"223.2\" x=\"50.14375\" y=\"22.318125\"/>\n  </clipPath>\n </defs>\n</svg>\n",
      "image/png": "[encoded data removed]"
     },
     "metadata": {
      "needs_background": "light"
     }
    }
   ],
   "source": [
    "fig, ax = plt.subplots(figsize=(4, 4))\n",
    "ax.grid(True)\n",
    "ax.set_title('CC Hamming Loss')\n",
    "ax.set_xticks(range(0,7))\n",
    "ax.set_xticklabels(range(0,7))\n",
    "ax.set_ylabel('Hamming Distance Loss')\n",
    "ax.set_ylim([0.00, .1])\n",
    "# ax.legend(('Frames Hamming Loss','Video Hamming Loss' ))\n",
    "plt.plot(frames_mean_hm_test, label='Frames Hamming Loss', color='red')\n",
    "plt.plot(videos_mean_hm_test, label='Video Hamming Loss', color='green')\n",
    "plt.legend(loc='upper right')\n",
    "plt.show()"
   ]
  },
  {
   "cell_type": "code",
   "execution_count": 25,
   "metadata": {},
   "outputs": [
    {
     "output_type": "stream",
     "name": "stdout",
     "text": [
      "1-th split: train: 37093, validation: 10251\n",
      "Validation Hamming Loss:\n",
      "  0.004162195558156927\n",
      "Test Hamming Loss:\n",
      "  0.00428232502965599\n",
      "Test Jaccard Score:\n",
      "  0.7967141162514827\n",
      "2-th split: train: 38623, validation: 8721\n",
      "Validation Hamming Loss:\n",
      "  0.005217291595000574\n",
      "Test Hamming Loss:\n",
      "  0.006939501779359431\n",
      "Test Jaccard Score:\n",
      "  0.7918801897983392\n",
      "3-th split: train: 36348, validation: 10996\n",
      "Validation Hamming Loss:\n",
      "  0.004198496422941676\n",
      "Test Hamming Loss:\n",
      "  0.004483985765124555\n",
      "Test Jaccard Score:\n",
      "  0.795741399762752\n",
      "4-th split: train: 38499, validation: 8845\n",
      "Validation Hamming Loss:\n",
      "  0.0023553796872055775\n",
      "Test Hamming Loss:\n",
      "  0.0051601423487544484\n",
      "Test Jaccard Score:\n",
      "  0.7944128113879003\n",
      "5-th split: train: 38813, validation: 8531\n",
      "Validation Hamming Loss:\n",
      "  9.768296018442542e-05\n",
      "Test Hamming Loss:\n",
      "  0.005266903914590748\n",
      "Test Jaccard Score:\n",
      "  0.7940747330960854\n"
     ]
    }
   ],
   "source": [
    "from skmultilearn.adapt import MLkNN\n",
    "import sklearn.metrics as metrics\n",
    "\n",
    "kfold = KFold(5, True, 1)\n",
    "frames_mean_hm_test = []\n",
    "frames_mean_jac_test = []\n",
    "videos_mean_jac_test = []\n",
    "videos_mean_hm_test = []\n",
    "col_indices = {i:label for (i,label) in enumerate(affects)}\n",
    "\n",
    "splits = kfold.split(train_videos)\n",
    "for (i, (train, test)) in enumerate(splits):\n",
    "    train_cv_df = train_df[train_df['filename'].isin(train_videos[train])]\n",
    "    train_metadata = train_df[metadata_cols]\n",
    "    y_train = train_cv_df[affects].values\n",
    "    X_train = train_cv_df.drop(columns = ['frame', 'face_id', 'filename', 'timestamp', 'confidence','success']).values\n",
    "    valid_df = train_df[train_df['filename'].isin(train_videos[test])]\n",
    "    y_valid = valid_df[affects].values\n",
    "    X_valid = valid_df.drop(columns = ['frame', 'face_id', 'filename', 'timestamp', 'confidence','success']).values\n",
    "    # X_train, X_valid, y_train, y_valid = train_test_split(X, y)\n",
    "    print('%d-th split: train: %d, validation: %d' % (i+1, X_train.shape[0],  X_valid.shape[0]))\n",
    "    classifier = MLkNN(k=5)\n",
    "    # classifier = MLTSVM(c_k = 2**-1)\n",
    "    prediction = classifier.fit(X_train, y_train).predict(X_valid)\n",
    "\n",
    "    # Predicting on validation set\n",
    "    print(\"Validation Hamming Loss:\\n \", metrics.hamming_loss(y_valid, prediction))\n",
    "\n",
    "    # Predicting on test set\n",
    "    y_test_pred = classifier.predict(X_test)\n",
    "    hm_loss = metrics.hamming_loss(y_test, y_test_pred)\n",
    "    frames_mean_hm_test.append(hm_loss)\n",
    "    print(\"Test Hamming Loss:\\n \", hm_loss)\n",
    "    jac_score = jaccard_score(y_test, y_test_pred,  average='samples')\n",
    "    frames_mean_jac_test.append(jac_score)\n",
    "    print(\"Test Jaccard Score:\\n \", jac_score)\n",
    "\n",
    "    # building test dataframe to vote labels\n",
    "    test_result_df = pd.DataFrame(columns=metadata_cols, data=metadata_test.values)\n",
    "    test_result_df.update(metadata_test)\n",
    "    # print(\"^^^^^^^^\", y_test_pred.toarray().shape)\n",
    "    temp_df = pd.DataFrame(data=y_test_pred.toarray(), columns=affects)\n",
    "    test_result_df = pd.concat([test_result_df, temp_df], axis=1)\n",
    "    \n",
    "    # print(test_result_df.head())\n",
    "    video_groups = test_result_df.groupby('filename')[affects].apply(lambda x : x.astype(int).sum())\n",
    "    # for name, group in video_groups:\n",
    "    #     print(name)\n",
    "    #     print(group)\n",
    "    #     print(\"\\n\") \n",
    "    ground_truth_video_labels = []\n",
    "    for v in video_groups.index.to_list():\n",
    "        # number of 1s in ground truth labels\n",
    "        ground_truth_video_labels.append(tst_df[tst_df['filename'] == v].iloc[0][affects])\n",
    "        num_1s = tst_df[tst_df['filename'] == v].iloc[0][affects].sum()\n",
    "        num_1s = int(num_1s)\n",
    "        a = np.argsort(video_groups.loc[v].values)\n",
    "        for i in range(len(a) - 1, len(a) - num_1s - 1, -1):\n",
    "            video_groups.loc[v][a[i]] = 1\n",
    "        for i in range(0, len(a) - num_1s):\n",
    "            video_groups.loc[v][a[i]] = 0\n",
    "\n",
    "    j = metrics.jaccard_score(np.array(ground_truth_video_labels,  dtype=int), video_groups.values, average='samples')\n",
    "    h = metrics.hamming_loss(np.array(ground_truth_video_labels,  dtype=int), video_groups.values)\n",
    "    videos_mean_jac_test.append(j)\n",
    "    videos_mean_hm_test.append(h)"
   ]
  },
  {
   "cell_type": "code",
   "execution_count": 32,
   "metadata": {},
   "outputs": [
    {
     "output_type": "stream",
     "name": "stdout",
     "text": [
      "              precision    recall  f1-score   support\n\n       anger       1.00      1.00      1.00      2501\n     disgust       1.00      0.95      0.98      1818\n        fear       1.00      0.90      0.95      1113\n       happy       1.00      0.98      0.99      6196\n         sad       1.00      1.00      1.00      3369\n    surprise       0.99      0.97      0.98      3448\n\n   micro avg       1.00      0.98      0.99     18445\n   macro avg       1.00      0.97      0.98     18445\nweighted avg       1.00      0.98      0.99     18445\n samples avg       0.80      0.79      0.80     18445\n\n"
     ]
    }
   ],
   "source": [
    "print(metrics.classification_report(y_test, y_test_pred, target_names=affects))\n"
   ]
  },
  {
   "cell_type": "code",
   "execution_count": null,
   "metadata": {},
   "outputs": [],
   "source": [
    "fig, ax = plt.subplots(figsize=(4, 4))\n",
    "ax.grid(True)\n",
    "ax.set_title('MLKNN Jaccard Score')\n",
    "ax.set_xticks(range(0,7))\n",
    "ax.set_xticklabels(range(0,7))\n",
    "ax.set_ylabel('Jaccard Similarity Score')\n",
    "ax.set_ylim([0.65, 1.0])\n",
    "\n",
    "plt.plot(frames_mean_jac_test, label='Frames Jaccard Score', color='blue')\n",
    "plt.plot(videos_mean_jac_test, label='Video Jaccard Score', color='green')\n",
    "plt.legend(loc='lower right')\n",
    "plt.show()"
   ]
  },
  {
   "cell_type": "code",
   "execution_count": null,
   "metadata": {},
   "outputs": [],
   "source": [
    "fig, ax = plt.subplots(figsize=(4, 4))\n",
    "ax.grid(True)\n",
    "ax.set_title('MLKNN Hamming Loss')\n",
    "ax.set_xticks(range(0,7))\n",
    "ax.set_xticklabels(range(0,7))\n",
    "ax.set_ylabel('Hamming Distance Loss')\n",
    "ax.set_ylim([0.00, .1])\n",
    "# ax.legend(('Frames Hamming Loss','Video Hamming Loss' ))\n",
    "plt.plot(frames_mean_hm_test, label='Frames Hamming Loss', color='red')\n",
    "plt.plot(videos_mean_hm_test, label='Video Hamming Loss', color='green')\n",
    "plt.legend(loc='upper right')\n",
    "plt.show()"
   ]
  },
  {
   "cell_type": "code",
   "execution_count": null,
   "metadata": {},
   "outputs": [],
   "source": []
  }
 ]
}