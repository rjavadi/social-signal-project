{
 "cells": [
  {
   "cell_type": "code",
   "execution_count": null,
   "metadata": {
    "collapsed": true
   },
   "outputs": [],
   "source": [
    "import pandas as pd\n",
    "import numpy as np\n",
    "import math\n",
    "import seaborn as sns\n",
    "import matplotlib.pyplot as plt\n",
    "from tslearn.metrics import dtw, soft_dtw\n",
    "from tslearn.utils import to_time_series_dataset\n",
    "from sklearn.utils.validation import _check_large_sparse\n",
    "from tslearn.clustering import TimeSeriesKMeans\n",
    "from tslearn.neighbors import KNeighborsTimeSeriesClassifier\n",
    "from sklearn.metrics import pairwise_distances_argmin_min, jaccard_score, f1_score\n",
    "from sklearn.model_selection import cross_val_score, KFold\n",
    "from sklearn.model_selection import train_test_split\n",
    "from sklearn.neighbors import KNeighborsClassifier\n",
    "from sklearn.preprocessing import MinMaxScaler\n",
    "from sklearn.multioutput import ClassifierChain\n",
    "from sklearn.metrics import multilabel_confusion_matrix, ConfusionMatrixDisplay"
   ]
  },
  {
   "cell_type": "code",
   "execution_count": null,
   "metadata": {},
   "outputs": [],
   "source": [
    "def boolean_df(item_lists, unique_items):\n",
    "# Create empty dict\n",
    "    bool_dict = {}\n",
    "    \n",
    "    # Loop through all the tags\n",
    "    for i, item in enumerate(unique_items):\n",
    "        \n",
    "        # Apply boolean mask\n",
    "        bool_dict[item] = item_lists.apply(lambda x: 1 if item in x else 0)\n",
    "            \n",
    "    # Return the results as a dataframe\n",
    "    return pd.DataFrame(bool_dict)\n",
    "\n",
    "def to_1D(series):\n",
    "    return pd.Series([x for _list in series for x in _list])"
   ]
  },
  {
   "cell_type": "code",
   "execution_count": null,
   "metadata": {},
   "outputs": [],
   "source": [
    "emoji_map = {'neutral': ['none'], 'smirk':['contempt'], 'furious':['furious'], 'weary':['annoyed'], 'expressionless':['annoyed'], 'unamused': ['contempt'], 'rollingeyes':['annoyed'], 'none':['none'], 'angry':['anger'], 'triumph':['hatred'], 'hatred':['hatred']} \n",
    "# na_emoji_map = {'neutral': ['none'], 'smirk':['contempt'], 'furious':['furious', 'anger'], 'weary':['disgust'], 'expressionless':['contempt','annoyed'], 'unamused': ['annoyed', 'contempt'], 'rollingeyes':['annoyed'], 'none':['none'], 'skeptical':['none'], 'angry':['anger', 'annoyed'], 'nauseated':['disgust'], 'vomiting':['disgust'], 'triumph':['anger'], 'hatred':['hatred', 'furious']}"
   ]
  },
  {
   "cell_type": "code",
   "execution_count": null,
   "metadata": {},
   "outputs": [],
   "source": [
    "# Reading NA data\n",
    "X_df_na = pd.read_csv('../new_data/NA/na_dataset.csv', index_col=None)\n",
    "Y_df_na = pd.read_csv('../new_data/NA/na_emoji_labels_cleaned.csv', usecols=['filename', 'emoji'], index_col='filename')\n",
    "emotion_df_na = pd.read_csv('../new_data/NA/na_labels_cleaned.csv', usecols=['filename', 'emotions'], index_col='filename')\n",
    "# Reading Persian data\n",
    "X_df_p = pd.read_csv('../new_data/Persian/persian_dataset.csv', index_col=None)\n",
    "Y_df_p = pd.read_csv('../new_data/Persian/p_emoji_labels_cleaned.csv', usecols=['filename', 'emoji'], index_col='filename')\n",
    "emotion_df_p = pd.read_csv('../new_data/Persian/p_labels_cleaned.csv', usecols=['filename', 'emotions'], index_col='filename')\n",
    "\n",
    "# concatenate them\n",
    "Y_df = pd.concat([Y_df_na, Y_df_p], sort=False)\n",
    "X_df = pd.concat([X_df_na, X_df_p], ignore_index=True, sort=False)\n",
    "emotion_df = pd.concat([emotion_df_na, emotion_df_p], sort=False)\n"
   ]
  },
  {
   "cell_type": "code",
   "execution_count": 59,
   "metadata": {},
   "outputs": [],
   "source": [
    "X_df = X_df[X_df['filename'].isin(Y_df.index)]\n",
    "X_df.reset_index(inplace=True, drop=True)\n",
    "Y_df[\"emoji\"] = Y_df[\"emoji\"].apply(eval)\n",
    "emotion_df[\"emotions\"] = emotion_df[\"emotions\"].apply(eval)\n",
    "label_cols = to_1D(Y_df[\"emoji\"]).unique() \n",
    "emotion_cols = to_1D(emotion_df[\"emotions\"]).unique() \n",
    "# label_cols.append('smilingimp')\n",
    "labels_expanded = boolean_df(Y_df['emoji'], label_cols )\n",
    "emotions_expanded = boolean_df(emotion_df['emotions'], emotion_cols )\n"
   ]
  },
  {
   "cell_type": "code",
   "execution_count": null,
   "metadata": {},
   "outputs": [],
   "source": [
    "len(X_df['filename'].unique())\n",
    "# len(Y_df.index.unique())"
   ]
  },
  {
   "cell_type": "code",
   "execution_count": null,
   "metadata": {},
   "outputs": [],
   "source": [
    "labels_expanded.loc['persian/vid_5.mp4']"
   ]
  },
  {
   "cell_type": "code",
   "execution_count": null,
   "metadata": {},
   "outputs": [],
   "source": [
    "for l in label_cols:\n",
    "    X_df[label_cols]  = np.NaN\n",
    "    "
   ]
  },
  {
   "cell_type": "code",
   "execution_count": null,
   "metadata": {},
   "outputs": [],
   "source": [
    "X_df.head()"
   ]
  },
  {
   "cell_type": "code",
   "execution_count": null,
   "metadata": {},
   "outputs": [],
   "source": [
    "label_cols.tolist()"
   ]
  },
  {
   "cell_type": "code",
   "execution_count": null,
   "metadata": {},
   "outputs": [],
   "source": [
    "print(labels_expanded.at['persian/vid_97.mp4', 'furious'])"
   ]
  },
  {
   "cell_type": "code",
   "execution_count": 60,
   "metadata": {
    "tags": []
   },
   "outputs": [],
   "source": [
    "for index, row in X_df.iterrows():\n",
    "    # print(index, row)\n",
    "    try:\n",
    "        filename = X_df.iloc[index]['filename']\n",
    "    except Exception:\n",
    "        print(\"index: \", index)\n",
    "        print('expanded labels: filename: {}, label: {}, {}'.format(filename, l, labels_expanded.at[filename, l]))\n",
    "        # print(X_df.at[index, l])\n",
    "    # print(filename)\n",
    "    for l in label_cols.tolist():\n",
    "        \n",
    "    # print(labels_expanded.loc[filename]['none':'hatred'].to_list())\n",
    "        X_df.at[index, l] = labels_expanded.at[filename, l]\n",
    "        \n",
    "        "
   ]
  },
  {
   "cell_type": "code",
   "execution_count": 61,
   "metadata": {},
   "outputs": [],
   "source": [
    "for index, row in X_df.iterrows():\n",
    "    # print(index, row)\n",
    "    filename = X_df.iloc[index]['filename']\n",
    "    # print(filename)\n",
    "    for l in emotion_cols.tolist():\n",
    "        try:\n",
    "    # print(labels_expanded.loc[filename]['none':'hatred'].to_list())\n",
    "            X_df.at[index, l] = emotions_expanded.at[filename, l]\n",
    "        except Exception:\n",
    "            # print(\"here\")\n",
    "            print('expanded labels: filename: {}, label: {}, {}'.format(filename, l, emotions_expanded.at[filename, l]))\n",
    "            print(X_df.at[index, l])"
   ]
  },
  {
   "cell_type": "code",
   "execution_count": null,
   "metadata": {},
   "outputs": [],
   "source": [
    "X_df"
   ]
  },
  {
   "source": [
    "### Min-Max Scaling"
   ],
   "cell_type": "markdown",
   "metadata": {}
  },
  {
   "cell_type": "code",
   "execution_count": null,
   "metadata": {},
   "outputs": [],
   "source": [
    "## Ablation cols\n",
    "ablation_cols = ['AU01_r','AU02_r','AU04_r','AU05_r','AU06_r','AU07_r','AU09_r', 'AU10_r','AU12_r','AU14_r','AU15_r','AU17_r','AU20_r','AU23_r','AU25_r','AU26_r','AU45_r']"
   ]
  },
  {
   "cell_type": "code",
   "execution_count": null,
   "metadata": {},
   "outputs": [],
   "source": [
    "X_df = X_df.drop(columns=ablation_cols)\n",
    "X_df"
   ]
  },
  {
   "cell_type": "code",
   "execution_count": null,
   "metadata": {},
   "outputs": [],
   "source": []
  },
  {
   "cell_type": "code",
   "execution_count": 62,
   "metadata": {},
   "outputs": [],
   "source": [
    "cols_to_scale = list (\n",
    "    set(X_df.columns.to_list()) - set(['frame', 'face_id', 'culture', 'filename', 'timestamp', 'confidence','success'])- set(label_cols)-set(emotion_cols)\n",
    "    )\n",
    "scaler = MinMaxScaler()\n",
    "X_df[cols_to_scale] = scaler.fit_transform(X_df[cols_to_scale])"
   ]
  },
  {
   "cell_type": "code",
   "execution_count": null,
   "metadata": {},
   "outputs": [],
   "source": [
    "X_df.tail()"
   ]
  },
  {
   "cell_type": "markdown",
   "source": [
    "## Splitting into train and test"
   ],
   "metadata": {
    "collapsed": false,
    "pycharm": {
     "name": "#%% md\n"
    }
   }
  },
  {
   "cell_type": "code",
   "execution_count": null,
   "metadata": {},
   "outputs": [],
   "source": [
    "['frame', 'face_id', 'culture', 'filename', 'timestamp', 'confidence','success'] + label_cols.tolist()"
   ]
  },
  {
   "cell_type": "code",
   "execution_count": 63,
   "outputs": [
    {
     "output_type": "stream",
     "name": "stdout",
     "text": [
      "(4122, 22)\n"
     ]
    },
    {
     "output_type": "execute_result",
     "data": {
      "text/plain": [
       "                 filename         culture  frame  face_id  timestamp  \\\n",
       "149       na/vid_10_1.mp4  north american      1        0      0.000   \n",
       "150       na/vid_10_1.mp4  north american      2        0      0.033   \n",
       "151       na/vid_10_1.mp4  north american      3        0      0.067   \n",
       "152       na/vid_10_1.mp4  north american      4        0      0.100   \n",
       "153       na/vid_10_1.mp4  north american      5        0      0.133   \n",
       "...                   ...             ...    ...      ...        ...   \n",
       "14038  persian/vid_90.mp4         persian     36        0      1.400   \n",
       "14039  persian/vid_90.mp4         persian     37        0      1.440   \n",
       "14040  persian/vid_90.mp4         persian     38        0      1.480   \n",
       "14041  persian/vid_90.mp4         persian     39        0      1.520   \n",
       "14042  persian/vid_90.mp4         persian     40        0      1.560   \n",
       "\n",
       "       confidence  success    AU01_r  AU02_r    AU04_r  ...  expressionless  \\\n",
       "149          0.98        1  0.157333   0.614  0.000000  ...             1.0   \n",
       "150          0.98        1  0.170667   0.602  0.000000  ...             1.0   \n",
       "151          0.98        1  0.109333   0.568  0.000000  ...             1.0   \n",
       "152          0.98        1  0.090667   0.594  0.000000  ...             1.0   \n",
       "153          0.98        1  0.186667   0.642  0.000000  ...             1.0   \n",
       "...           ...      ...       ...     ...       ...  ...             ...   \n",
       "14038        0.98        1  0.674667   0.466  0.129754  ...             0.0   \n",
       "14039        0.98        1  0.704000   0.458  0.118568  ...             0.0   \n",
       "14040        0.98        1  0.725333   0.470  0.131991  ...             0.0   \n",
       "14041        0.98        1  0.714667   0.446  0.140940  ...             0.0   \n",
       "14042        0.98        1  0.698667   0.450  0.134228  ...             0.0   \n",
       "\n",
       "       unamused  rollingeyes  none  angry  triumph  hatred  anger  annoyed  \\\n",
       "149         0.0          0.0   0.0    0.0      0.0     0.0    0.0      1.0   \n",
       "150         0.0          0.0   0.0    0.0      0.0     0.0    0.0      1.0   \n",
       "151         0.0          0.0   0.0    0.0      0.0     0.0    0.0      1.0   \n",
       "152         0.0          0.0   0.0    0.0      0.0     0.0    0.0      1.0   \n",
       "153         0.0          0.0   0.0    0.0      0.0     0.0    0.0      1.0   \n",
       "...         ...          ...   ...    ...      ...     ...    ...      ...   \n",
       "14038       0.0          1.0   0.0    1.0      1.0     0.0    0.0      0.0   \n",
       "14039       0.0          1.0   0.0    1.0      1.0     0.0    0.0      0.0   \n",
       "14040       0.0          1.0   0.0    1.0      1.0     0.0    0.0      0.0   \n",
       "14041       0.0          1.0   0.0    1.0      1.0     0.0    0.0      0.0   \n",
       "14042       0.0          1.0   0.0    1.0      1.0     0.0    0.0      0.0   \n",
       "\n",
       "       contempt  \n",
       "149         1.0  \n",
       "150         1.0  \n",
       "151         1.0  \n",
       "152         1.0  \n",
       "153         1.0  \n",
       "...         ...  \n",
       "14038       1.0  \n",
       "14039       1.0  \n",
       "14040       1.0  \n",
       "14041       1.0  \n",
       "14042       1.0  \n",
       "\n",
       "[4122 rows x 43 columns]"
      ],
      "text/html": "<div>\n<style scoped>\n    .dataframe tbody tr th:only-of-type {\n        vertical-align: middle;\n    }\n\n    .dataframe tbody tr th {\n        vertical-align: top;\n    }\n\n    .dataframe thead th {\n        text-align: right;\n    }\n</style>\n<table border=\"1\" class=\"dataframe\">\n  <thead>\n    <tr style=\"text-align: right;\">\n      <th></th>\n      <th>filename</th>\n      <th>culture</th>\n      <th>frame</th>\n      <th>face_id</th>\n      <th>timestamp</th>\n      <th>confidence</th>\n      <th>success</th>\n      <th>AU01_r</th>\n      <th>AU02_r</th>\n      <th>AU04_r</th>\n      <th>...</th>\n      <th>expressionless</th>\n      <th>unamused</th>\n      <th>rollingeyes</th>\n      <th>none</th>\n      <th>angry</th>\n      <th>triumph</th>\n      <th>hatred</th>\n      <th>anger</th>\n      <th>annoyed</th>\n      <th>contempt</th>\n    </tr>\n  </thead>\n  <tbody>\n    <tr>\n      <th>149</th>\n      <td>na/vid_10_1.mp4</td>\n      <td>north american</td>\n      <td>1</td>\n      <td>0</td>\n      <td>0.000</td>\n      <td>0.98</td>\n      <td>1</td>\n      <td>0.157333</td>\n      <td>0.614</td>\n      <td>0.000000</td>\n      <td>...</td>\n      <td>1.0</td>\n      <td>0.0</td>\n      <td>0.0</td>\n      <td>0.0</td>\n      <td>0.0</td>\n      <td>0.0</td>\n      <td>0.0</td>\n      <td>0.0</td>\n      <td>1.0</td>\n      <td>1.0</td>\n    </tr>\n    <tr>\n      <th>150</th>\n      <td>na/vid_10_1.mp4</td>\n      <td>north american</td>\n      <td>2</td>\n      <td>0</td>\n      <td>0.033</td>\n      <td>0.98</td>\n      <td>1</td>\n      <td>0.170667</td>\n      <td>0.602</td>\n      <td>0.000000</td>\n      <td>...</td>\n      <td>1.0</td>\n      <td>0.0</td>\n      <td>0.0</td>\n      <td>0.0</td>\n      <td>0.0</td>\n      <td>0.0</td>\n      <td>0.0</td>\n      <td>0.0</td>\n      <td>1.0</td>\n      <td>1.0</td>\n    </tr>\n    <tr>\n      <th>151</th>\n      <td>na/vid_10_1.mp4</td>\n      <td>north american</td>\n      <td>3</td>\n      <td>0</td>\n      <td>0.067</td>\n      <td>0.98</td>\n      <td>1</td>\n      <td>0.109333</td>\n      <td>0.568</td>\n      <td>0.000000</td>\n      <td>...</td>\n      <td>1.0</td>\n      <td>0.0</td>\n      <td>0.0</td>\n      <td>0.0</td>\n      <td>0.0</td>\n      <td>0.0</td>\n      <td>0.0</td>\n      <td>0.0</td>\n      <td>1.0</td>\n      <td>1.0</td>\n    </tr>\n    <tr>\n      <th>152</th>\n      <td>na/vid_10_1.mp4</td>\n      <td>north american</td>\n      <td>4</td>\n      <td>0</td>\n      <td>0.100</td>\n      <td>0.98</td>\n      <td>1</td>\n      <td>0.090667</td>\n      <td>0.594</td>\n      <td>0.000000</td>\n      <td>...</td>\n      <td>1.0</td>\n      <td>0.0</td>\n      <td>0.0</td>\n      <td>0.0</td>\n      <td>0.0</td>\n      <td>0.0</td>\n      <td>0.0</td>\n      <td>0.0</td>\n      <td>1.0</td>\n      <td>1.0</td>\n    </tr>\n    <tr>\n      <th>153</th>\n      <td>na/vid_10_1.mp4</td>\n      <td>north american</td>\n      <td>5</td>\n      <td>0</td>\n      <td>0.133</td>\n      <td>0.98</td>\n      <td>1</td>\n      <td>0.186667</td>\n      <td>0.642</td>\n      <td>0.000000</td>\n      <td>...</td>\n      <td>1.0</td>\n      <td>0.0</td>\n      <td>0.0</td>\n      <td>0.0</td>\n      <td>0.0</td>\n      <td>0.0</td>\n      <td>0.0</td>\n      <td>0.0</td>\n      <td>1.0</td>\n      <td>1.0</td>\n    </tr>\n    <tr>\n      <th>...</th>\n      <td>...</td>\n      <td>...</td>\n      <td>...</td>\n      <td>...</td>\n      <td>...</td>\n      <td>...</td>\n      <td>...</td>\n      <td>...</td>\n      <td>...</td>\n      <td>...</td>\n      <td>...</td>\n      <td>...</td>\n      <td>...</td>\n      <td>...</td>\n      <td>...</td>\n      <td>...</td>\n      <td>...</td>\n      <td>...</td>\n      <td>...</td>\n      <td>...</td>\n      <td>...</td>\n    </tr>\n    <tr>\n      <th>14038</th>\n      <td>persian/vid_90.mp4</td>\n      <td>persian</td>\n      <td>36</td>\n      <td>0</td>\n      <td>1.400</td>\n      <td>0.98</td>\n      <td>1</td>\n      <td>0.674667</td>\n      <td>0.466</td>\n      <td>0.129754</td>\n      <td>...</td>\n      <td>0.0</td>\n      <td>0.0</td>\n      <td>1.0</td>\n      <td>0.0</td>\n      <td>1.0</td>\n      <td>1.0</td>\n      <td>0.0</td>\n      <td>0.0</td>\n      <td>0.0</td>\n      <td>1.0</td>\n    </tr>\n    <tr>\n      <th>14039</th>\n      <td>persian/vid_90.mp4</td>\n      <td>persian</td>\n      <td>37</td>\n      <td>0</td>\n      <td>1.440</td>\n      <td>0.98</td>\n      <td>1</td>\n      <td>0.704000</td>\n      <td>0.458</td>\n      <td>0.118568</td>\n      <td>...</td>\n      <td>0.0</td>\n      <td>0.0</td>\n      <td>1.0</td>\n      <td>0.0</td>\n      <td>1.0</td>\n      <td>1.0</td>\n      <td>0.0</td>\n      <td>0.0</td>\n      <td>0.0</td>\n      <td>1.0</td>\n    </tr>\n    <tr>\n      <th>14040</th>\n      <td>persian/vid_90.mp4</td>\n      <td>persian</td>\n      <td>38</td>\n      <td>0</td>\n      <td>1.480</td>\n      <td>0.98</td>\n      <td>1</td>\n      <td>0.725333</td>\n      <td>0.470</td>\n      <td>0.131991</td>\n      <td>...</td>\n      <td>0.0</td>\n      <td>0.0</td>\n      <td>1.0</td>\n      <td>0.0</td>\n      <td>1.0</td>\n      <td>1.0</td>\n      <td>0.0</td>\n      <td>0.0</td>\n      <td>0.0</td>\n      <td>1.0</td>\n    </tr>\n    <tr>\n      <th>14041</th>\n      <td>persian/vid_90.mp4</td>\n      <td>persian</td>\n      <td>39</td>\n      <td>0</td>\n      <td>1.520</td>\n      <td>0.98</td>\n      <td>1</td>\n      <td>0.714667</td>\n      <td>0.446</td>\n      <td>0.140940</td>\n      <td>...</td>\n      <td>0.0</td>\n      <td>0.0</td>\n      <td>1.0</td>\n      <td>0.0</td>\n      <td>1.0</td>\n      <td>1.0</td>\n      <td>0.0</td>\n      <td>0.0</td>\n      <td>0.0</td>\n      <td>1.0</td>\n    </tr>\n    <tr>\n      <th>14042</th>\n      <td>persian/vid_90.mp4</td>\n      <td>persian</td>\n      <td>40</td>\n      <td>0</td>\n      <td>1.560</td>\n      <td>0.98</td>\n      <td>1</td>\n      <td>0.698667</td>\n      <td>0.450</td>\n      <td>0.134228</td>\n      <td>...</td>\n      <td>0.0</td>\n      <td>0.0</td>\n      <td>1.0</td>\n      <td>0.0</td>\n      <td>1.0</td>\n      <td>1.0</td>\n      <td>0.0</td>\n      <td>0.0</td>\n      <td>0.0</td>\n      <td>1.0</td>\n    </tr>\n  </tbody>\n</table>\n<p>4122 rows × 43 columns</p>\n</div>"
     },
     "metadata": {},
     "execution_count": 63
    }
   ],
   "source": [
    "metadata_cols = ['frame', 'face_id', 'culture', 'filename', 'timestamp']\n",
    "cols_to_drop = ['frame', 'face_id', 'culture', 'filename', 'timestamp', 'confidence','success'] + label_cols.tolist() + emotion_cols.tolist()\n",
    "\n",
    "videos = X_df['filename'].unique()\n",
    "# test_videos = pd.Series(videos).sample(frac=0.35)\n",
    "test_videos = ['na/vid_13.mp4', 'na/vid_92.mp4', 'na/vid_93.mp4', 'na/vid_6.mp4', 'na/vid_14.mp4', 'na/vid_10_1.mp4', 'na/vid_34.mp4', 'na/vid_86.mp4', 'na/vid_83.mp4', 'na/vid_90.mp4', 'na/vid_60.mp4', 'na/vid_24.mp4', 'na/vid_10_3.mp4', 'na/vid_10_2.mp4', 'na/vid_87.mp4', 'na/vid_32.mp4', 'na/vid_79.mp4', 'na/vid_68.mp4', 'na/vid_56.mp4', 'na/vid_36.mp4']\n",
    "test_videos.extend(['persian/vid_59.mp4', 'persian/vid_79.mp4', 'persian/vid_40.mp4', 'persian/vid_10.mp4', 'persian/vid_1.mp4', 'persian/vid_5.mp4', 'persian/vid_44.mp4', 'persian/vid_85.mp4', 'persian/vid_25.mp4', 'persian/vid_75.mp4', 'persian/vid_66.mp4', 'persian/vid_50.mp4', 'persian/vid_81.mp4', 'persian/vid_60.mp4', 'persian/vid_87.mp4', 'persian/vid_90.mp4', 'persian/vid_35.mp4', 'persian/vid_37.mp4', 'persian/vid_42.mp4', 'persian/vid_69.mp4', 'persian/vid_70.mp4', 'persian/vid_52.mp4', 'persian/vid_53.mp4', 'persian/vid_82.mp4'])\n",
    "\n",
    "# test_videos = pd.Series(videos).sample(frac=0.25)\n",
    "train_videos = np.array(list(set(videos) - set(test_videos)))\n",
    "test_df = X_df[X_df['filename'].isin(test_videos)]\n",
    "metadata_test = test_df[metadata_cols]\n",
    "metadata_test.reset_index(inplace=True)\n",
    "y_test = test_df[label_cols].values\n",
    "y_test_emotions = test_df[emotion_cols]\n",
    "X_test = test_df.drop(columns = cols_to_drop).values\n",
    "print(X_test.shape)\n",
    "test_df"
   ],
   "metadata": {
    "collapsed": false,
    "pycharm": {
     "name": "#%%\n"
    }
   }
  },
  {
   "cell_type": "code",
   "execution_count": 64,
   "metadata": {},
   "outputs": [
    {
     "output_type": "stream",
     "name": "stdout",
     "text": [
      "44\n"
     ]
    }
   ],
   "source": [
    "print(len(test_videos))"
   ]
  },
  {
   "cell_type": "code",
   "execution_count": null,
   "metadata": {},
   "outputs": [],
   "source": []
  },
  {
   "source": [
    "## Cross-validation"
   ],
   "cell_type": "markdown",
   "metadata": {}
  },
  {
   "cell_type": "code",
   "execution_count": null,
   "metadata": {},
   "outputs": [],
   "source": []
  },
  {
   "cell_type": "code",
   "execution_count": 65,
   "metadata": {},
   "outputs": [
    {
     "output_type": "stream",
     "name": "stdout",
     "text": [
      "1-th split: train: 98, test: 25\n",
      "['na/vid_37.mp4' 'persian/vid_19.mp4' 'na/vid_7.mp4' 'persian/vid_72.mp4'\n",
      " 'persian/vid_46.mp4' 'persian/vid_15.mp4' 'persian/vid_33.mp4'\n",
      " 'na/vid_18.mp4' 'persian/vid_97.mp4' 'na/vid_17.mp4' 'persian/vid_28.mp4'\n",
      " 'na/vid_67.mp4' 'na/vid_100.mp4' 'na/vid_73.mp4' 'persian/vid_58.mp4'\n",
      " 'persian/vid_93.mp4' 'persian/vid_62.mp4' 'persian/vid_83.mp4'\n",
      " 'persian/vid_94.mp4' 'na/vid_5.mp4' 'persian/vid_22.mp4' 'na/vid_25.mp4'\n",
      " 'persian/vid_32.mp4' 'na/vid_85.mp4' 'persian/vid_12.mp4'\n",
      " 'persian/vid_55.mp4' 'na/vid_88.mp4' 'persian/vid_14.mp4'\n",
      " 'persian/vid_4.mp4' 'na/vid_35.mp4' 'na/vid_72.mp4' 'na/vid_97.mp4'\n",
      " 'na/vid_76.mp4' 'na/vid_21.mp4' 'na/vid_38.mp4' 'persian/vid_67.mp4'\n",
      " 'persian/vid_95.mp4' 'na/vid_19.mp4' 'na/vid_22.mp4' 'na/vid_3.mp4'\n",
      " 'persian/vid_71.mp4' 'na/vid_63.mp4' 'persian/vid_57.mp4' 'na/vid_11.mp4'\n",
      " 'na/vid_81.mp4' 'persian/vid_8.mp4' 'persian/vid_63.mp4'\n",
      " 'persian/vid_3.mp4' 'na/vid_62.mp4' 'persian/vid_65.mp4'\n",
      " 'persian/vid_20.mp4' 'persian/vid_51.mp4' 'na/vid_26.mp4' 'na/vid_74.mp4'\n",
      " 'persian/vid_31.mp4' 'persian/vid_30.mp4' 'na/vid_66.mp4' 'na/vid_2.mp4'\n",
      " 'na/vid_23.mp4' 'na/vid_84.mp4' 'persian/vid_41.mp4' 'na/vid_15.mp4'\n",
      " 'persian/vid_61.mp4' 'persian/vid_64.mp4' 'persian/vid_86.mp4'\n",
      " 'persian/vid_45.mp4' 'na/vid_80.mp4' 'persian/vid_92.mp4' 'na/vid_1.mp4'\n",
      " 'na/vid_82.mp4' 'na/vid_89.mp4' 'persian/vid_73.mp4' 'na/vid_39.mp4'\n",
      " 'persian/vid_48.mp4' 'persian/vid_26.mp4' 'persian/vid_56.mp4'\n",
      " 'persian/vid_21.mp4' 'na/vid_30.mp4' 'na/vid_29.mp4' 'na/vid_65.mp4'\n",
      " 'persian/vid_7.mp4' 'persian/vid_91.mp4' 'persian/vid_68.mp4'\n",
      " 'persian/vid_89.mp4' 'persian/vid_88.mp4' 'persian/vid_78.mp4'\n",
      " 'na/vid_31.mp4' 'persian/vid_34.mp4' 'na/vid_27.mp4' 'na/vid_77.mp4'\n",
      " 'na/vid_70.mp4' 'na/vid_75.mp4' 'na/vid_4.mp4' 'na/vid_16.mp4'\n",
      " 'persian/vid_96.mp4' 'persian/vid_38.mp4' 'persian/vid_49.mp4'\n",
      " 'na/vid_69.mp4']\n",
      "Training+validation data size:  8123\n",
      "Training data size:  8123\n",
      "Validation data size:  2535\n",
      "XGB-multi validation Jaccard score: 0.15842209072978303\n",
      "XGB-multi validation Hamming loss:  0.16030123722431414\n",
      "XGB-multi test Jaccard score:  0.14819262493934984\n",
      "XGB-multi test Hamming loss:  0.1729742843279961\n",
      "CC Validation Jaccard Score:\n",
      "  0.20998497229266455\n",
      "CC Validation Hamming Loss:\n",
      "  0.17034247803478572\n",
      "CC Test Jaccard Score: \n",
      "  0.15664725861232412\n",
      "CC Test Hamming Loss:\n",
      "  0.1859644479731816\n",
      "Test result df shape =  (4122, 17)\n",
      "(43, 11)\n",
      "(43, 11)\n",
      "2-th split: train: 98, test: 25\n",
      "['na/vid_37.mp4' 'persian/vid_19.mp4' 'persian/vid_77.mp4' 'na/vid_7.mp4'\n",
      " 'persian/vid_72.mp4' 'persian/vid_46.mp4' 'persian/vid_15.mp4'\n",
      " 'persian/vid_33.mp4' 'na/vid_18.mp4' 'persian/vid_97.mp4'\n",
      " 'persian/vid_28.mp4' 'na/vid_67.mp4' 'na/vid_100.mp4' 'na/vid_73.mp4'\n",
      " 'persian/vid_58.mp4' 'persian/vid_93.mp4' 'na/vid_95.mp4'\n",
      " 'persian/vid_62.mp4' 'persian/vid_94.mp4' 'na/vid_5.mp4'\n",
      " 'persian/vid_22.mp4' 'na/vid_25.mp4' 'persian/vid_32.mp4' 'na/vid_85.mp4'\n",
      " 'persian/vid_12.mp4' 'na/vid_88.mp4' 'persian/vid_14.mp4'\n",
      " 'persian/vid_4.mp4' 'persian/vid_2.mp4' 'persian/vid_27.mp4'\n",
      " 'na/vid_72.mp4' 'na/vid_21.mp4' 'persian/vid_95.mp4' 'na/vid_19.mp4'\n",
      " 'na/vid_3.mp4' 'persian/vid_74.mp4' 'na/vid_20.mp4' 'na/vid_63.mp4'\n",
      " 'persian/vid_6.mp4' 'persian/vid_57.mp4' 'na/vid_11.mp4'\n",
      " 'persian/vid_80.mp4' 'na/vid_81.mp4' 'persian/vid_65.mp4'\n",
      " 'persian/vid_51.mp4' 'na/vid_26.mp4' 'na/vid_74.mp4' 'persian/vid_30.mp4'\n",
      " 'na/vid_66.mp4' 'persian/vid_24.mp4' 'na/vid_2.mp4' 'persian/vid_29.mp4'\n",
      " 'na/vid_23.mp4' 'persian/vid_41.mp4' 'na/vid_15.mp4' 'persian/vid_61.mp4'\n",
      " 'na/vid_101.mp4' 'persian/vid_86.mp4' 'persian/vid_45.mp4'\n",
      " 'na/vid_78.mp4' 'persian/vid_92.mp4' 'na/vid_9.mp4' 'na/vid_1.mp4'\n",
      " 'persian/vid_11.mp4' 'na/vid_89.mp4' 'persian/vid_13.mp4'\n",
      " 'persian/vid_73.mp4' 'na/vid_39.mp4' 'persian/vid_16.mp4'\n",
      " 'persian/vid_26.mp4' 'persian/vid_56.mp4' 'persian/vid_21.mp4'\n",
      " 'na/vid_30.mp4' 'na/vid_29.mp4' 'na/vid_65.mp4' 'persian/vid_7.mp4'\n",
      " 'na/vid_61.mp4' 'persian/vid_76.mp4' 'persian/vid_89.mp4'\n",
      " 'persian/vid_88.mp4' 'persian/vid_78.mp4' 'na/vid_8.mp4'\n",
      " 'persian/vid_84.mp4' 'na/vid_31.mp4' 'persian/vid_34.mp4'\n",
      " 'persian/vid_43.mp4' 'na/vid_27.mp4' 'na/vid_77.mp4' 'na/vid_75.mp4'\n",
      " 'persian/vid_23.mp4' 'na/vid_12.mp4' 'na/vid_4.mp4' 'na/vid_104.mp4'\n",
      " 'na/vid_16.mp4' 'persian/vid_96.mp4' 'persian/vid_38.mp4'\n",
      " 'persian/vid_36.mp4' 'persian/vid_49.mp4']\n",
      "Training+validation data size:  8810\n",
      "Training data size:  8810\n",
      "Validation data size:  1848\n",
      "XGB-multi validation Jaccard score: 0.15691352298495156\n",
      "XGB-multi validation Hamming loss:  0.1913616686343959\n",
      "XGB-multi test Jaccard score:  0.11410318615558791\n",
      "XGB-multi test Hamming loss:  0.18023025009924573\n",
      "CC Validation Jaccard Score:\n",
      "  0.19798881673881674\n",
      "CC Validation Hamming Loss:\n",
      "  0.19121408894136166\n",
      "CC Test Jaccard Score: \n",
      "  0.1592858298098473\n",
      "CC Test Hamming Loss:\n",
      "  0.19344095981650566\n",
      "Test result df shape =  (4122, 17)\n",
      "(43, 11)\n",
      "(43, 11)\n",
      "3-th split: train: 98, test: 25\n",
      "['na/vid_37.mp4' 'persian/vid_19.mp4' 'persian/vid_77.mp4' 'na/vid_7.mp4'\n",
      " 'persian/vid_46.mp4' 'persian/vid_15.mp4' 'persian/vid_33.mp4'\n",
      " 'na/vid_18.mp4' 'persian/vid_97.mp4' 'na/vid_17.mp4' 'persian/vid_28.mp4'\n",
      " 'na/vid_67.mp4' 'na/vid_100.mp4' 'na/vid_73.mp4' 'persian/vid_93.mp4'\n",
      " 'na/vid_95.mp4' 'persian/vid_62.mp4' 'persian/vid_83.mp4'\n",
      " 'persian/vid_94.mp4' 'persian/vid_22.mp4' 'na/vid_85.mp4'\n",
      " 'persian/vid_55.mp4' 'na/vid_88.mp4' 'persian/vid_14.mp4'\n",
      " 'persian/vid_4.mp4' 'persian/vid_2.mp4' 'na/vid_35.mp4'\n",
      " 'persian/vid_27.mp4' 'na/vid_97.mp4' 'na/vid_76.mp4' 'na/vid_21.mp4'\n",
      " 'na/vid_38.mp4' 'persian/vid_67.mp4' 'na/vid_22.mp4' 'persian/vid_71.mp4'\n",
      " 'persian/vid_74.mp4' 'na/vid_20.mp4' 'na/vid_63.mp4' 'persian/vid_6.mp4'\n",
      " 'na/vid_11.mp4' 'persian/vid_80.mp4' 'persian/vid_8.mp4'\n",
      " 'persian/vid_63.mp4' 'persian/vid_3.mp4' 'na/vid_62.mp4'\n",
      " 'persian/vid_65.mp4' 'persian/vid_20.mp4' 'na/vid_26.mp4' 'na/vid_74.mp4'\n",
      " 'persian/vid_31.mp4' 'persian/vid_30.mp4' 'na/vid_66.mp4'\n",
      " 'persian/vid_24.mp4' 'persian/vid_29.mp4' 'na/vid_23.mp4' 'na/vid_84.mp4'\n",
      " 'na/vid_15.mp4' 'persian/vid_61.mp4' 'na/vid_101.mp4'\n",
      " 'persian/vid_64.mp4' 'persian/vid_86.mp4' 'persian/vid_45.mp4'\n",
      " 'na/vid_80.mp4' 'na/vid_78.mp4' 'persian/vid_92.mp4' 'na/vid_9.mp4'\n",
      " 'na/vid_1.mp4' 'na/vid_82.mp4' 'persian/vid_11.mp4' 'na/vid_89.mp4'\n",
      " 'persian/vid_13.mp4' 'persian/vid_73.mp4' 'na/vid_39.mp4'\n",
      " 'persian/vid_48.mp4' 'persian/vid_16.mp4' 'persian/vid_21.mp4'\n",
      " 'na/vid_65.mp4' 'na/vid_61.mp4' 'persian/vid_91.mp4' 'persian/vid_76.mp4'\n",
      " 'persian/vid_68.mp4' 'persian/vid_89.mp4' 'na/vid_8.mp4'\n",
      " 'persian/vid_84.mp4' 'na/vid_31.mp4' 'persian/vid_34.mp4'\n",
      " 'persian/vid_43.mp4' 'na/vid_27.mp4' 'na/vid_77.mp4' 'na/vid_70.mp4'\n",
      " 'na/vid_75.mp4' 'persian/vid_23.mp4' 'na/vid_12.mp4' 'na/vid_104.mp4'\n",
      " 'persian/vid_96.mp4' 'persian/vid_38.mp4' 'persian/vid_36.mp4'\n",
      " 'na/vid_69.mp4']\n",
      "Training+validation data size:  8146\n",
      "Training data size:  8146\n",
      "Validation data size:  2512\n",
      "XGB-multi validation Jaccard score: 0.10442921595389747\n",
      "XGB-multi validation Hamming loss:  0.2239070642733063\n",
      "XGB-multi test Jaccard score:  0.10404738799935306\n",
      "XGB-multi test Hamming loss:  0.17879670063076178\n",
      "CC Validation Jaccard Score:\n",
      "  0.1984076433121019\n",
      "CC Validation Hamming Loss:\n",
      "  0.22919079328314998\n",
      "CC Test Jaccard Score: \n",
      "  0.17267912016820314\n",
      "CC Test Hamming Loss:\n",
      "  0.19189713731198446\n",
      "Test result df shape =  (4122, 17)\n",
      "(43, 11)\n",
      "(43, 11)\n",
      "4-th split: train: 99, test: 24\n",
      "['persian/vid_19.mp4' 'persian/vid_77.mp4' 'persian/vid_72.mp4'\n",
      " 'persian/vid_46.mp4' 'persian/vid_15.mp4' 'persian/vid_97.mp4'\n",
      " 'na/vid_17.mp4' 'persian/vid_28.mp4' 'na/vid_67.mp4' 'persian/vid_58.mp4'\n",
      " 'persian/vid_93.mp4' 'na/vid_95.mp4' 'persian/vid_62.mp4'\n",
      " 'persian/vid_83.mp4' 'persian/vid_94.mp4' 'na/vid_5.mp4' 'na/vid_25.mp4'\n",
      " 'persian/vid_32.mp4' 'na/vid_85.mp4' 'persian/vid_12.mp4'\n",
      " 'persian/vid_55.mp4' 'na/vid_88.mp4' 'persian/vid_14.mp4'\n",
      " 'persian/vid_2.mp4' 'na/vid_35.mp4' 'persian/vid_27.mp4' 'na/vid_72.mp4'\n",
      " 'na/vid_97.mp4' 'na/vid_76.mp4' 'na/vid_21.mp4' 'na/vid_38.mp4'\n",
      " 'persian/vid_67.mp4' 'persian/vid_95.mp4' 'na/vid_19.mp4' 'na/vid_22.mp4'\n",
      " 'na/vid_3.mp4' 'persian/vid_71.mp4' 'persian/vid_74.mp4' 'na/vid_20.mp4'\n",
      " 'persian/vid_6.mp4' 'persian/vid_57.mp4' 'na/vid_11.mp4'\n",
      " 'persian/vid_80.mp4' 'na/vid_81.mp4' 'persian/vid_8.mp4'\n",
      " 'persian/vid_63.mp4' 'persian/vid_3.mp4' 'na/vid_62.mp4'\n",
      " 'persian/vid_20.mp4' 'persian/vid_51.mp4' 'persian/vid_31.mp4'\n",
      " 'na/vid_66.mp4' 'persian/vid_24.mp4' 'na/vid_2.mp4' 'persian/vid_29.mp4'\n",
      " 'na/vid_84.mp4' 'persian/vid_41.mp4' 'na/vid_15.mp4' 'persian/vid_61.mp4'\n",
      " 'na/vid_101.mp4' 'persian/vid_64.mp4' 'persian/vid_86.mp4'\n",
      " 'persian/vid_45.mp4' 'na/vid_80.mp4' 'na/vid_78.mp4' 'persian/vid_92.mp4'\n",
      " 'na/vid_9.mp4' 'na/vid_82.mp4' 'persian/vid_11.mp4' 'na/vid_89.mp4'\n",
      " 'persian/vid_13.mp4' 'persian/vid_48.mp4' 'persian/vid_16.mp4'\n",
      " 'persian/vid_26.mp4' 'persian/vid_56.mp4' 'na/vid_30.mp4' 'na/vid_29.mp4'\n",
      " 'persian/vid_7.mp4' 'na/vid_61.mp4' 'persian/vid_91.mp4'\n",
      " 'persian/vid_76.mp4' 'persian/vid_68.mp4' 'persian/vid_89.mp4'\n",
      " 'persian/vid_88.mp4' 'persian/vid_78.mp4' 'na/vid_8.mp4'\n",
      " 'persian/vid_84.mp4' 'persian/vid_34.mp4' 'persian/vid_43.mp4'\n",
      " 'na/vid_27.mp4' 'na/vid_70.mp4' 'persian/vid_23.mp4' 'na/vid_12.mp4'\n",
      " 'na/vid_4.mp4' 'na/vid_104.mp4' 'na/vid_16.mp4' 'persian/vid_36.mp4'\n",
      " 'persian/vid_49.mp4' 'na/vid_69.mp4']\n",
      "Training+validation data size:  8447\n",
      "Training data size:  8447\n",
      "Validation data size:  2211\n",
      "XGB-multi validation Jaccard score: 0.0765189205487713\n",
      "XGB-multi validation Hamming loss:  0.20110192837465565\n",
      "XGB-multi test Jaccard score:  0.16543748989163837\n",
      "XGB-multi test Hamming loss:  0.16741652331171983\n",
      "CC Validation Jaccard Score:\n",
      "  0.12308156188753204\n",
      "CC Validation Hamming Loss:\n",
      "  0.20755725504707864\n",
      "CC Test Jaccard Score: \n",
      "  0.20578198285621868\n",
      "CC Test Hamming Loss:\n",
      "  0.17681178598209166\n",
      "Test result df shape =  (4122, 17)\n",
      "(43, 11)\n",
      "(43, 11)\n",
      "5-th split: train: 99, test: 24\n",
      "['na/vid_37.mp4' 'persian/vid_77.mp4' 'na/vid_7.mp4' 'persian/vid_72.mp4'\n",
      " 'persian/vid_33.mp4' 'na/vid_18.mp4' 'na/vid_17.mp4' 'na/vid_100.mp4'\n",
      " 'na/vid_73.mp4' 'persian/vid_58.mp4' 'na/vid_95.mp4' 'persian/vid_83.mp4'\n",
      " 'na/vid_5.mp4' 'persian/vid_22.mp4' 'na/vid_25.mp4' 'persian/vid_32.mp4'\n",
      " 'persian/vid_12.mp4' 'persian/vid_55.mp4' 'persian/vid_4.mp4'\n",
      " 'persian/vid_2.mp4' 'na/vid_35.mp4' 'persian/vid_27.mp4' 'na/vid_72.mp4'\n",
      " 'na/vid_97.mp4' 'na/vid_76.mp4' 'na/vid_38.mp4' 'persian/vid_67.mp4'\n",
      " 'persian/vid_95.mp4' 'na/vid_19.mp4' 'na/vid_22.mp4' 'na/vid_3.mp4'\n",
      " 'persian/vid_71.mp4' 'persian/vid_74.mp4' 'na/vid_20.mp4' 'na/vid_63.mp4'\n",
      " 'persian/vid_6.mp4' 'persian/vid_57.mp4' 'persian/vid_80.mp4'\n",
      " 'na/vid_81.mp4' 'persian/vid_8.mp4' 'persian/vid_63.mp4'\n",
      " 'persian/vid_3.mp4' 'na/vid_62.mp4' 'persian/vid_65.mp4'\n",
      " 'persian/vid_20.mp4' 'persian/vid_51.mp4' 'na/vid_26.mp4' 'na/vid_74.mp4'\n",
      " 'persian/vid_31.mp4' 'persian/vid_30.mp4' 'persian/vid_24.mp4'\n",
      " 'na/vid_2.mp4' 'persian/vid_29.mp4' 'na/vid_23.mp4' 'na/vid_84.mp4'\n",
      " 'persian/vid_41.mp4' 'na/vid_101.mp4' 'persian/vid_64.mp4'\n",
      " 'na/vid_80.mp4' 'na/vid_78.mp4' 'na/vid_9.mp4' 'na/vid_1.mp4'\n",
      " 'na/vid_82.mp4' 'persian/vid_11.mp4' 'persian/vid_13.mp4'\n",
      " 'persian/vid_73.mp4' 'na/vid_39.mp4' 'persian/vid_48.mp4'\n",
      " 'persian/vid_16.mp4' 'persian/vid_26.mp4' 'persian/vid_56.mp4'\n",
      " 'persian/vid_21.mp4' 'na/vid_30.mp4' 'na/vid_29.mp4' 'na/vid_65.mp4'\n",
      " 'persian/vid_7.mp4' 'na/vid_61.mp4' 'persian/vid_91.mp4'\n",
      " 'persian/vid_76.mp4' 'persian/vid_68.mp4' 'persian/vid_88.mp4'\n",
      " 'persian/vid_78.mp4' 'na/vid_8.mp4' 'persian/vid_84.mp4' 'na/vid_31.mp4'\n",
      " 'persian/vid_43.mp4' 'na/vid_77.mp4' 'na/vid_70.mp4' 'na/vid_75.mp4'\n",
      " 'persian/vid_23.mp4' 'na/vid_12.mp4' 'na/vid_4.mp4' 'na/vid_104.mp4'\n",
      " 'na/vid_16.mp4' 'persian/vid_96.mp4' 'persian/vid_38.mp4'\n",
      " 'persian/vid_36.mp4' 'persian/vid_49.mp4' 'na/vid_69.mp4']\n",
      "Training+validation data size:  9106\n",
      "Training data size:  9106\n",
      "Validation data size:  1552\n",
      "XGB-multi validation Jaccard score: 0.220858646293569\n",
      "XGB-multi validation Hamming loss:  0.15422914714151828\n",
      "XGB-multi test Jaccard score:  0.13993611515445575\n",
      "XGB-multi test Hamming loss:  0.17273168364871422\n",
      "CC Validation Jaccard Score:\n",
      "  0.2871187714776632\n",
      "CC Validation Hamming Loss:\n",
      "  0.16694001874414247\n",
      "CC Test Jaccard Score: \n",
      "  0.1937328157852175\n",
      "CC Test Hamming Loss:\n",
      "  0.18801552644347405\n",
      "Test result df shape =  (4122, 17)\n",
      "(43, 11)\n",
      "(43, 11)\n"
     ]
    }
   ],
   "source": [
    "from sklearn.model_selection import KFold\n",
    "from sklearn.linear_model import LogisticRegression\n",
    "from sklearn.ensemble import RandomForestClassifier\n",
    "from sklearn import metrics\n",
    "from sklearn.multiclass import OneVsRestClassifier\n",
    "from xgboost import XGBClassifier\n",
    "from sklearn.multioutput import MultiOutputClassifier\n",
    "\n",
    "kfold = KFold(5, True, 1)\n",
    "frames_mean_hm_test = []\n",
    "frames_mean_jac_test = []\n",
    "videos_mean_jac_test = []\n",
    "videos_mean_hm_test = []\n",
    "# metadata_test.reset_index(inplace=True)\n",
    "\n",
    "col_indices = {i:label for (i,label) in enumerate(label_cols)}\n",
    "\n",
    "splits = kfold.split(train_videos)\n",
    "for (i, (train, test)) in enumerate(splits):\n",
    "    # print(videos[train])\n",
    "    # print(videos[test])\n",
    "    print('%d-th split: train: %d, test: %d' % (i+1, len(train_videos[train]), len(train_videos[test])))\n",
    "    train_df = X_df[X_df['filename'].isin(train_videos[train])]\n",
    "    print(train_videos[train])\n",
    "    train_metadata = train_df[metadata_cols]\n",
    "    print('Training+validation data size: ', train_df.shape[0])\n",
    "    y_train = train_df[label_cols].values\n",
    "    X_train = train_df.drop(columns = cols_to_drop).values\n",
    "    valid_df = X_df[X_df['filename'].isin(train_videos[test])]\n",
    "    y_valid = valid_df[label_cols].values\n",
    "    X_valid = valid_df.drop(columns = cols_to_drop).values\n",
    "    # X_train, X_valid, y_train, y_valid = train_test_split(X, y)\n",
    "    print('Training data size: ', X_train.shape[0])\n",
    "    print('Validation data size: ', X_valid.shape[0])\n",
    "    base_knn =  KNeighborsClassifier(n_neighbors=5,)\n",
    "    base_lr = LogisticRegression()\n",
    "    base_rf = RandomForestClassifier()\n",
    "    base_xgb = XGBClassifier(objective=\"binary:logistic\", eval_metric='logloss')\n",
    "\n",
    "    multiclass_xg = MultiOutputClassifier(XGBClassifier(objective='binary:logistic', eval_metric='logloss'))\n",
    "    # ovr = LogisticRegression()\n",
    "    multiclass_xg.fit(X_train, y_train)\n",
    "    valid_pred_xgb = multiclass_xg.predict(X_valid)\n",
    "    ovr_jaccard_score = jaccard_score(y_valid, valid_pred_xgb, average='samples') # TODO\n",
    "    ovr_ham_loss = metrics.hamming_loss(y_valid, valid_pred_xgb)\n",
    "    print(\"XGB-multi validation Jaccard score:\" , ovr_jaccard_score)\n",
    "    print(\"XGB-multi validation Hamming loss: \" , ovr_ham_loss)\n",
    "\n",
    "    Y_pred_ovr = multiclass_xg.predict(X_test)\n",
    "    a = jaccard_score(y_test, Y_pred_ovr, average='samples') #TODO\n",
    "    b = metrics.hamming_loss(y_test, Y_pred_ovr)\n",
    "    # print(Y_pred_ovr[800:805,:])\n",
    "    # print(y_test[800:805,:])\n",
    "\n",
    "    print(\"XGB-multi test Jaccard score: \", a)\n",
    "    print(\"XGB-multi test Hamming loss: \" , b)\n",
    "    chains = [ClassifierChain(base_xgb, order='random', random_state=i) for i in range(14)]\n",
    "    best_model_index = 0\n",
    "    best_jac = 0\n",
    "    for j, model in enumerate(chains):\n",
    "        model.fit(X_train, y_train)\n",
    "        valid_pred = model.predict(X_valid)\n",
    "        val_score =jaccard_score(y_valid, valid_pred, average='samples')\n",
    "        if val_score > best_jac:\n",
    "            best_model_index = j\n",
    "            best_jac = val_score\n",
    "        \n",
    "        \n",
    "    # predict on validation data\n",
    "    valid_pred_chains = chains[best_model_index].predict(X_valid)\n",
    "    chain_jaccard_scores = jaccard_score(y_valid, valid_pred_chains >= .5,\n",
    "                                    average='samples')\n",
    "                    \n",
    "    \n",
    "    print(\"CC Validation Jaccard Score:\\n \", chain_jaccard_scores)\n",
    "\n",
    "    chain_hamming_loss = metrics.hamming_loss(y_valid, valid_pred_chains >= .5)\n",
    "                \n",
    "    print(\"CC Validation Hamming Loss:\\n \", chain_hamming_loss)\n",
    "\n",
    "    # test on test data\n",
    "    Y_pred_chains = chains[best_model_index].predict(X_test)\n",
    "    chain_jaccard_scores = jaccard_score(y_test, Y_pred_chains >= .5,\n",
    "                                    average='samples')\n",
    "                    \n",
    "    frames_mean_jac_test.append(np.mean(chain_jaccard_scores))\n",
    "    print(\"CC Test Jaccard Score: \\n \", chain_jaccard_scores)\n",
    "\n",
    "    chain_hamming_loss = metrics.hamming_loss(y_test, Y_pred_chains) \n",
    "               \n",
    "    frames_mean_hm_test.append(chain_hamming_loss)\n",
    "    print(\"CC Test Hamming Loss:\\n \", chain_hamming_loss)\n",
    "    ## voting predicted labels\n",
    "    # test_result_df = pd.DataFrame(columns=metadata_cols, data=metadata_test.values)\n",
    "    # test_result_df.update(metadata_test)\n",
    "    temp_df = pd.DataFrame(data=Y_pred_chains, columns=label_cols)\n",
    "\n",
    "    # TODO: map emojis to emotions using temp_df\n",
    "    test_result_df = None\n",
    "    test_result_df = pd.concat([metadata_test, temp_df], axis=1)\n",
    "    print(\"Test result df shape = \", test_result_df.shape)\n",
    "    emoji_video_groups = test_result_df.groupby('filename')[label_cols].sum()\n",
    "   \n",
    "\n",
    "    ground_truth_video_labels = []\n",
    "    \n",
    "    for v in emoji_video_groups.index.to_list():\n",
    "        # number of 1s in ground truth labels\n",
    "        ground_truth_video_labels.append(test_df[test_df['filename'] == v].iloc[0][label_cols])\n",
    "        \n",
    "        num_1s = test_df[test_df['filename'] == v].iloc[0][label_cols].sum()\n",
    "        num_1s = int(num_1s)\n",
    "        a = np.argsort(emoji_video_groups.loc[v].values)\n",
    "        for i in range(len(a) - 1, len(a) - num_1s - 1, -1):\n",
    "            emoji_video_groups.loc[v][a[i]] = 1\n",
    "        for i in range(0, len(a) - num_1s):\n",
    "            emoji_video_groups.loc[v][a[i]] = 0\n",
    "        \n",
    "    \n",
    "    print(np.array(ground_truth_video_labels,  dtype=int).shape)\n",
    "    print(emoji_video_groups.values.shape)\n",
    "\n",
    "    j = metrics.jaccard_score(np.array(ground_truth_video_labels,  dtype=int), emoji_video_groups.values, average='samples')\n",
    "    h = metrics.hamming_loss(np.array(ground_truth_video_labels,  dtype=int), emoji_video_groups.values)\n",
    "    videos_mean_jac_test.append(j)\n",
    "    videos_mean_hm_test.append(h)"
   ]
  },
  {
   "cell_type": "code",
   "execution_count": null,
   "metadata": {},
   "outputs": [],
   "source": [
    "print(test_result_df.shape)\n",
    "print(temp_df.shape)\n",
    "print(metadata_test.shape)\n",
    "print(emoji_video_groups.shape)\n",
    "len(test_videos)"
   ]
  },
  {
   "cell_type": "code",
   "execution_count": null,
   "metadata": {},
   "outputs": [],
   "source": [
    "emotion_mapped_df.sum()"
   ]
  },
  {
   "cell_type": "code",
   "execution_count": 66,
   "metadata": {},
   "outputs": [],
   "source": [
    "emotion_mapped_df = pd.DataFrame(columns=emotion_cols.tolist(), data=np.zeros((temp_df.shape[0], len(emotion_cols)), dtype=int))\n",
    "emotion_mapped_df['filename'] = test_result_df['filename']\n",
    "for emoji in label_cols.tolist():\n",
    "    indices = temp_df[temp_df[emoji]==1].index\n",
    "    emotions = emoji_map[emoji] # TODO: change to persian_emoji_map for persian\n",
    "    # print(indices)\n",
    "    # print(emotion)\n",
    "    for emotion in emotions:\n",
    "        emotion_mapped_df.at[indices.to_list(), emotion] = 1\n",
    "emotion_video_groups = emotion_mapped_df.groupby('filename')[emotion_cols].sum()\n",
    "ground_truth_video_emotions = []\n",
    "for v in emotion_video_groups.index.to_list():\n",
    "    ground_truth_video_emotions.append(test_df[test_df['filename'] == v].iloc[0][emotion_cols])\n",
    "    num_1s = test_df[test_df['filename'] == v].iloc[0][emotion_cols].sum()\n",
    "    num_1s = int(num_1s)\n",
    "    a = np.argsort(emotion_video_groups.loc[v].values)\n",
    "    for i in range(len(a) - 1, len(a) - num_1s - 1, -1):\n",
    "        emotion_video_groups.loc[v][a[i]] = 1\n",
    "    for i in range(0, len(a) - num_1s):\n",
    "        emotion_video_groups.loc[v][a[i]] = 0\n"
   ]
  },
  {
   "cell_type": "code",
   "execution_count": null,
   "metadata": {},
   "outputs": [],
   "source": [
    "emotion_mapped_df.head()"
   ]
  },
  {
   "source": [
    "# Categorizing emoji results into emotions"
   ],
   "cell_type": "markdown",
   "metadata": {}
  },
  {
   "cell_type": "code",
   "execution_count": 67,
   "metadata": {},
   "outputs": [
    {
     "output_type": "stream",
     "name": "stdout",
     "text": [
      "------------------- Frame-level F1 -----------------\n              precision    recall  f1-score   support\n\n        none       0.05      0.06      0.06       206\n     furious       0.36      0.69      0.47       686\n       anger       0.21      0.33      0.26      1190\n     annoyed       0.30      0.72      0.43       609\n    contempt       0.34      0.09      0.14      1435\n      hatred       0.03      0.07      0.04       384\n\n   micro avg       0.24      0.33      0.28      4510\n   macro avg       0.22      0.33      0.23      4510\nweighted avg       0.26      0.33      0.25      4510\n samples avg       0.25      0.31      0.26      4510\n\n------------------- Video-level F1 -----------------\n              precision    recall  f1-score   support\n\n        none       0.50      0.20      0.29         5\n     furious       0.50      0.30      0.37        10\n       anger       0.29      0.22      0.25        18\n     annoyed       0.33      0.18      0.24        11\n    contempt       0.13      0.43      0.20         7\n      hatred       0.00      0.00      0.00         4\n\n   micro avg       0.24      0.24      0.24        55\n   macro avg       0.29      0.22      0.22        55\nweighted avg       0.31      0.24      0.25        55\n samples avg       0.24      0.24      0.24        55\n\n"
     ]
    }
   ],
   "source": [
    "\n",
    "print('------------------- Frame-level F1 -----------------')\n",
    "print(metrics.classification_report(emotion_mapped_df.drop('filename', axis=1).values,  y_test_emotions.values, target_names=emotion_cols))\n",
    "print('------------------- Video-level F1 -----------------')\n",
    "print(metrics.classification_report(np.array(ground_truth_video_emotions,  dtype=int),  emotion_video_groups.values, target_names=emotion_cols))"
   ]
  },
  {
   "cell_type": "code",
   "execution_count": null,
   "metadata": {},
   "outputs": [],
   "source": [
    "print('------------------- Frame-level Jaccard -----------------')\n",
    "print(metrics.jaccard_score(emotion_mapped_df.drop('filename', axis=1).values,  y_test_emotions.values, average='samples'))\n",
    "print('------------------- Video-level Jaccard -----------------')\n",
    "print(metrics.jaccard_score(np.array(ground_truth_video_emotions,  dtype=int),  emotion_video_groups.values, average='samples'))"
   ]
  },
  {
   "cell_type": "code",
   "execution_count": 69,
   "metadata": {},
   "outputs": [
    {
     "output_type": "stream",
     "name": "stdout",
     "text": [
      "----------------- Frame-level F1 (emoji) ----------------\n                precision    recall  f1-score   support\n\n       neutral       0.00      0.00      0.00       111\n         smirk       0.05      0.08      0.06       132\n       furious       0.69      0.36      0.47      1319\n         weary       0.80      0.21      0.34       363\nexpressionless       0.33      0.21      0.25       537\n      unamused       0.30      0.41      0.35       876\n   rollingeyes       0.21      0.06      0.10       706\n          none       0.00      0.00      0.00       222\n         angry       0.36      0.26      0.30      1637\n       triumph       0.07      0.09      0.08       260\n        hatred       0.81      0.02      0.04       871\n\n     micro avg       0.34      0.22      0.27      7034\n     macro avg       0.33      0.15      0.18      7034\n  weighted avg       0.44      0.22      0.26      7034\n   samples avg       0.31      0.22      0.24      7034\n\n----------------- Video-level F1 (emoji) ----------------\n                precision    recall  f1-score   support\n\n       neutral       0.00      0.00      0.00         3\n         smirk       0.40      0.67      0.50         3\n       furious       0.60      0.30      0.40        10\n         weary       0.00      0.00      0.00         3\nexpressionless       0.50      0.33      0.40         6\n      unamused       0.27      0.44      0.33         9\n   rollingeyes       0.29      0.40      0.33         5\n          none       0.00      0.00      0.00         5\n         angry       0.43      0.64      0.51        14\n       triumph       0.50      0.50      0.50         4\n        hatred       0.50      0.25      0.33         4\n\n     micro avg       0.38      0.38      0.38        66\n     macro avg       0.32      0.32      0.30        66\n  weighted avg       0.36      0.38      0.35        66\n   samples avg       0.27      0.27      0.27        66\n\n"
     ]
    }
   ],
   "source": [
    "print('----------------- Frame-level F1 (emoji) ----------------')\n",
    "print(metrics.classification_report(y_test,  Y_pred_chains, target_names=label_cols.tolist()))\n",
    "\n",
    "print('----------------- Video-level F1 (emoji) ----------------')\n",
    "print(metrics.classification_report(np.array(ground_truth_video_labels,  dtype=int), emoji_video_groups.values, target_names=label_cols.tolist()))"
   ]
  },
  {
   "cell_type": "code",
   "execution_count": 71,
   "metadata": {},
   "outputs": [
    {
     "output_type": "stream",
     "name": "stdout",
     "text": [
      "------------------- Frame-level Jaccard (emojis) -----------------\n0.1937328157852175\n------------------- Video-level Jaccard (emojis) -----------------\n0.23477297895902546\n"
     ]
    }
   ],
   "source": [
    "print('------------------- Frame-level Jaccard (emojis) -----------------')\n",
    "print(metrics.jaccard_score(y_test,  Y_pred_chains, average='samples'))\n",
    "\n",
    "print('------------------- Video-level Jaccard (emojis) -----------------')\n",
    "print(metrics.jaccard_score(np.array(ground_truth_video_labels,  dtype=int),  emoji_video_groups.values, average='samples'))"
   ]
  },
  {
   "cell_type": "code",
   "execution_count": 72,
   "metadata": {},
   "outputs": [
    {
     "output_type": "display_data",
     "data": {
      "text/plain": "<Figure size 288x288 with 1 Axes>",
      "image/svg+xml": "<?xml version=\"1.0\" encoding=\"utf-8\" standalone=\"no\"?>\n<!DOCTYPE svg PUBLIC \"-//W3C//DTD SVG 1.1//EN\"\n  \"http://www.w3.org/Graphics/SVG/1.1/DTD/svg11.dtd\">\n<!-- Created with matplotlib (https://matplotlib.org/) -->\n<svg height=\"263.63625pt\" version=\"1.1\" viewBox=\"0 0 274.18125 263.63625\" width=\"274.18125pt\" xmlns=\"http://www.w3.org/2000/svg\" xmlns:xlink=\"http://www.w3.org/1999/xlink\">\n <metadata>\n  <rdf:RDF xmlns:cc=\"http://creativecommons.org/ns#\" xmlns:dc=\"http://purl.org/dc/elements/1.1/\" xmlns:rdf=\"http://www.w3.org/1999/02/22-rdf-syntax-ns#\">\n   <cc:Work>\n    <dc:type rdf:resource=\"http://purl.org/dc/dcmitype/StillImage\"/>\n    <dc:date>2021-08-17T11:20:38.947887</dc:date>\n    <dc:format>image/svg+xml</dc:format>\n    <dc:creator>\n     <cc:Agent>\n      <dc:title>Matplotlib v3.3.2, https://matplotlib.org/</dc:title>\n     </cc:Agent>\n    </dc:creator>\n   </cc:Work>\n  </rdf:RDF>\n </metadata>\n <defs>\n  <style type=\"text/css\">*{stroke-linecap:butt;stroke-linejoin:round;}</style>\n </defs>\n <g id=\"figure_1\">\n  <g id=\"patch_1\">\n   <path d=\"M 0 263.63625 \nL 274.18125 263.63625 \nL 274.18125 0 \nL 0 0 \nz\n\" style=\"fill:none;\"/>\n  </g>\n  <g id=\"axes_1\">\n   <g id=\"patch_2\">\n    <path d=\"M 43.78125 239.758125 \nL 266.98125 239.758125 \nL 266.98125 22.318125 \nL 43.78125 22.318125 \nz\n\" style=\"fill:#ffffff;\"/>\n   </g>\n   <g id=\"matplotlib.axis_1\">\n    <g id=\"xtick_1\">\n     <g id=\"line2d_1\">\n      <path clip-path=\"url(#p307cd66db2)\" d=\"M 53.926705 239.758125 \nL 53.926705 22.318125 \n\" style=\"fill:none;stroke:#b0b0b0;stroke-linecap:square;stroke-width:0.8;\"/>\n     </g>\n     <g id=\"line2d_2\">\n      <defs>\n       <path d=\"M 0 0 \nL 0 3.5 \n\" id=\"mca23b10e30\" style=\"stroke:#000000;stroke-width:0.8;\"/>\n      </defs>\n      <g>\n       <use style=\"stroke:#000000;stroke-width:0.8;\" x=\"53.926705\" xlink:href=\"#mca23b10e30\" y=\"239.758125\"/>\n      </g>\n     </g>\n     <g id=\"text_1\">\n      <!-- 0 -->\n      <g transform=\"translate(50.745455 254.356563)scale(0.1 -0.1)\">\n       <defs>\n        <path d=\"M 31.78125 66.40625 \nQ 24.171875 66.40625 20.328125 58.90625 \nQ 16.5 51.421875 16.5 36.375 \nQ 16.5 21.390625 20.328125 13.890625 \nQ 24.171875 6.390625 31.78125 6.390625 \nQ 39.453125 6.390625 43.28125 13.890625 \nQ 47.125 21.390625 47.125 36.375 \nQ 47.125 51.421875 43.28125 58.90625 \nQ 39.453125 66.40625 31.78125 66.40625 \nz\nM 31.78125 74.21875 \nQ 44.046875 74.21875 50.515625 64.515625 \nQ 56.984375 54.828125 56.984375 36.375 \nQ 56.984375 17.96875 50.515625 8.265625 \nQ 44.046875 -1.421875 31.78125 -1.421875 \nQ 19.53125 -1.421875 13.0625 8.265625 \nQ 6.59375 17.96875 6.59375 36.375 \nQ 6.59375 54.828125 13.0625 64.515625 \nQ 19.53125 74.21875 31.78125 74.21875 \nz\n\" id=\"DejaVuSans-48\"/>\n       </defs>\n       <use xlink:href=\"#DejaVuSans-48\"/>\n      </g>\n     </g>\n    </g>\n    <g id=\"xtick_2\">\n     <g id=\"line2d_3\">\n      <path clip-path=\"url(#p307cd66db2)\" d=\"M 104.653977 239.758125 \nL 104.653977 22.318125 \n\" style=\"fill:none;stroke:#b0b0b0;stroke-linecap:square;stroke-width:0.8;\"/>\n     </g>\n     <g id=\"line2d_4\">\n      <g>\n       <use style=\"stroke:#000000;stroke-width:0.8;\" x=\"104.653977\" xlink:href=\"#mca23b10e30\" y=\"239.758125\"/>\n      </g>\n     </g>\n     <g id=\"text_2\">\n      <!-- 1 -->\n      <g transform=\"translate(101.472727 254.356563)scale(0.1 -0.1)\">\n       <defs>\n        <path d=\"M 12.40625 8.296875 \nL 28.515625 8.296875 \nL 28.515625 63.921875 \nL 10.984375 60.40625 \nL 10.984375 69.390625 \nL 28.421875 72.90625 \nL 38.28125 72.90625 \nL 38.28125 8.296875 \nL 54.390625 8.296875 \nL 54.390625 0 \nL 12.40625 0 \nz\n\" id=\"DejaVuSans-49\"/>\n       </defs>\n       <use xlink:href=\"#DejaVuSans-49\"/>\n      </g>\n     </g>\n    </g>\n    <g id=\"xtick_3\">\n     <g id=\"line2d_5\">\n      <path clip-path=\"url(#p307cd66db2)\" d=\"M 155.38125 239.758125 \nL 155.38125 22.318125 \n\" style=\"fill:none;stroke:#b0b0b0;stroke-linecap:square;stroke-width:0.8;\"/>\n     </g>\n     <g id=\"line2d_6\">\n      <g>\n       <use style=\"stroke:#000000;stroke-width:0.8;\" x=\"155.38125\" xlink:href=\"#mca23b10e30\" y=\"239.758125\"/>\n      </g>\n     </g>\n     <g id=\"text_3\">\n      <!-- 2 -->\n      <g transform=\"translate(152.2 254.356563)scale(0.1 -0.1)\">\n       <defs>\n        <path d=\"M 19.1875 8.296875 \nL 53.609375 8.296875 \nL 53.609375 0 \nL 7.328125 0 \nL 7.328125 8.296875 \nQ 12.9375 14.109375 22.625 23.890625 \nQ 32.328125 33.6875 34.8125 36.53125 \nQ 39.546875 41.84375 41.421875 45.53125 \nQ 43.3125 49.21875 43.3125 52.78125 \nQ 43.3125 58.59375 39.234375 62.25 \nQ 35.15625 65.921875 28.609375 65.921875 \nQ 23.96875 65.921875 18.8125 64.3125 \nQ 13.671875 62.703125 7.8125 59.421875 \nL 7.8125 69.390625 \nQ 13.765625 71.78125 18.9375 73 \nQ 24.125 74.21875 28.421875 74.21875 \nQ 39.75 74.21875 46.484375 68.546875 \nQ 53.21875 62.890625 53.21875 53.421875 \nQ 53.21875 48.921875 51.53125 44.890625 \nQ 49.859375 40.875 45.40625 35.40625 \nQ 44.1875 33.984375 37.640625 27.21875 \nQ 31.109375 20.453125 19.1875 8.296875 \nz\n\" id=\"DejaVuSans-50\"/>\n       </defs>\n       <use xlink:href=\"#DejaVuSans-50\"/>\n      </g>\n     </g>\n    </g>\n    <g id=\"xtick_4\">\n     <g id=\"line2d_7\">\n      <path clip-path=\"url(#p307cd66db2)\" d=\"M 206.108523 239.758125 \nL 206.108523 22.318125 \n\" style=\"fill:none;stroke:#b0b0b0;stroke-linecap:square;stroke-width:0.8;\"/>\n     </g>\n     <g id=\"line2d_8\">\n      <g>\n       <use style=\"stroke:#000000;stroke-width:0.8;\" x=\"206.108523\" xlink:href=\"#mca23b10e30\" y=\"239.758125\"/>\n      </g>\n     </g>\n     <g id=\"text_4\">\n      <!-- 3 -->\n      <g transform=\"translate(202.927273 254.356563)scale(0.1 -0.1)\">\n       <defs>\n        <path d=\"M 40.578125 39.3125 \nQ 47.65625 37.796875 51.625 33 \nQ 55.609375 28.21875 55.609375 21.1875 \nQ 55.609375 10.40625 48.1875 4.484375 \nQ 40.765625 -1.421875 27.09375 -1.421875 \nQ 22.515625 -1.421875 17.65625 -0.515625 \nQ 12.796875 0.390625 7.625 2.203125 \nL 7.625 11.71875 \nQ 11.71875 9.328125 16.59375 8.109375 \nQ 21.484375 6.890625 26.8125 6.890625 \nQ 36.078125 6.890625 40.9375 10.546875 \nQ 45.796875 14.203125 45.796875 21.1875 \nQ 45.796875 27.640625 41.28125 31.265625 \nQ 36.765625 34.90625 28.71875 34.90625 \nL 20.21875 34.90625 \nL 20.21875 43.015625 \nL 29.109375 43.015625 \nQ 36.375 43.015625 40.234375 45.921875 \nQ 44.09375 48.828125 44.09375 54.296875 \nQ 44.09375 59.90625 40.109375 62.90625 \nQ 36.140625 65.921875 28.71875 65.921875 \nQ 24.65625 65.921875 20.015625 65.03125 \nQ 15.375 64.15625 9.8125 62.3125 \nL 9.8125 71.09375 \nQ 15.4375 72.65625 20.34375 73.4375 \nQ 25.25 74.21875 29.59375 74.21875 \nQ 40.828125 74.21875 47.359375 69.109375 \nQ 53.90625 64.015625 53.90625 55.328125 \nQ 53.90625 49.265625 50.4375 45.09375 \nQ 46.96875 40.921875 40.578125 39.3125 \nz\n\" id=\"DejaVuSans-51\"/>\n       </defs>\n       <use xlink:href=\"#DejaVuSans-51\"/>\n      </g>\n     </g>\n    </g>\n    <g id=\"xtick_5\">\n     <g id=\"line2d_9\">\n      <path clip-path=\"url(#p307cd66db2)\" d=\"M 256.835795 239.758125 \nL 256.835795 22.318125 \n\" style=\"fill:none;stroke:#b0b0b0;stroke-linecap:square;stroke-width:0.8;\"/>\n     </g>\n     <g id=\"line2d_10\">\n      <g>\n       <use style=\"stroke:#000000;stroke-width:0.8;\" x=\"256.835795\" xlink:href=\"#mca23b10e30\" y=\"239.758125\"/>\n      </g>\n     </g>\n     <g id=\"text_5\">\n      <!-- 4 -->\n      <g transform=\"translate(253.654545 254.356563)scale(0.1 -0.1)\">\n       <defs>\n        <path d=\"M 37.796875 64.3125 \nL 12.890625 25.390625 \nL 37.796875 25.390625 \nz\nM 35.203125 72.90625 \nL 47.609375 72.90625 \nL 47.609375 25.390625 \nL 58.015625 25.390625 \nL 58.015625 17.1875 \nL 47.609375 17.1875 \nL 47.609375 0 \nL 37.796875 0 \nL 37.796875 17.1875 \nL 4.890625 17.1875 \nL 4.890625 26.703125 \nz\n\" id=\"DejaVuSans-52\"/>\n       </defs>\n       <use xlink:href=\"#DejaVuSans-52\"/>\n      </g>\n     </g>\n    </g>\n   </g>\n   <g id=\"matplotlib.axis_2\">\n    <g id=\"ytick_1\">\n     <g id=\"line2d_11\">\n      <path clip-path=\"url(#p307cd66db2)\" d=\"M 43.78125 239.758125 \nL 266.98125 239.758125 \n\" style=\"fill:none;stroke:#b0b0b0;stroke-linecap:square;stroke-width:0.8;\"/>\n     </g>\n     <g id=\"line2d_12\">\n      <defs>\n       <path d=\"M 0 0 \nL -3.5 0 \n\" id=\"m0b89f01ca3\" style=\"stroke:#000000;stroke-width:0.8;\"/>\n      </defs>\n      <g>\n       <use style=\"stroke:#000000;stroke-width:0.8;\" x=\"43.78125\" xlink:href=\"#m0b89f01ca3\" y=\"239.758125\"/>\n      </g>\n     </g>\n     <g id=\"text_6\">\n      <!-- 0.0 -->\n      <g transform=\"translate(20.878125 243.557344)scale(0.1 -0.1)\">\n       <defs>\n        <path d=\"M 10.6875 12.40625 \nL 21 12.40625 \nL 21 0 \nL 10.6875 0 \nz\n\" id=\"DejaVuSans-46\"/>\n       </defs>\n       <use xlink:href=\"#DejaVuSans-48\"/>\n       <use x=\"63.623047\" xlink:href=\"#DejaVuSans-46\"/>\n       <use x=\"95.410156\" xlink:href=\"#DejaVuSans-48\"/>\n      </g>\n     </g>\n    </g>\n    <g id=\"ytick_2\">\n     <g id=\"line2d_13\">\n      <path clip-path=\"url(#p307cd66db2)\" d=\"M 43.78125 196.270125 \nL 266.98125 196.270125 \n\" style=\"fill:none;stroke:#b0b0b0;stroke-linecap:square;stroke-width:0.8;\"/>\n     </g>\n     <g id=\"line2d_14\">\n      <g>\n       <use style=\"stroke:#000000;stroke-width:0.8;\" x=\"43.78125\" xlink:href=\"#m0b89f01ca3\" y=\"196.270125\"/>\n      </g>\n     </g>\n     <g id=\"text_7\">\n      <!-- 0.2 -->\n      <g transform=\"translate(20.878125 200.069344)scale(0.1 -0.1)\">\n       <use xlink:href=\"#DejaVuSans-48\"/>\n       <use x=\"63.623047\" xlink:href=\"#DejaVuSans-46\"/>\n       <use x=\"95.410156\" xlink:href=\"#DejaVuSans-50\"/>\n      </g>\n     </g>\n    </g>\n    <g id=\"ytick_3\">\n     <g id=\"line2d_15\">\n      <path clip-path=\"url(#p307cd66db2)\" d=\"M 43.78125 152.782125 \nL 266.98125 152.782125 \n\" style=\"fill:none;stroke:#b0b0b0;stroke-linecap:square;stroke-width:0.8;\"/>\n     </g>\n     <g id=\"line2d_16\">\n      <g>\n       <use style=\"stroke:#000000;stroke-width:0.8;\" x=\"43.78125\" xlink:href=\"#m0b89f01ca3\" y=\"152.782125\"/>\n      </g>\n     </g>\n     <g id=\"text_8\">\n      <!-- 0.4 -->\n      <g transform=\"translate(20.878125 156.581344)scale(0.1 -0.1)\">\n       <use xlink:href=\"#DejaVuSans-48\"/>\n       <use x=\"63.623047\" xlink:href=\"#DejaVuSans-46\"/>\n       <use x=\"95.410156\" xlink:href=\"#DejaVuSans-52\"/>\n      </g>\n     </g>\n    </g>\n    <g id=\"ytick_4\">\n     <g id=\"line2d_17\">\n      <path clip-path=\"url(#p307cd66db2)\" d=\"M 43.78125 109.294125 \nL 266.98125 109.294125 \n\" style=\"fill:none;stroke:#b0b0b0;stroke-linecap:square;stroke-width:0.8;\"/>\n     </g>\n     <g id=\"line2d_18\">\n      <g>\n       <use style=\"stroke:#000000;stroke-width:0.8;\" x=\"43.78125\" xlink:href=\"#m0b89f01ca3\" y=\"109.294125\"/>\n      </g>\n     </g>\n     <g id=\"text_9\">\n      <!-- 0.6 -->\n      <g transform=\"translate(20.878125 113.093344)scale(0.1 -0.1)\">\n       <defs>\n        <path d=\"M 33.015625 40.375 \nQ 26.375 40.375 22.484375 35.828125 \nQ 18.609375 31.296875 18.609375 23.390625 \nQ 18.609375 15.53125 22.484375 10.953125 \nQ 26.375 6.390625 33.015625 6.390625 \nQ 39.65625 6.390625 43.53125 10.953125 \nQ 47.40625 15.53125 47.40625 23.390625 \nQ 47.40625 31.296875 43.53125 35.828125 \nQ 39.65625 40.375 33.015625 40.375 \nz\nM 52.59375 71.296875 \nL 52.59375 62.3125 \nQ 48.875 64.0625 45.09375 64.984375 \nQ 41.3125 65.921875 37.59375 65.921875 \nQ 27.828125 65.921875 22.671875 59.328125 \nQ 17.53125 52.734375 16.796875 39.40625 \nQ 19.671875 43.65625 24.015625 45.921875 \nQ 28.375 48.1875 33.59375 48.1875 \nQ 44.578125 48.1875 50.953125 41.515625 \nQ 57.328125 34.859375 57.328125 23.390625 \nQ 57.328125 12.15625 50.6875 5.359375 \nQ 44.046875 -1.421875 33.015625 -1.421875 \nQ 20.359375 -1.421875 13.671875 8.265625 \nQ 6.984375 17.96875 6.984375 36.375 \nQ 6.984375 53.65625 15.1875 63.9375 \nQ 23.390625 74.21875 37.203125 74.21875 \nQ 40.921875 74.21875 44.703125 73.484375 \nQ 48.484375 72.75 52.59375 71.296875 \nz\n\" id=\"DejaVuSans-54\"/>\n       </defs>\n       <use xlink:href=\"#DejaVuSans-48\"/>\n       <use x=\"63.623047\" xlink:href=\"#DejaVuSans-46\"/>\n       <use x=\"95.410156\" xlink:href=\"#DejaVuSans-54\"/>\n      </g>\n     </g>\n    </g>\n    <g id=\"ytick_5\">\n     <g id=\"line2d_19\">\n      <path clip-path=\"url(#p307cd66db2)\" d=\"M 43.78125 65.806125 \nL 266.98125 65.806125 \n\" style=\"fill:none;stroke:#b0b0b0;stroke-linecap:square;stroke-width:0.8;\"/>\n     </g>\n     <g id=\"line2d_20\">\n      <g>\n       <use style=\"stroke:#000000;stroke-width:0.8;\" x=\"43.78125\" xlink:href=\"#m0b89f01ca3\" y=\"65.806125\"/>\n      </g>\n     </g>\n     <g id=\"text_10\">\n      <!-- 0.8 -->\n      <g transform=\"translate(20.878125 69.605344)scale(0.1 -0.1)\">\n       <defs>\n        <path d=\"M 31.78125 34.625 \nQ 24.75 34.625 20.71875 30.859375 \nQ 16.703125 27.09375 16.703125 20.515625 \nQ 16.703125 13.921875 20.71875 10.15625 \nQ 24.75 6.390625 31.78125 6.390625 \nQ 38.8125 6.390625 42.859375 10.171875 \nQ 46.921875 13.96875 46.921875 20.515625 \nQ 46.921875 27.09375 42.890625 30.859375 \nQ 38.875 34.625 31.78125 34.625 \nz\nM 21.921875 38.8125 \nQ 15.578125 40.375 12.03125 44.71875 \nQ 8.5 49.078125 8.5 55.328125 \nQ 8.5 64.0625 14.71875 69.140625 \nQ 20.953125 74.21875 31.78125 74.21875 \nQ 42.671875 74.21875 48.875 69.140625 \nQ 55.078125 64.0625 55.078125 55.328125 \nQ 55.078125 49.078125 51.53125 44.71875 \nQ 48 40.375 41.703125 38.8125 \nQ 48.828125 37.15625 52.796875 32.3125 \nQ 56.78125 27.484375 56.78125 20.515625 \nQ 56.78125 9.90625 50.3125 4.234375 \nQ 43.84375 -1.421875 31.78125 -1.421875 \nQ 19.734375 -1.421875 13.25 4.234375 \nQ 6.78125 9.90625 6.78125 20.515625 \nQ 6.78125 27.484375 10.78125 32.3125 \nQ 14.796875 37.15625 21.921875 38.8125 \nz\nM 18.3125 54.390625 \nQ 18.3125 48.734375 21.84375 45.5625 \nQ 25.390625 42.390625 31.78125 42.390625 \nQ 38.140625 42.390625 41.71875 45.5625 \nQ 45.3125 48.734375 45.3125 54.390625 \nQ 45.3125 60.0625 41.71875 63.234375 \nQ 38.140625 66.40625 31.78125 66.40625 \nQ 25.390625 66.40625 21.84375 63.234375 \nQ 18.3125 60.0625 18.3125 54.390625 \nz\n\" id=\"DejaVuSans-56\"/>\n       </defs>\n       <use xlink:href=\"#DejaVuSans-48\"/>\n       <use x=\"63.623047\" xlink:href=\"#DejaVuSans-46\"/>\n       <use x=\"95.410156\" xlink:href=\"#DejaVuSans-56\"/>\n      </g>\n     </g>\n    </g>\n    <g id=\"ytick_6\">\n     <g id=\"line2d_21\">\n      <path clip-path=\"url(#p307cd66db2)\" d=\"M 43.78125 22.318125 \nL 266.98125 22.318125 \n\" style=\"fill:none;stroke:#b0b0b0;stroke-linecap:square;stroke-width:0.8;\"/>\n     </g>\n     <g id=\"line2d_22\">\n      <g>\n       <use style=\"stroke:#000000;stroke-width:0.8;\" x=\"43.78125\" xlink:href=\"#m0b89f01ca3\" y=\"22.318125\"/>\n      </g>\n     </g>\n     <g id=\"text_11\">\n      <!-- 1.0 -->\n      <g transform=\"translate(20.878125 26.117344)scale(0.1 -0.1)\">\n       <use xlink:href=\"#DejaVuSans-49\"/>\n       <use x=\"63.623047\" xlink:href=\"#DejaVuSans-46\"/>\n       <use x=\"95.410156\" xlink:href=\"#DejaVuSans-48\"/>\n      </g>\n     </g>\n    </g>\n    <g id=\"text_12\">\n     <!-- Jaccard Similarity Score -->\n     <g transform=\"translate(14.798438 190.102188)rotate(-90)scale(0.1 -0.1)\">\n      <defs>\n       <path d=\"M 9.8125 72.90625 \nL 19.671875 72.90625 \nL 19.671875 5.078125 \nQ 19.671875 -8.109375 14.671875 -14.0625 \nQ 9.671875 -20.015625 -1.421875 -20.015625 \nL -5.171875 -20.015625 \nL -5.171875 -11.71875 \nL -2.09375 -11.71875 \nQ 4.4375 -11.71875 7.125 -8.046875 \nQ 9.8125 -4.390625 9.8125 5.078125 \nz\n\" id=\"DejaVuSans-74\"/>\n       <path d=\"M 34.28125 27.484375 \nQ 23.390625 27.484375 19.1875 25 \nQ 14.984375 22.515625 14.984375 16.5 \nQ 14.984375 11.71875 18.140625 8.90625 \nQ 21.296875 6.109375 26.703125 6.109375 \nQ 34.1875 6.109375 38.703125 11.40625 \nQ 43.21875 16.703125 43.21875 25.484375 \nL 43.21875 27.484375 \nz\nM 52.203125 31.203125 \nL 52.203125 0 \nL 43.21875 0 \nL 43.21875 8.296875 \nQ 40.140625 3.328125 35.546875 0.953125 \nQ 30.953125 -1.421875 24.3125 -1.421875 \nQ 15.921875 -1.421875 10.953125 3.296875 \nQ 6 8.015625 6 15.921875 \nQ 6 25.140625 12.171875 29.828125 \nQ 18.359375 34.515625 30.609375 34.515625 \nL 43.21875 34.515625 \nL 43.21875 35.40625 \nQ 43.21875 41.609375 39.140625 45 \nQ 35.0625 48.390625 27.6875 48.390625 \nQ 23 48.390625 18.546875 47.265625 \nQ 14.109375 46.140625 10.015625 43.890625 \nL 10.015625 52.203125 \nQ 14.9375 54.109375 19.578125 55.046875 \nQ 24.21875 56 28.609375 56 \nQ 40.484375 56 46.34375 49.84375 \nQ 52.203125 43.703125 52.203125 31.203125 \nz\n\" id=\"DejaVuSans-97\"/>\n       <path d=\"M 48.78125 52.59375 \nL 48.78125 44.1875 \nQ 44.96875 46.296875 41.140625 47.34375 \nQ 37.3125 48.390625 33.40625 48.390625 \nQ 24.65625 48.390625 19.8125 42.84375 \nQ 14.984375 37.3125 14.984375 27.296875 \nQ 14.984375 17.28125 19.8125 11.734375 \nQ 24.65625 6.203125 33.40625 6.203125 \nQ 37.3125 6.203125 41.140625 7.25 \nQ 44.96875 8.296875 48.78125 10.40625 \nL 48.78125 2.09375 \nQ 45.015625 0.34375 40.984375 -0.53125 \nQ 36.96875 -1.421875 32.421875 -1.421875 \nQ 20.0625 -1.421875 12.78125 6.34375 \nQ 5.515625 14.109375 5.515625 27.296875 \nQ 5.515625 40.671875 12.859375 48.328125 \nQ 20.21875 56 33.015625 56 \nQ 37.15625 56 41.109375 55.140625 \nQ 45.0625 54.296875 48.78125 52.59375 \nz\n\" id=\"DejaVuSans-99\"/>\n       <path d=\"M 41.109375 46.296875 \nQ 39.59375 47.171875 37.8125 47.578125 \nQ 36.03125 48 33.890625 48 \nQ 26.265625 48 22.1875 43.046875 \nQ 18.109375 38.09375 18.109375 28.8125 \nL 18.109375 0 \nL 9.078125 0 \nL 9.078125 54.6875 \nL 18.109375 54.6875 \nL 18.109375 46.1875 \nQ 20.953125 51.171875 25.484375 53.578125 \nQ 30.03125 56 36.53125 56 \nQ 37.453125 56 38.578125 55.875 \nQ 39.703125 55.765625 41.0625 55.515625 \nz\n\" id=\"DejaVuSans-114\"/>\n       <path d=\"M 45.40625 46.390625 \nL 45.40625 75.984375 \nL 54.390625 75.984375 \nL 54.390625 0 \nL 45.40625 0 \nL 45.40625 8.203125 \nQ 42.578125 3.328125 38.25 0.953125 \nQ 33.9375 -1.421875 27.875 -1.421875 \nQ 17.96875 -1.421875 11.734375 6.484375 \nQ 5.515625 14.40625 5.515625 27.296875 \nQ 5.515625 40.1875 11.734375 48.09375 \nQ 17.96875 56 27.875 56 \nQ 33.9375 56 38.25 53.625 \nQ 42.578125 51.265625 45.40625 46.390625 \nz\nM 14.796875 27.296875 \nQ 14.796875 17.390625 18.875 11.75 \nQ 22.953125 6.109375 30.078125 6.109375 \nQ 37.203125 6.109375 41.296875 11.75 \nQ 45.40625 17.390625 45.40625 27.296875 \nQ 45.40625 37.203125 41.296875 42.84375 \nQ 37.203125 48.484375 30.078125 48.484375 \nQ 22.953125 48.484375 18.875 42.84375 \nQ 14.796875 37.203125 14.796875 27.296875 \nz\n\" id=\"DejaVuSans-100\"/>\n       <path id=\"DejaVuSans-32\"/>\n       <path d=\"M 53.515625 70.515625 \nL 53.515625 60.890625 \nQ 47.90625 63.578125 42.921875 64.890625 \nQ 37.9375 66.21875 33.296875 66.21875 \nQ 25.25 66.21875 20.875 63.09375 \nQ 16.5 59.96875 16.5 54.203125 \nQ 16.5 49.359375 19.40625 46.890625 \nQ 22.3125 44.4375 30.421875 42.921875 \nL 36.375 41.703125 \nQ 47.40625 39.59375 52.65625 34.296875 \nQ 57.90625 29 57.90625 20.125 \nQ 57.90625 9.515625 50.796875 4.046875 \nQ 43.703125 -1.421875 29.984375 -1.421875 \nQ 24.8125 -1.421875 18.96875 -0.25 \nQ 13.140625 0.921875 6.890625 3.21875 \nL 6.890625 13.375 \nQ 12.890625 10.015625 18.65625 8.296875 \nQ 24.421875 6.59375 29.984375 6.59375 \nQ 38.421875 6.59375 43.015625 9.90625 \nQ 47.609375 13.234375 47.609375 19.390625 \nQ 47.609375 24.75 44.3125 27.78125 \nQ 41.015625 30.8125 33.5 32.328125 \nL 27.484375 33.5 \nQ 16.453125 35.6875 11.515625 40.375 \nQ 6.59375 45.0625 6.59375 53.421875 \nQ 6.59375 63.09375 13.40625 68.65625 \nQ 20.21875 74.21875 32.171875 74.21875 \nQ 37.3125 74.21875 42.625 73.28125 \nQ 47.953125 72.359375 53.515625 70.515625 \nz\n\" id=\"DejaVuSans-83\"/>\n       <path d=\"M 9.421875 54.6875 \nL 18.40625 54.6875 \nL 18.40625 0 \nL 9.421875 0 \nz\nM 9.421875 75.984375 \nL 18.40625 75.984375 \nL 18.40625 64.59375 \nL 9.421875 64.59375 \nz\n\" id=\"DejaVuSans-105\"/>\n       <path d=\"M 52 44.1875 \nQ 55.375 50.25 60.0625 53.125 \nQ 64.75 56 71.09375 56 \nQ 79.640625 56 84.28125 50.015625 \nQ 88.921875 44.046875 88.921875 33.015625 \nL 88.921875 0 \nL 79.890625 0 \nL 79.890625 32.71875 \nQ 79.890625 40.578125 77.09375 44.375 \nQ 74.3125 48.1875 68.609375 48.1875 \nQ 61.625 48.1875 57.5625 43.546875 \nQ 53.515625 38.921875 53.515625 30.90625 \nL 53.515625 0 \nL 44.484375 0 \nL 44.484375 32.71875 \nQ 44.484375 40.625 41.703125 44.40625 \nQ 38.921875 48.1875 33.109375 48.1875 \nQ 26.21875 48.1875 22.15625 43.53125 \nQ 18.109375 38.875 18.109375 30.90625 \nL 18.109375 0 \nL 9.078125 0 \nL 9.078125 54.6875 \nL 18.109375 54.6875 \nL 18.109375 46.1875 \nQ 21.1875 51.21875 25.484375 53.609375 \nQ 29.78125 56 35.6875 56 \nQ 41.65625 56 45.828125 52.96875 \nQ 50 49.953125 52 44.1875 \nz\n\" id=\"DejaVuSans-109\"/>\n       <path d=\"M 9.421875 75.984375 \nL 18.40625 75.984375 \nL 18.40625 0 \nL 9.421875 0 \nz\n\" id=\"DejaVuSans-108\"/>\n       <path d=\"M 18.3125 70.21875 \nL 18.3125 54.6875 \nL 36.8125 54.6875 \nL 36.8125 47.703125 \nL 18.3125 47.703125 \nL 18.3125 18.015625 \nQ 18.3125 11.328125 20.140625 9.421875 \nQ 21.96875 7.515625 27.59375 7.515625 \nL 36.8125 7.515625 \nL 36.8125 0 \nL 27.59375 0 \nQ 17.1875 0 13.234375 3.875 \nQ 9.28125 7.765625 9.28125 18.015625 \nL 9.28125 47.703125 \nL 2.6875 47.703125 \nL 2.6875 54.6875 \nL 9.28125 54.6875 \nL 9.28125 70.21875 \nz\n\" id=\"DejaVuSans-116\"/>\n       <path d=\"M 32.171875 -5.078125 \nQ 28.375 -14.84375 24.75 -17.8125 \nQ 21.140625 -20.796875 15.09375 -20.796875 \nL 7.90625 -20.796875 \nL 7.90625 -13.28125 \nL 13.1875 -13.28125 \nQ 16.890625 -13.28125 18.9375 -11.515625 \nQ 21 -9.765625 23.484375 -3.21875 \nL 25.09375 0.875 \nL 2.984375 54.6875 \nL 12.5 54.6875 \nL 29.59375 11.921875 \nL 46.6875 54.6875 \nL 56.203125 54.6875 \nz\n\" id=\"DejaVuSans-121\"/>\n       <path d=\"M 30.609375 48.390625 \nQ 23.390625 48.390625 19.1875 42.75 \nQ 14.984375 37.109375 14.984375 27.296875 \nQ 14.984375 17.484375 19.15625 11.84375 \nQ 23.34375 6.203125 30.609375 6.203125 \nQ 37.796875 6.203125 41.984375 11.859375 \nQ 46.1875 17.53125 46.1875 27.296875 \nQ 46.1875 37.015625 41.984375 42.703125 \nQ 37.796875 48.390625 30.609375 48.390625 \nz\nM 30.609375 56 \nQ 42.328125 56 49.015625 48.375 \nQ 55.71875 40.765625 55.71875 27.296875 \nQ 55.71875 13.875 49.015625 6.21875 \nQ 42.328125 -1.421875 30.609375 -1.421875 \nQ 18.84375 -1.421875 12.171875 6.21875 \nQ 5.515625 13.875 5.515625 27.296875 \nQ 5.515625 40.765625 12.171875 48.375 \nQ 18.84375 56 30.609375 56 \nz\n\" id=\"DejaVuSans-111\"/>\n       <path d=\"M 56.203125 29.59375 \nL 56.203125 25.203125 \nL 14.890625 25.203125 \nQ 15.484375 15.921875 20.484375 11.0625 \nQ 25.484375 6.203125 34.421875 6.203125 \nQ 39.59375 6.203125 44.453125 7.46875 \nQ 49.3125 8.734375 54.109375 11.28125 \nL 54.109375 2.78125 \nQ 49.265625 0.734375 44.1875 -0.34375 \nQ 39.109375 -1.421875 33.890625 -1.421875 \nQ 20.796875 -1.421875 13.15625 6.1875 \nQ 5.515625 13.8125 5.515625 26.8125 \nQ 5.515625 40.234375 12.765625 48.109375 \nQ 20.015625 56 32.328125 56 \nQ 43.359375 56 49.78125 48.890625 \nQ 56.203125 41.796875 56.203125 29.59375 \nz\nM 47.21875 32.234375 \nQ 47.125 39.59375 43.09375 43.984375 \nQ 39.0625 48.390625 32.421875 48.390625 \nQ 24.90625 48.390625 20.390625 44.140625 \nQ 15.875 39.890625 15.1875 32.171875 \nz\n\" id=\"DejaVuSans-101\"/>\n      </defs>\n      <use xlink:href=\"#DejaVuSans-74\"/>\n      <use x=\"29.492188\" xlink:href=\"#DejaVuSans-97\"/>\n      <use x=\"90.771484\" xlink:href=\"#DejaVuSans-99\"/>\n      <use x=\"145.751953\" xlink:href=\"#DejaVuSans-99\"/>\n      <use x=\"200.732422\" xlink:href=\"#DejaVuSans-97\"/>\n      <use x=\"262.011719\" xlink:href=\"#DejaVuSans-114\"/>\n      <use x=\"301.375\" xlink:href=\"#DejaVuSans-100\"/>\n      <use x=\"364.851562\" xlink:href=\"#DejaVuSans-32\"/>\n      <use x=\"396.638672\" xlink:href=\"#DejaVuSans-83\"/>\n      <use x=\"460.115234\" xlink:href=\"#DejaVuSans-105\"/>\n      <use x=\"487.898438\" xlink:href=\"#DejaVuSans-109\"/>\n      <use x=\"585.310547\" xlink:href=\"#DejaVuSans-105\"/>\n      <use x=\"613.09375\" xlink:href=\"#DejaVuSans-108\"/>\n      <use x=\"640.876953\" xlink:href=\"#DejaVuSans-97\"/>\n      <use x=\"702.15625\" xlink:href=\"#DejaVuSans-114\"/>\n      <use x=\"743.269531\" xlink:href=\"#DejaVuSans-105\"/>\n      <use x=\"771.052734\" xlink:href=\"#DejaVuSans-116\"/>\n      <use x=\"810.261719\" xlink:href=\"#DejaVuSans-121\"/>\n      <use x=\"869.441406\" xlink:href=\"#DejaVuSans-32\"/>\n      <use x=\"901.228516\" xlink:href=\"#DejaVuSans-83\"/>\n      <use x=\"964.705078\" xlink:href=\"#DejaVuSans-99\"/>\n      <use x=\"1019.685547\" xlink:href=\"#DejaVuSans-111\"/>\n      <use x=\"1080.867188\" xlink:href=\"#DejaVuSans-114\"/>\n      <use x=\"1119.730469\" xlink:href=\"#DejaVuSans-101\"/>\n     </g>\n    </g>\n   </g>\n   <g id=\"line2d_23\">\n    <path clip-path=\"url(#p307cd66db2)\" d=\"M 53.926705 205.696745 \nL 104.653977 205.123014 \nL 155.38125 202.210777 \nL 206.108523 195.012891 \nL 256.835795 197.632862 \n\" style=\"fill:none;stroke:#0000ff;stroke-linecap:square;stroke-width:1.5;\"/>\n   </g>\n   <g id=\"line2d_24\">\n    <path clip-path=\"url(#p307cd66db2)\" d=\"M 53.926705 187.023507 \nL 104.653977 196.017288 \nL 155.38125 193.597275 \nL 206.108523 188.54053 \nL 256.835795 188.709088 \n\" style=\"fill:none;stroke:#008000;stroke-linecap:square;stroke-width:1.5;\"/>\n   </g>\n   <g id=\"patch_3\">\n    <path d=\"M 43.78125 239.758125 \nL 43.78125 22.318125 \n\" style=\"fill:none;stroke:#000000;stroke-linecap:square;stroke-linejoin:miter;stroke-width:0.8;\"/>\n   </g>\n   <g id=\"patch_4\">\n    <path d=\"M 266.98125 239.758125 \nL 266.98125 22.318125 \n\" style=\"fill:none;stroke:#000000;stroke-linecap:square;stroke-linejoin:miter;stroke-width:0.8;\"/>\n   </g>\n   <g id=\"patch_5\">\n    <path d=\"M 43.78125 239.758125 \nL 266.98125 239.758125 \n\" style=\"fill:none;stroke:#000000;stroke-linecap:square;stroke-linejoin:miter;stroke-width:0.8;\"/>\n   </g>\n   <g id=\"patch_6\">\n    <path d=\"M 43.78125 22.318125 \nL 266.98125 22.318125 \n\" style=\"fill:none;stroke:#000000;stroke-linecap:square;stroke-linejoin:miter;stroke-width:0.8;\"/>\n   </g>\n   <g id=\"text_13\">\n    <!-- CC Jaccard Score -->\n    <g transform=\"translate(104.492812 16.318125)scale(0.12 -0.12)\">\n     <defs>\n      <path d=\"M 64.40625 67.28125 \nL 64.40625 56.890625 \nQ 59.421875 61.53125 53.78125 63.8125 \nQ 48.140625 66.109375 41.796875 66.109375 \nQ 29.296875 66.109375 22.65625 58.46875 \nQ 16.015625 50.828125 16.015625 36.375 \nQ 16.015625 21.96875 22.65625 14.328125 \nQ 29.296875 6.6875 41.796875 6.6875 \nQ 48.140625 6.6875 53.78125 8.984375 \nQ 59.421875 11.28125 64.40625 15.921875 \nL 64.40625 5.609375 \nQ 59.234375 2.09375 53.4375 0.328125 \nQ 47.65625 -1.421875 41.21875 -1.421875 \nQ 24.65625 -1.421875 15.125 8.703125 \nQ 5.609375 18.84375 5.609375 36.375 \nQ 5.609375 53.953125 15.125 64.078125 \nQ 24.65625 74.21875 41.21875 74.21875 \nQ 47.75 74.21875 53.53125 72.484375 \nQ 59.328125 70.75 64.40625 67.28125 \nz\n\" id=\"DejaVuSans-67\"/>\n     </defs>\n     <use xlink:href=\"#DejaVuSans-67\"/>\n     <use x=\"69.824219\" xlink:href=\"#DejaVuSans-67\"/>\n     <use x=\"139.648438\" xlink:href=\"#DejaVuSans-32\"/>\n     <use x=\"171.435547\" xlink:href=\"#DejaVuSans-74\"/>\n     <use x=\"200.927734\" xlink:href=\"#DejaVuSans-97\"/>\n     <use x=\"262.207031\" xlink:href=\"#DejaVuSans-99\"/>\n     <use x=\"317.1875\" xlink:href=\"#DejaVuSans-99\"/>\n     <use x=\"372.167969\" xlink:href=\"#DejaVuSans-97\"/>\n     <use x=\"433.447266\" xlink:href=\"#DejaVuSans-114\"/>\n     <use x=\"472.810547\" xlink:href=\"#DejaVuSans-100\"/>\n     <use x=\"536.287109\" xlink:href=\"#DejaVuSans-32\"/>\n     <use x=\"568.074219\" xlink:href=\"#DejaVuSans-83\"/>\n     <use x=\"631.550781\" xlink:href=\"#DejaVuSans-99\"/>\n     <use x=\"686.53125\" xlink:href=\"#DejaVuSans-111\"/>\n     <use x=\"747.712891\" xlink:href=\"#DejaVuSans-114\"/>\n     <use x=\"786.576172\" xlink:href=\"#DejaVuSans-101\"/>\n    </g>\n   </g>\n   <g id=\"legend_1\">\n    <g id=\"patch_7\">\n     <path d=\"M 120.764062 59.674375 \nL 259.98125 59.674375 \nQ 261.98125 59.674375 261.98125 57.674375 \nL 261.98125 29.318125 \nQ 261.98125 27.318125 259.98125 27.318125 \nL 120.764062 27.318125 \nQ 118.764062 27.318125 118.764062 29.318125 \nL 118.764062 57.674375 \nQ 118.764062 59.674375 120.764062 59.674375 \nz\n\" style=\"fill:#ffffff;opacity:0.8;stroke:#cccccc;stroke-linejoin:miter;\"/>\n    </g>\n    <g id=\"line2d_25\">\n     <path d=\"M 122.764062 35.416562 \nL 142.764062 35.416562 \n\" style=\"fill:none;stroke:#0000ff;stroke-linecap:square;stroke-width:1.5;\"/>\n    </g>\n    <g id=\"line2d_26\"/>\n    <g id=\"text_14\">\n     <!-- Frames Jaccard Score -->\n     <g transform=\"translate(150.764062 38.916562)scale(0.1 -0.1)\">\n      <defs>\n       <path d=\"M 9.8125 72.90625 \nL 51.703125 72.90625 \nL 51.703125 64.59375 \nL 19.671875 64.59375 \nL 19.671875 43.109375 \nL 48.578125 43.109375 \nL 48.578125 34.8125 \nL 19.671875 34.8125 \nL 19.671875 0 \nL 9.8125 0 \nz\n\" id=\"DejaVuSans-70\"/>\n       <path d=\"M 44.28125 53.078125 \nL 44.28125 44.578125 \nQ 40.484375 46.53125 36.375 47.5 \nQ 32.28125 48.484375 27.875 48.484375 \nQ 21.1875 48.484375 17.84375 46.4375 \nQ 14.5 44.390625 14.5 40.28125 \nQ 14.5 37.15625 16.890625 35.375 \nQ 19.28125 33.59375 26.515625 31.984375 \nL 29.59375 31.296875 \nQ 39.15625 29.25 43.1875 25.515625 \nQ 47.21875 21.78125 47.21875 15.09375 \nQ 47.21875 7.46875 41.1875 3.015625 \nQ 35.15625 -1.421875 24.609375 -1.421875 \nQ 20.21875 -1.421875 15.453125 -0.5625 \nQ 10.6875 0.296875 5.421875 2 \nL 5.421875 11.28125 \nQ 10.40625 8.6875 15.234375 7.390625 \nQ 20.0625 6.109375 24.8125 6.109375 \nQ 31.15625 6.109375 34.5625 8.28125 \nQ 37.984375 10.453125 37.984375 14.40625 \nQ 37.984375 18.0625 35.515625 20.015625 \nQ 33.0625 21.96875 24.703125 23.78125 \nL 21.578125 24.515625 \nQ 13.234375 26.265625 9.515625 29.90625 \nQ 5.8125 33.546875 5.8125 39.890625 \nQ 5.8125 47.609375 11.28125 51.796875 \nQ 16.75 56 26.8125 56 \nQ 31.78125 56 36.171875 55.265625 \nQ 40.578125 54.546875 44.28125 53.078125 \nz\n\" id=\"DejaVuSans-115\"/>\n      </defs>\n      <use xlink:href=\"#DejaVuSans-70\"/>\n      <use x=\"50.269531\" xlink:href=\"#DejaVuSans-114\"/>\n      <use x=\"91.382812\" xlink:href=\"#DejaVuSans-97\"/>\n      <use x=\"152.662109\" xlink:href=\"#DejaVuSans-109\"/>\n      <use x=\"250.074219\" xlink:href=\"#DejaVuSans-101\"/>\n      <use x=\"311.597656\" xlink:href=\"#DejaVuSans-115\"/>\n      <use x=\"363.697266\" xlink:href=\"#DejaVuSans-32\"/>\n      <use x=\"395.484375\" xlink:href=\"#DejaVuSans-74\"/>\n      <use x=\"424.976562\" xlink:href=\"#DejaVuSans-97\"/>\n      <use x=\"486.255859\" xlink:href=\"#DejaVuSans-99\"/>\n      <use x=\"541.236328\" xlink:href=\"#DejaVuSans-99\"/>\n      <use x=\"596.216797\" xlink:href=\"#DejaVuSans-97\"/>\n      <use x=\"657.496094\" xlink:href=\"#DejaVuSans-114\"/>\n      <use x=\"696.859375\" xlink:href=\"#DejaVuSans-100\"/>\n      <use x=\"760.335938\" xlink:href=\"#DejaVuSans-32\"/>\n      <use x=\"792.123047\" xlink:href=\"#DejaVuSans-83\"/>\n      <use x=\"855.599609\" xlink:href=\"#DejaVuSans-99\"/>\n      <use x=\"910.580078\" xlink:href=\"#DejaVuSans-111\"/>\n      <use x=\"971.761719\" xlink:href=\"#DejaVuSans-114\"/>\n      <use x=\"1010.625\" xlink:href=\"#DejaVuSans-101\"/>\n     </g>\n    </g>\n    <g id=\"line2d_27\">\n     <path d=\"M 122.764062 50.094687 \nL 142.764062 50.094687 \n\" style=\"fill:none;stroke:#008000;stroke-linecap:square;stroke-width:1.5;\"/>\n    </g>\n    <g id=\"line2d_28\"/>\n    <g id=\"text_15\">\n     <!-- Video Jaccard Score -->\n     <g transform=\"translate(150.764062 53.594687)scale(0.1 -0.1)\">\n      <defs>\n       <path d=\"M 28.609375 0 \nL 0.78125 72.90625 \nL 11.078125 72.90625 \nL 34.1875 11.53125 \nL 57.328125 72.90625 \nL 67.578125 72.90625 \nL 39.796875 0 \nz\n\" id=\"DejaVuSans-86\"/>\n      </defs>\n      <use xlink:href=\"#DejaVuSans-86\"/>\n      <use x=\"66.158203\" xlink:href=\"#DejaVuSans-105\"/>\n      <use x=\"93.941406\" xlink:href=\"#DejaVuSans-100\"/>\n      <use x=\"157.417969\" xlink:href=\"#DejaVuSans-101\"/>\n      <use x=\"218.941406\" xlink:href=\"#DejaVuSans-111\"/>\n      <use x=\"280.123047\" xlink:href=\"#DejaVuSans-32\"/>\n      <use x=\"311.910156\" xlink:href=\"#DejaVuSans-74\"/>\n      <use x=\"341.402344\" xlink:href=\"#DejaVuSans-97\"/>\n      <use x=\"402.681641\" xlink:href=\"#DejaVuSans-99\"/>\n      <use x=\"457.662109\" xlink:href=\"#DejaVuSans-99\"/>\n      <use x=\"512.642578\" xlink:href=\"#DejaVuSans-97\"/>\n      <use x=\"573.921875\" xlink:href=\"#DejaVuSans-114\"/>\n      <use x=\"613.285156\" xlink:href=\"#DejaVuSans-100\"/>\n      <use x=\"676.761719\" xlink:href=\"#DejaVuSans-32\"/>\n      <use x=\"708.548828\" xlink:href=\"#DejaVuSans-83\"/>\n      <use x=\"772.025391\" xlink:href=\"#DejaVuSans-99\"/>\n      <use x=\"827.005859\" xlink:href=\"#DejaVuSans-111\"/>\n      <use x=\"888.1875\" xlink:href=\"#DejaVuSans-114\"/>\n      <use x=\"927.050781\" xlink:href=\"#DejaVuSans-101\"/>\n     </g>\n    </g>\n   </g>\n  </g>\n </g>\n <defs>\n  <clipPath id=\"p307cd66db2\">\n   <rect height=\"217.44\" width=\"223.2\" x=\"43.78125\" y=\"22.318125\"/>\n  </clipPath>\n </defs>\n</svg>\n",
      "image/png": "[encoded data removed]"
     },
     "metadata": {
      "needs_background": "light"
     }
    }
   ],
   "source": [
    "fig, ax = plt.subplots(figsize=(4, 4))\n",
    "ax.grid(True)\n",
    "ax.set_title('CC Jaccard Score')\n",
    "ax.set_xticks(range(0,7))\n",
    "ax.set_xticklabels(range(0,7))\n",
    "ax.set_ylabel('Jaccard Similarity Score')\n",
    "ax.set_ylim([0.00, 1.0])\n",
    "\n",
    "plt.plot(frames_mean_jac_test, label='Frames Jaccard Score', color='blue')\n",
    "plt.plot(videos_mean_jac_test, label='Video Jaccard Score', color='green')\n",
    "plt.legend(loc='best')\n",
    "plt.show()"
   ]
  },
  {
   "cell_type": "code",
   "execution_count": null,
   "metadata": {},
   "outputs": [],
   "source": [
    "videos_mean_jac_test"
   ]
  },
  {
   "cell_type": "code",
   "execution_count": null,
   "metadata": {},
   "outputs": [],
   "source": [
    "fig, ax = plt.subplots(figsize=(4, 4))\n",
    "ax.grid(True)\n",
    "ax.set_title('CC Hamming Loss')\n",
    "ax.set_xticks(range(0,7))\n",
    "ax.set_xticklabels(range(0,7))\n",
    "ax.set_ylabel('Hamming Distance Loss')\n",
    "ax.set_ylim([0.00, 1.0])\n",
    "# ax.legend(('Frames Hamming Loss','Video Hamming Loss' ))\n",
    "plt.plot(frames_mean_hm_test, label='Frames Hamming Loss', color='red')\n",
    "plt.plot(videos_mean_hm_test, label='Video Hamming Loss', color='green')\n",
    "plt.legend(loc='upper right')\n",
    "plt.show()"
   ]
  },
  {
   "cell_type": "code",
   "execution_count": 73,
   "metadata": {},
   "outputs": [
    {
     "output_type": "stream",
     "name": "stdout",
     "text": [
      "1-th split: train: 98, validation: 25\n",
      "Training+validation data size:  8123\n",
      "Training data size:  8123\n",
      "Validation data size:  2535\n",
      "Validation Hamming Loss:\n",
      "  0.21100950331719562\n",
      "Test Hamming Loss:\n",
      "  0.21598076838251512\n",
      "Test Jaccard Score:\n",
      "  0.18264365425937476\n",
      "2-th split: train: 98, validation: 25\n",
      "Training+validation data size:  8810\n",
      "Training data size:  8810\n",
      "Validation data size:  1848\n",
      "Validation Hamming Loss:\n",
      "  0.24173553719008264\n",
      "Test Hamming Loss:\n",
      "  0.2227515327952009\n",
      "Test Jaccard Score:\n",
      "  0.1641528615327742\n",
      "3-th split: train: 98, validation: 25\n",
      "Training+validation data size:  8146\n",
      "Training data size:  8146\n",
      "Validation data size:  2512\n",
      "Validation Hamming Loss:\n",
      "  0.24413723219455705\n",
      "Test Hamming Loss:\n",
      "  0.2145251643068237\n",
      "Test Jaccard Score:\n",
      "  0.16680702848825119\n",
      "4-th split: train: 99, validation: 24\n",
      "Training+validation data size:  8447\n",
      "Training data size:  8447\n",
      "Validation data size:  2211\n",
      "Validation Hamming Loss:\n",
      "  0.23230952674643313\n",
      "Test Hamming Loss:\n",
      "  0.20806316439504213\n",
      "Test Jaccard Score:\n",
      "  0.19065063191700746\n",
      "5-th split: train: 99, validation: 24\n",
      "Training+validation data size:  9106\n",
      "Training data size:  9106\n",
      "Validation data size:  1552\n",
      "Validation Hamming Loss:\n",
      "  0.21959934395501407\n",
      "Test Hamming Loss:\n",
      "  0.20552688456618587\n",
      "Test Jaccard Score:\n",
      "  0.19355664148240567\n"
     ]
    }
   ],
   "source": [
    "from skmultilearn.adapt import MLkNN\n",
    "import sklearn.metrics as metrics\n",
    "\n",
    "## MLTSVM is not compatible with later versions of numpy\n",
    "\n",
    "kfold = KFold(5, True, 1)\n",
    "frames_mean_hm_test = []\n",
    "frames_mean_jac_test = []\n",
    "videos_mean_jac_test = []\n",
    "videos_mean_hm_test = []\n",
    "col_indices = {i:label for (i,label) in enumerate(label_cols)}\n",
    "\n",
    "splits = kfold.split(train_videos)\n",
    "for (i, (train, test)) in enumerate(splits):\n",
    "    print('%d-th split: train: %d, validation: %d' % (i+1, len(videos[train]), len(videos[test])))\n",
    "    train_df = X_df[X_df['filename'].isin(train_videos[train])]\n",
    "    train_metadata = train_df[metadata_cols]\n",
    "    print('Training+validation data size: ', train_df.shape[0])\n",
    "    y_train = train_df[label_cols].values\n",
    "    X_train = train_df.drop(columns = cols_to_drop).values\n",
    "    valid_df = X_df[X_df['filename'].isin(train_videos[test])]\n",
    "    y_valid = valid_df[label_cols].values\n",
    "    X_valid = valid_df.drop(columns = cols_to_drop).values\n",
    "    \n",
    "    print('Training data size: ', X_train.shape[0])\n",
    "    print('Validation data size: ', X_valid.shape[0])\n",
    "    classifier = MLkNN(k=5)\n",
    "    # classifier = MLTSVM(c_k = 2**-1)\n",
    "    prediction = classifier.fit(X_train, y_train).predict(X_valid)\n",
    "\n",
    "    # Predicting on validation set\n",
    "    print(\"Validation Hamming Loss:\\n \", metrics.hamming_loss(y_valid, prediction))\n",
    "\n",
    "    # Predicting on test set\n",
    "    y_test_pred = classifier.predict(X_test)\n",
    "    hm_loss = metrics.hamming_loss(y_test, y_test_pred)\n",
    "    frames_mean_hm_test.append(hm_loss)\n",
    "    print(\"Test Hamming Loss:\\n \", hm_loss)\n",
    "    jac_score = jaccard_score(y_test, y_test_pred,  average='samples')\n",
    "    frames_mean_jac_test.append(jac_score)\n",
    "    print(\"Test Jaccard Score:\\n \", jac_score)\n",
    "\n",
    "    # building test dataframe to vote labels\n",
    "    test_result_df = None\n",
    "    \n",
    "    temp_df = pd.DataFrame(data=y_test_pred.toarray(), columns=label_cols)\n",
    "    test_result_df = pd.concat([metadata_test, temp_df], axis=1)\n",
    "    \n",
    "    # print(test_result_df.head())\n",
    "    video_groups = test_result_df.groupby('filename')[label_cols].apply(lambda x : x.astype(int).sum())\n",
    "    # for name, group in video_groups:\n",
    "    #     print(name)\n",
    "    #     print(group)\n",
    "    #     print(\"\\n\") \n",
    "    ground_truth_video_labels = []\n",
    "    for v in video_groups.index.to_list():\n",
    "        # number of 1s in ground truth labels\n",
    "        ground_truth_video_labels.append(test_df[test_df['filename'] == v].iloc[0][label_cols])\n",
    "        num_1s = test_df[test_df['filename'] == v].iloc[0][label_cols].sum()\n",
    "        num_1s = int(num_1s)\n",
    "        a = np.argsort(video_groups.loc[v].values)\n",
    "        for i in range(len(a) - 1, len(a) - num_1s - 1, -1):\n",
    "            video_groups.loc[v][a[i]] = 1\n",
    "        for i in range(0, len(a) - num_1s):\n",
    "            video_groups.loc[v][a[i]] = 0\n",
    "\n",
    "    j = metrics.jaccard_score(np.array(ground_truth_video_labels,  dtype=int), video_groups.values, average='samples')\n",
    "    h = metrics.hamming_loss(np.array(ground_truth_video_labels,  dtype=int), video_groups.values)\n",
    "    videos_mean_jac_test.append(j)\n",
    "    videos_mean_hm_test.append(h)\n",
    "        "
   ]
  },
  {
   "cell_type": "code",
   "execution_count": null,
   "metadata": {},
   "outputs": [],
   "source": [
    "y_test_pred.shape"
   ]
  },
  {
   "cell_type": "code",
   "execution_count": 74,
   "metadata": {},
   "outputs": [],
   "source": [
    "emotion_mapped_df = None\n",
    "emotion_mapped_df = pd.DataFrame(columns=emotion_cols.tolist(), data=np.zeros((temp_df.shape[0], len(emotion_cols)), dtype=int))\n",
    "emotion_mapped_df['filename'] = test_result_df['filename']\n",
    "for emoji in label_cols.tolist():\n",
    "    indices = temp_df[temp_df[emoji]==1].index\n",
    "    emotions = emoji_map[emoji] # TODO: change to persian_emoji_map for persian\n",
    "    # print(indices)\n",
    "    # print(emotion)\n",
    "    for emotion in emotions:\n",
    "        emotion_mapped_df.at[indices.to_list(), emotion] = 1\n",
    "emotion_video_groups = emotion_mapped_df.groupby('filename')[emotion_cols].sum()\n",
    "ground_truth_video_emotions = []\n",
    "for v in emotion_video_groups.index.to_list():\n",
    "    ground_truth_video_emotions.append(test_df[test_df['filename'] == v].iloc[0][emotion_cols])\n",
    "    num_1s = test_df[test_df['filename'] == v].iloc[0][emotion_cols].sum()\n",
    "    num_1s = int(num_1s)\n",
    "    a = np.argsort(emotion_video_groups.loc[v].values)\n",
    "    for i in range(len(a) - 1, len(a) - num_1s - 1, -1):\n",
    "        emotion_video_groups.loc[v][a[i]] = 1\n",
    "    for i in range(0, len(a) - num_1s):\n",
    "        emotion_video_groups.loc[v][a[i]] = 0\n"
   ]
  },
  {
   "source": [
    "## MLKNN - Categorizing emotions into emojis"
   ],
   "cell_type": "markdown",
   "metadata": {}
  },
  {
   "cell_type": "code",
   "execution_count": 75,
   "metadata": {},
   "outputs": [
    {
     "output_type": "stream",
     "name": "stdout",
     "text": [
      "------------------- Frame-level F1 -----------------\n              precision    recall  f1-score   support\n\n        none       0.22      0.11      0.14       455\n     furious       0.51      0.57      0.54      1185\n       anger       0.21      0.43      0.28       898\n     annoyed       0.41      0.55      0.47      1061\n    contempt       0.35      0.09      0.14      1520\n      hatred       0.13      0.19      0.15       585\n\n   micro avg       0.32      0.34      0.33      5704\n   macro avg       0.30      0.32      0.29      5704\nweighted avg       0.34      0.34      0.31      5704\n samples avg       0.33      0.34      0.30      5704\n\n------------------- Video-level F1 -----------------\n              precision    recall  f1-score   support\n\n        none       0.40      0.40      0.40         5\n     furious       0.33      0.40      0.36        10\n       anger       0.75      0.33      0.46        18\n     annoyed       0.71      0.45      0.56        11\n    contempt       0.17      0.43      0.24         7\n      hatred       0.20      0.25      0.22         4\n\n   micro avg       0.38      0.38      0.38        55\n   macro avg       0.43      0.38      0.37        55\nweighted avg       0.52      0.38      0.41        55\n samples avg       0.36      0.36      0.36        55\n\n"
     ]
    }
   ],
   "source": [
    "print('------------------- Frame-level F1 -----------------')\n",
    "print(metrics.classification_report(emotion_mapped_df.drop('filename', axis=1).values,  y_test_emotions.values, target_names=emotion_cols))\n",
    "print('------------------- Video-level F1 -----------------')\n",
    "print(metrics.classification_report(np.array(ground_truth_video_emotions,  dtype=int),  emotion_video_groups.values, target_names=emotion_cols))"
   ]
  },
  {
   "cell_type": "code",
   "execution_count": 76,
   "metadata": {},
   "outputs": [
    {
     "output_type": "stream",
     "name": "stdout",
     "text": [
      "------------------- Frame-level Jaccard -----------------\n0.25475901665858003\n------------------- Video-level Jaccard -----------------\n0.34108527131782945\n"
     ]
    }
   ],
   "source": [
    "print('------------------- Frame-level Jaccard -----------------')\n",
    "print(metrics.jaccard_score(emotion_mapped_df.drop('filename', axis=1).values,  y_test_emotions.values, average='samples'))\n",
    "print('------------------- Video-level Jaccard -----------------')\n",
    "print(metrics.jaccard_score(np.array(ground_truth_video_emotions,  dtype=int),  emotion_video_groups.values, average='samples'))"
   ]
  },
  {
   "cell_type": "code",
   "execution_count": 77,
   "metadata": {},
   "outputs": [
    {
     "output_type": "stream",
     "name": "stdout",
     "text": [
      "------------------- Frame-level F1 (emoji) -----------------\n                precision    recall  f1-score   support\n\n       neutral       0.09      0.20      0.12       111\n         smirk       0.03      0.06      0.04       132\n       furious       0.57      0.51      0.54      1319\n         weary       0.30      0.20      0.24       363\nexpressionless       0.33      0.28      0.30       537\n      unamused       0.25      0.39      0.30       876\n   rollingeyes       0.30      0.23      0.26       706\n          none       0.02      0.03      0.03       222\n         angry       0.40      0.22      0.28      1637\n       triumph       0.11      0.20      0.14       260\n        hatred       0.32      0.03      0.06       871\n\n     micro avg       0.31      0.27      0.29      7034\n     macro avg       0.25      0.21      0.21      7034\n  weighted avg       0.35      0.27      0.28      7034\n   samples avg       0.31      0.25      0.25      7034\n\n------------------- Video-level F1 (emoji) -----------------\n                precision    recall  f1-score   support\n\n       neutral       0.25      0.33      0.29         3\n         smirk       0.00      0.00      0.00         3\n       furious       0.38      0.50      0.43        10\n         weary       0.00      0.00      0.00         3\nexpressionless       0.33      0.33      0.33         6\n      unamused       0.29      0.56      0.38         9\n   rollingeyes       0.33      0.20      0.25         5\n          none       0.00      0.00      0.00         5\n         angry       0.64      0.50      0.56        14\n       triumph       0.33      0.50      0.40         4\n        hatred       1.00      0.25      0.40         4\n\n     micro avg       0.36      0.36      0.36        66\n     macro avg       0.32      0.29      0.28        66\n  weighted avg       0.38      0.36      0.35        66\n   samples avg       0.30      0.30      0.30        66\n\n"
     ]
    }
   ],
   "source": [
    "print('------------------- Frame-level F1 (emoji) -----------------')\n",
    "print(metrics.classification_report(y_test,  y_test_pred, target_names=label_cols.tolist()))\n",
    "\n",
    "print('------------------- Video-level F1 (emoji) -----------------')\n",
    "print(metrics.classification_report(np.array(ground_truth_video_labels,  dtype=int),  video_groups.values, target_names=label_cols.tolist()))"
   ]
  },
  {
   "cell_type": "code",
   "execution_count": null,
   "metadata": {},
   "outputs": [],
   "source": [
    "print('------------------- Frame-level Jaccard (emoji) -----------------')\n",
    "print(metrics.jaccard_score(y_test,  y_test_pred, average='samples'))\n",
    "\n",
    "print('------------------- Video-level Jaccard (emoji) -----------------')\n",
    "print(metrics.jaccard_score(np.array(ground_truth_video_labels,  dtype=int),  video_groups.values, average='samples'))"
   ]
  },
  {
   "cell_type": "code",
   "execution_count": null,
   "metadata": {},
   "outputs": [],
   "source": [
    "fig, ax = plt.subplots(figsize=(4, 4))\n",
    "ax.grid(True)\n",
    "ax.set_title('MLKNN Jaccard Score')\n",
    "ax.set_xticks(range(0,7))\n",
    "ax.set_xticklabels(range(0,7))\n",
    "ax.set_ylabel('Jaccard Similarity Score')\n",
    "ax.set_ylim([0.0, 1.0])\n",
    "\n",
    "plt.plot(frames_mean_jac_test, label='Frames Jaccard Score', color='blue')\n",
    "plt.plot(videos_mean_jac_test, label='Video Jaccard Score', color='green')\n",
    "plt.legend(loc='best')\n",
    "plt.show()"
   ]
  },
  {
   "cell_type": "code",
   "execution_count": null,
   "metadata": {},
   "outputs": [],
   "source": [
    "fig, ax = plt.subplots(figsize=(4, 4))\n",
    "ax.grid(True)\n",
    "ax.set_title('MLKNN Hamming Loss')\n",
    "ax.set_xticks(range(0,7))\n",
    "ax.set_xticklabels(range(0,7))\n",
    "ax.set_ylabel('Hamming Distance Loss')\n",
    "ax.set_ylim([0.00, 1.])# ax.legend(('Frames Hamming Loss','Video Hamming Loss' ))\n",
    "plt.plot(frames_mean_hm_test, label='Frames Hamming Loss', color='red')\n",
    "plt.plot(videos_mean_hm_test, label='Video Hamming Loss', color='green')\n",
    "plt.legend(loc='upper right')\n",
    "plt.show()"
   ]
  },
  {
   "cell_type": "code",
   "execution_count": null,
   "metadata": {},
   "outputs": [],
   "source": [
    "print(y_test[800:805])\n",
    "print(metadata_test[800:805])"
   ]
  },
  {
   "cell_type": "code",
   "execution_count": null,
   "metadata": {},
   "outputs": [],
   "source": [
    "print(len(y_test))\n",
    "print(len(metadata_test))"
   ]
  },
  {
   "cell_type": "code",
   "execution_count": null,
   "metadata": {},
   "outputs": [],
   "source": [
    "def clean(input: str):\n",
    "    input = 'persian/' + input +\".mp4\"\n",
    "    return input\n",
    "X_df = pd.read_csv('../new_data/Persian/persian_dataset.csv', index_col=None)\n",
    "X_df['filename'] = X_df['filename'].apply(clean)\n",
    "X_df.to_csv('../new_data/Persian/persian_dataset.csv', index=False)"
   ]
  },
  {
   "cell_type": "code",
   "execution_count": null,
   "metadata": {},
   "outputs": [],
   "source": []
  }
 ],
 "metadata": {
  "kernelspec": {
   "display_name": "Python 3",
   "language": "python",
   "name": "python3"
  },
  "language_info": {
   "codemirror_mode": {
    "name": "ipython",
    "version": 2
   },
   "file_extension": ".py",
   "mimetype": "text/x-python",
   "name": "python",
   "nbconvert_exporter": "python",
   "pygments_lexer": "ipython2",
   "version": "3.8.5"
  }
 },
 "nbformat": 4,
 "nbformat_minor": 0
}